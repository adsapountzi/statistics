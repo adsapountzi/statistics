{
 "cells": [
  {
   "cell_type": "markdown",
   "metadata": {},
   "source": [
    "**Problem 1**\n",
    "Suppose the manufacturer claims that the mean lifetime of a light bulb is more than 10,000\n",
    "hours. In a sample of 30 light bulbs, it was found that they only last 9,900 hours on average.\n",
    "Assume the population standard deviation is 120 hours. At .05 significance level, can we reject\n",
    "the claim by the manufacturer?"
   ]
  },
  {
   "cell_type": "code",
   "execution_count": 26,
   "metadata": {},
   "outputs": [
    {
     "data": {
      "text/html": [
       "-4.56435464587638"
      ],
      "text/latex": [
       "-4.56435464587638"
      ],
      "text/markdown": [
       "-4.56435464587638"
      ],
      "text/plain": [
       "[1] -4.564355"
      ]
     },
     "metadata": {},
     "output_type": "display_data"
    },
    {
     "data": {
      "text/html": [
       "-1.64485362695147"
      ],
      "text/latex": [
       "-1.64485362695147"
      ],
      "text/markdown": [
       "-1.64485362695147"
      ],
      "text/plain": [
       "[1] -1.644854"
      ]
     },
     "metadata": {},
     "output_type": "display_data"
    }
   ],
   "source": [
    "\n",
    "n = 30\n",
    "xbar = 9900\n",
    "mu = 10000\n",
    "sigma = 120\n",
    "alpha = 0.05\n",
    "zstat = (xbar - mu)/(sigma/sqrt(n))\n",
    "zstat\n",
    "z = qnorm(1 - alpha)\n",
    "-z"
   ]
  },
  {
   "cell_type": "markdown",
   "metadata": {},
   "source": [
    "The test statistic  is less than the critical value of . Thus, at .05 significance level, we reject the claim that mean lifetime of a light bulb is above 10,000 hours"
   ]
  },
  {
   "cell_type": "markdown",
   "metadata": {},
   "source": [
    "**Problem 2**\n",
    "Suppose the food label on a cookie bag states that there is at most 2 grams of saturated fat in a\n",
    "single cookie. In a sample of 35 cookies, it is found that the mean amount of saturated fat per\n",
    "cookie is 2.1 grams. Assume that the population standard deviation is 0.25 grams. At .05\n",
    "significance level, can we reject the claim on food label?"
   ]
  },
  {
   "cell_type": "code",
   "execution_count": 27,
   "metadata": {},
   "outputs": [
    {
     "data": {
      "text/html": [
       "2.36643191323985"
      ],
      "text/latex": [
       "2.36643191323985"
      ],
      "text/markdown": [
       "2.36643191323985"
      ],
      "text/plain": [
       "[1] 2.366432"
      ]
     },
     "metadata": {},
     "output_type": "display_data"
    },
    {
     "data": {
      "text/html": [
       "1.64485362695147"
      ],
      "text/latex": [
       "1.64485362695147"
      ],
      "text/markdown": [
       "1.64485362695147"
      ],
      "text/plain": [
       "[1] 1.644854"
      ]
     },
     "metadata": {},
     "output_type": "display_data"
    }
   ],
   "source": [
    "n = 35\n",
    "xbar = 2.1\n",
    "mu = 2\n",
    "sigma = 0.25\n",
    "alpha = 0.05\n",
    "zstat = (xbar - mu)/(sigma/sqrt(n))\n",
    "zstat\n",
    "z = qnorm(1 - alpha)\n",
    "z"
   ]
  },
  {
   "cell_type": "markdown",
   "metadata": {},
   "source": [
    "The test statistic is greater than the critical value of . Thus, at .05 significance level, we reject the claim that there is at most 2 grams of saturated fat in a cookie."
   ]
  },
  {
   "cell_type": "markdown",
   "metadata": {},
   "source": [
    "**Problem 3**\n",
    "Suppose the mean weight of King Penguins found in an Antarctic colony last year was 15.4 kg.\n",
    "In a sample of 35 penguins same time this year in the same colony, the mean penguin weight is\n",
    "14.6 kg. Assume the population standard deviation is 2.5 kg. At .05 significance level, can we\n",
    "reject the null hypothesis that the mean penguin weight does not differ from last year?\n"
   ]
  },
  {
   "cell_type": "code",
   "execution_count": 28,
   "metadata": {},
   "outputs": [
    {
     "data": {
      "text/html": [
       "-1.89314553059188"
      ],
      "text/latex": [
       "-1.89314553059188"
      ],
      "text/markdown": [
       "-1.89314553059188"
      ],
      "text/plain": [
       "[1] -1.893146"
      ]
     },
     "metadata": {},
     "output_type": "display_data"
    },
    {
     "data": {
      "text/html": [
       "<style>\n",
       ".list-inline {list-style: none; margin:0; padding: 0}\n",
       ".list-inline>li {display: inline-block}\n",
       ".list-inline>li:not(:last-child)::after {content: \"\\00b7\"; padding: 0 .5ex}\n",
       "</style>\n",
       "<ol class=list-inline><li>-2.03224450931772</li><li>2.03224450931772</li></ol>\n"
      ],
      "text/latex": [
       "\\begin{enumerate*}\n",
       "\\item -2.03224450931772\n",
       "\\item 2.03224450931772\n",
       "\\end{enumerate*}\n"
      ],
      "text/markdown": [
       "1. -2.03224450931772\n",
       "2. 2.03224450931772\n",
       "\n",
       "\n"
      ],
      "text/plain": [
       "[1] -2.032245  2.032245"
      ]
     },
     "metadata": {},
     "output_type": "display_data"
    }
   ],
   "source": [
    "n = 35\n",
    "xbar = 14.6\n",
    "mu = 15.4\n",
    "s = 2.5    \n",
    "alpha = 0.05\n",
    "tstat = (xbar - mu)/(s/sqrt(n))\n",
    "tstat\n",
    "t = qt(1-alpha/2, df = n - 1)\n",
    "c(-t,t)"
   ]
  },
  {
   "cell_type": "markdown",
   "metadata": {},
   "source": [
    "The test statistic -1.8931 is between the critical values -2.0322, and 2.0322. Thus, at .05 significance level, we do not reject the null hypothesis that the mean penguin weight does not differ from last year."
   ]
  },
  {
   "cell_type": "markdown",
   "metadata": {},
   "source": [
    "**problem 4**\n",
    "Suppose the manufacturer claims that the mean lifetime of a light bulb is more than 10,000\n",
    "hours. In a sample of 30 light bulbs, it was found that they only last 9,900 hours on average.\n",
    "Assume the sample standard deviation is 125 hours. At .05 significance level, can we reject the\n",
    "claim by the manufacturer? "
   ]
  },
  {
   "cell_type": "code",
   "execution_count": 29,
   "metadata": {},
   "outputs": [
    {
     "data": {
      "text/html": [
       "-4.38178046004133"
      ],
      "text/latex": [
       "-4.38178046004133"
      ],
      "text/markdown": [
       "-4.38178046004133"
      ],
      "text/plain": [
       "[1] -4.38178"
      ]
     },
     "metadata": {},
     "output_type": "display_data"
    },
    {
     "data": {
      "text/html": [
       "-1.6991270265335"
      ],
      "text/latex": [
       "-1.6991270265335"
      ],
      "text/markdown": [
       "-1.6991270265335"
      ],
      "text/plain": [
       "[1] -1.699127"
      ]
     },
     "metadata": {},
     "output_type": "display_data"
    }
   ],
   "source": [
    "n = 30\n",
    "xbar = 9900\n",
    "mu = 10000\n",
    "s = 125   \n",
    "alpha = 0.05\n",
    "tstat = (xbar - mu)/(s/sqrt(n))\n",
    "tstat\n",
    "t = qt(1-alpha, df = n - 1)\n",
    "-t #critical value\n"
   ]
  },
  {
   "cell_type": "markdown",
   "metadata": {},
   "source": [
    "The test statistic -4.3818 is less than the critical value of -1.6991. Thus, at .05 significance level, we can reject the claim that mean lifetime of a light bulb is above 10,000 hours."
   ]
  },
  {
   "cell_type": "markdown",
   "metadata": {},
   "source": [
    "**Problem 5**\n",
    "Suppose the food label on a cookie bag states that there is at most 2 grams of saturated fat in a\n",
    "single cookie. In a sample of 35 cookies, it is found that the mean amount of saturated fat per\n",
    "cookie is 2.1 grams. Assume that the sample standard deviation is 0.3 gram. At .05 significance\n",
    "level, can we reject the claim on food label? "
   ]
  },
  {
   "cell_type": "code",
   "execution_count": 30,
   "metadata": {},
   "outputs": [
    {
     "data": {
      "text/html": [
       "1.97202659436654"
      ],
      "text/latex": [
       "1.97202659436654"
      ],
      "text/markdown": [
       "1.97202659436654"
      ],
      "text/plain": [
       "[1] 1.972027"
      ]
     },
     "metadata": {},
     "output_type": "display_data"
    },
    {
     "data": {
      "text/html": [
       "1.69092425518685"
      ],
      "text/latex": [
       "1.69092425518685"
      ],
      "text/markdown": [
       "1.69092425518685"
      ],
      "text/plain": [
       "[1] 1.690924"
      ]
     },
     "metadata": {},
     "output_type": "display_data"
    }
   ],
   "source": [
    "n = 35\n",
    "xbar = 2.1\n",
    "mu = 2\n",
    "s = 0.3 \n",
    "alpha = 0.05\n",
    "tstat = (xbar - mu)/(s/sqrt(n))\n",
    "tstat\n",
    "t = qt(1-alpha, df = n - 1)\n",
    "t #critical value"
   ]
  },
  {
   "cell_type": "markdown",
   "metadata": {},
   "source": [
    "The test statistic  is greater than the critical value of . Thus, at .05 significance level, we can reject the claim that there is at most 2 grams of saturated fat in a cookie."
   ]
  },
  {
   "cell_type": "markdown",
   "metadata": {},
   "source": [
    "**Problem 6**\n",
    "Suppose the mean weight of King Penguins found in an Antarctic colony last year was 15.4 kg.\n",
    "In a sample of 35 penguins same time this year in the same colony, the mean penguin weight is\n",
    "14.6 kg. Assume the sample standard deviation is 2.5 kg. At .05 significance level, can we reject\n",
    "the null hypothesis that the mean penguin weight does not differ from last year? "
   ]
  },
  {
   "cell_type": "code",
   "execution_count": 31,
   "metadata": {},
   "outputs": [
    {
     "data": {
      "text/html": [
       "-1.89314553059188"
      ],
      "text/latex": [
       "-1.89314553059188"
      ],
      "text/markdown": [
       "-1.89314553059188"
      ],
      "text/plain": [
       "[1] -1.893146"
      ]
     },
     "metadata": {},
     "output_type": "display_data"
    },
    {
     "data": {
      "text/html": [
       "<style>\n",
       ".list-inline {list-style: none; margin:0; padding: 0}\n",
       ".list-inline>li {display: inline-block}\n",
       ".list-inline>li:not(:last-child)::after {content: \"\\00b7\"; padding: 0 .5ex}\n",
       "</style>\n",
       "<ol class=list-inline><li>-2.03224450931772</li><li>2.03224450931772</li></ol>\n"
      ],
      "text/latex": [
       "\\begin{enumerate*}\n",
       "\\item -2.03224450931772\n",
       "\\item 2.03224450931772\n",
       "\\end{enumerate*}\n"
      ],
      "text/markdown": [
       "1. -2.03224450931772\n",
       "2. 2.03224450931772\n",
       "\n",
       "\n"
      ],
      "text/plain": [
       "[1] -2.032245  2.032245"
      ]
     },
     "metadata": {},
     "output_type": "display_data"
    }
   ],
   "source": [
    "n = 35\n",
    "xbar = 14.6\n",
    "mu = 15.4\n",
    "s = 2.5 \n",
    "alpha = 0.05\n",
    "tstat = (xbar - mu)/(s/sqrt(n))\n",
    "tstat\n",
    "t = qt(1-alpha/2, df = n - 1)\n",
    "c(-t, t) #critical values"
   ]
  },
  {
   "cell_type": "markdown",
   "metadata": {},
   "source": [
    "The test statistic -1.8931 is between the critical values -2.0322, and 2.0322. Hence, at .05 significance level, we do not reject the null hypothesis that the mean penguin weight does not differ from last year."
   ]
  },
  {
   "cell_type": "markdown",
   "metadata": {},
   "source": [
    "**Problem 7**\n",
    "Suppose 60% of citizens voted in last election. 85 out of 148 people in a telephone survey said\n",
    "that they voted in current election. At 0.5 significance level, can we reject the null hypothesis\n",
    "that the proportion of voters in the population is above 60% this year?"
   ]
  },
  {
   "cell_type": "code",
   "execution_count": 32,
   "metadata": {},
   "outputs": [
    {
     "data": {
      "text/html": [
       "-0.637598252453322"
      ],
      "text/latex": [
       "-0.637598252453322"
      ],
      "text/markdown": [
       "-0.637598252453322"
      ],
      "text/plain": [
       "[1] -0.6375983"
      ]
     },
     "metadata": {},
     "output_type": "display_data"
    },
    {
     "data": {
      "text/html": [
       "-1.64485362695147"
      ],
      "text/latex": [
       "-1.64485362695147"
      ],
      "text/markdown": [
       "-1.64485362695147"
      ],
      "text/plain": [
       "[1] -1.644854"
      ]
     },
     "metadata": {},
     "output_type": "display_data"
    }
   ],
   "source": [
    "n = 148\n",
    "pbar = 85/148\n",
    "p0 = 0.6\n",
    "alpha = 0.05\n",
    "zstat = (pbar - p0)/ sqrt(p0*(1 - p0)/n)\n",
    "zstat\n",
    "z = qnorm(1 - alpha)\n",
    "-z #critical value\n"
   ]
  },
  {
   "cell_type": "markdown",
   "metadata": {},
   "source": [
    "The test statistic is bigger than the critical value . Thus, at .05 significance level, we do not reject the null hypothesis that the proportion of voters in the population is above 60% this year."
   ]
  },
  {
   "cell_type": "markdown",
   "metadata": {},
   "source": [
    "**Problem 8**\n",
    "Suppose that 12% of apples harvested in an orchard last year was rotten. 30 out of 214 apples in\n",
    "a harvest sample this year turns out to be rotten. At .05 significance level, can we reject the null\n",
    "hypothesis that the proportion of rotten apples in harvest stays below 12% this year? "
   ]
  },
  {
   "cell_type": "code",
   "execution_count": 33,
   "metadata": {},
   "outputs": [
    {
     "data": {
      "text/html": [
       "0.908750998475515"
      ],
      "text/latex": [
       "0.908750998475515"
      ],
      "text/markdown": [
       "0.908750998475515"
      ],
      "text/plain": [
       "[1] 0.908751"
      ]
     },
     "metadata": {},
     "output_type": "display_data"
    },
    {
     "data": {
      "text/html": [
       "1.64485362695147"
      ],
      "text/latex": [
       "1.64485362695147"
      ],
      "text/markdown": [
       "1.64485362695147"
      ],
      "text/plain": [
       "[1] 1.644854"
      ]
     },
     "metadata": {},
     "output_type": "display_data"
    }
   ],
   "source": [
    "n = 214\n",
    "pbar = 30/214\n",
    "p0 = 0.12\n",
    "alpha = 0.05\n",
    "zstat = (pbar - p0)/ sqrt(p0*(1 - p0)/n)\n",
    "zstat\n",
    "z = qnorm(1 - alpha)\n",
    "z #critical value"
   ]
  },
  {
   "cell_type": "markdown",
   "metadata": {},
   "source": [
    "The test statistic is not greater than the critical value. Thus we do not reject the null hypothesis that the proportion of rotten apples in harvest stays below 12% this year."
   ]
  },
  {
   "cell_type": "markdown",
   "metadata": {},
   "source": [
    "**problem 9**\n",
    "Suppose a coin toss turns up 12 heads out of 20 trials. At .05 significance level, can one reject\n",
    "the null hypothesis that the coin toss is fair? "
   ]
  },
  {
   "cell_type": "code",
   "execution_count": 25,
   "metadata": {},
   "outputs": [
    {
     "data": {
      "text/html": [
       "0.894427190999916"
      ],
      "text/latex": [
       "0.894427190999916"
      ],
      "text/markdown": [
       "0.894427190999916"
      ],
      "text/plain": [
       "[1] 0.8944272"
      ]
     },
     "metadata": {},
     "output_type": "display_data"
    },
    {
     "data": {
      "text/html": [
       "<style>\n",
       ".list-inline {list-style: none; margin:0; padding: 0}\n",
       ".list-inline>li {display: inline-block}\n",
       ".list-inline>li:not(:last-child)::after {content: \"\\00b7\"; padding: 0 .5ex}\n",
       "</style>\n",
       "<ol class=list-inline><li>-1.95996398454005</li><li>1.95996398454005</li></ol>\n"
      ],
      "text/latex": [
       "\\begin{enumerate*}\n",
       "\\item -1.95996398454005\n",
       "\\item 1.95996398454005\n",
       "\\end{enumerate*}\n"
      ],
      "text/markdown": [
       "1. -1.95996398454005\n",
       "2. 1.95996398454005\n",
       "\n",
       "\n"
      ],
      "text/plain": [
       "[1] -1.959964  1.959964"
      ]
     },
     "metadata": {},
     "output_type": "display_data"
    }
   ],
   "source": [
    "n = 20\n",
    "pbar = 12/20\n",
    "p0 = 0.5\n",
    "alpha = 0.05\n",
    "zstat = (pbar - p0)/ sqrt(p0*(1 - p0)/n)\n",
    "zstat\n",
    "z = qnorm(1 - alpha/2)\n",
    "c(-z, z) #critical values"
   ]
  },
  {
   "cell_type": "markdown",
   "metadata": {},
   "source": [
    "The test statistic is between the critical values. Thus, we do not reject the null hypothesis that the coin toss is fair."
   ]
  },
  {
   "cell_type": "code",
   "execution_count": null,
   "metadata": {},
   "outputs": [],
   "source": []
  }
 ],
 "metadata": {
  "kernelspec": {
   "display_name": "R",
   "language": "R",
   "name": "ir"
  }
 },
 "nbformat": 4,
 "nbformat_minor": 4
}
