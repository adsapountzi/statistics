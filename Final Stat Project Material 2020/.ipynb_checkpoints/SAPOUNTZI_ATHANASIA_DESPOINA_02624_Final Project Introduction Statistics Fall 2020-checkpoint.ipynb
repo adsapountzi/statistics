{
 "cells": [
  {
   "cell_type": "markdown",
   "metadata": {},
   "source": [
    "# Final Project Introduction Statistics Fall 2020"
   ]
  },
  {
   "cell_type": "markdown",
   "metadata": {
    "toc": true
   },
   "source": [
    "<h1>Table of Contents<span class=\"tocSkip\"></span></h1>\n",
    "<div class=\"toc\"><ul class=\"toc-item\"><li><span><a href=\"#Final-Project-Introduction-Statistics-Fall-2020\" data-toc-modified-id=\"Final-Project-Introduction-Statistics-Fall-2020-1\"><span class=\"toc-item-num\">1&nbsp;&nbsp;</span>Final Project Introduction Statistics Fall 2020</a></span></li><li><span><a href=\"#dataset:-NHANES\" data-toc-modified-id=\"dataset:-NHANES-2\"><span class=\"toc-item-num\">2&nbsp;&nbsp;</span>dataset: NHANES</a></span></li><li><span><a href=\"#Part-I---Descriptive-Statistics\" data-toc-modified-id=\"Part-I---Descriptive-Statistics-3\"><span class=\"toc-item-num\">3&nbsp;&nbsp;</span>Part I - Descriptive Statistics</a></span><ul class=\"toc-item\"><li><span><a href=\"#Load-the-data\" data-toc-modified-id=\"Load-the-data-3.1\"><span class=\"toc-item-num\">3.1&nbsp;&nbsp;</span>Load the data</a></span></li><li><span><a href=\"#Recall-several-built-in-functions-that-are-useful-for-working-with-data-frames.\" data-toc-modified-id=\"Recall-several-built-in-functions-that-are-useful-for-working-with-data-frames.-3.2\"><span class=\"toc-item-num\">3.2&nbsp;&nbsp;</span>Recall several built-in functions that are useful for working with data frames.</a></span></li><li><span><a href=\"#insert-table-of-variables--description-in-nhnanes-dataset\" data-toc-modified-id=\"insert-table-of-variables--description-in-nhnanes-dataset-3.3\"><span class=\"toc-item-num\">3.3&nbsp;&nbsp;</span>insert table of variables  description in nhnanes dataset</a></span></li><li><span><a href=\"#Descriptive-statistics\" data-toc-modified-id=\"Descriptive-statistics-3.4\"><span class=\"toc-item-num\">3.4&nbsp;&nbsp;</span>Descriptive statistics</a></span></li><li><span><a href=\"#Missing-data\" data-toc-modified-id=\"Missing-data-3.5\"><span class=\"toc-item-num\">3.5&nbsp;&nbsp;</span>Missing data</a></span></li><li><span><a href=\"#Count-NAs-via-sum-&amp;-colSums\" data-toc-modified-id=\"Count-NAs-via-sum-&amp;-colSums-3.6\"><span class=\"toc-item-num\">3.6&nbsp;&nbsp;</span>Count NAs via sum &amp; colSums</a></span><ul class=\"toc-item\"><li><span><a href=\"#Locate-NAs-via-which\" data-toc-modified-id=\"Locate-NAs-via-which-3.6.1\"><span class=\"toc-item-num\">3.6.1&nbsp;&nbsp;</span>Locate NAs via which</a></span></li><li><span><a href=\"#if-&amp;-if-else\" data-toc-modified-id=\"if-&amp;-if-else-3.6.2\"><span class=\"toc-item-num\">3.6.2&nbsp;&nbsp;</span>if &amp; if else</a></span></li></ul></li></ul></li><li><span><a href=\"#Part-II:-Explatory-Data-Analysis-(EDA)\" data-toc-modified-id=\"Part-II:-Explatory-Data-Analysis-(EDA)-4\"><span class=\"toc-item-num\">4&nbsp;&nbsp;</span>Part II: Explatory Data Analysis (EDA)</a></span><ul class=\"toc-item\"><li><span><a href=\"#Histograms\" data-toc-modified-id=\"Histograms-4.1\"><span class=\"toc-item-num\">4.1&nbsp;&nbsp;</span>Histograms</a></span></li><li><span><a href=\"#Scatterplots\" data-toc-modified-id=\"Scatterplots-4.2\"><span class=\"toc-item-num\">4.2&nbsp;&nbsp;</span>Scatterplots</a></span></li></ul></li><li><span><a href=\"#Continuous-variables\" data-toc-modified-id=\"Continuous-variables-5\"><span class=\"toc-item-num\">5&nbsp;&nbsp;</span>Continuous variables</a></span><ul class=\"toc-item\"><li><span><a href=\"#T-tests\" data-toc-modified-id=\"T-tests-5.1\"><span class=\"toc-item-num\">5.1&nbsp;&nbsp;</span>T-tests</a></span></li><li><span><a href=\"#Wilcoxon-test\" data-toc-modified-id=\"Wilcoxon-test-5.2\"><span class=\"toc-item-num\">5.2&nbsp;&nbsp;</span>Wilcoxon test</a></span></li><li><span><a href=\"#ANOVA\" data-toc-modified-id=\"ANOVA-5.3\"><span class=\"toc-item-num\">5.3&nbsp;&nbsp;</span>ANOVA</a></span><ul class=\"toc-item\"><li><span><a href=\"#ANOVA\" data-toc-modified-id=\"ANOVA-5.3.1\"><span class=\"toc-item-num\">5.3.1&nbsp;&nbsp;</span>ANOVA</a></span></li></ul></li></ul></li><li><span><a href=\"#Linear-regression\" data-toc-modified-id=\"Linear-regression-6\"><span class=\"toc-item-num\">6&nbsp;&nbsp;</span>Linear regression</a></span></li><li><span><a href=\"#Multiple-regression\" data-toc-modified-id=\"Multiple-regression-7\"><span class=\"toc-item-num\">7&nbsp;&nbsp;</span>Multiple regression</a></span></li><li><span><a href=\"#Discrete-variables\" data-toc-modified-id=\"Discrete-variables-8\"><span class=\"toc-item-num\">8&nbsp;&nbsp;</span>Discrete variables</a></span></li><li><span><a href=\"#Contingency-tables\" data-toc-modified-id=\"Contingency-tables-9\"><span class=\"toc-item-num\">9&nbsp;&nbsp;</span>Contingency tables</a></span></li><li><span><a href=\"#Logistic-regression\" data-toc-modified-id=\"Logistic-regression-10\"><span class=\"toc-item-num\">10&nbsp;&nbsp;</span>Logistic regression</a></span></li><li><span><a href=\"#Power-&amp;-sample-size\" data-toc-modified-id=\"Power-&amp;-sample-size-11\"><span class=\"toc-item-num\">11&nbsp;&nbsp;</span>Power &amp; sample size</a></span></li><li><span><a href=\"#T-test-power/N\" data-toc-modified-id=\"T-test-power/N-12\"><span class=\"toc-item-num\">12&nbsp;&nbsp;</span>T-test power/N</a></span></li><li><span><a href=\"#Proportions-power/N\" data-toc-modified-id=\"Proportions-power/N-13\"><span class=\"toc-item-num\">13&nbsp;&nbsp;</span>Proportions power/N</a></span></li></ul></div>"
   ]
  },
  {
   "cell_type": "code",
   "execution_count": 171,
   "metadata": {},
   "outputs": [],
   "source": [
    "\n",
    "knitr::opts_chunk$set(echo = FALSE)\n"
   ]
  },
  {
   "cell_type": "markdown",
   "metadata": {},
   "source": [
    "\n",
    "# dataset: NHANES\n",
    "\n",
    "The data we’re going to work with comes from the National Health and Nutrition Examination Survey (NHANES) program at the CDC. You can read a lot more about NHANES on the CDC’s website or Wikipedia. NHANES is a research program designed to assess the health and nutritional status of adults and children in the United States. The survey is one of the only to combine both survey questions and physical examinations. It began in the 1960s and since 1999 examines a nationally representative sample of about 5,000 people each year. The NHANES interview includes demographic, socioeconomic, dietary, and health-related questions. The physical exam includes medical, dental, and physiological measurements, as well as several standard laboratory tests. NHANES is used to determine the prevalence of major diseases and risk factors for those diseases. NHANES data are also the basis for national standards for measurements like height, weight, and blood pressure. Data from this survey is used in epidemiology studies and health sciences research, which help develop public health policy, direct and design health programs and services, and expand the health knowledge for the Nation.\n",
    "\n",
    "We are using a small slice of this data. We’re only using a handful of variables from the 2011-2012 survey years on about 5,000 individuals. The CDC uses a sampling strategy to purposefully oversample certain subpopulations like racial minorities. Naive analysis of the original NHANES data can lead to mistaken conclusions because the percentages of people from each racial group in the data are different from general population. The 5,000 individuals here are resampled from the larger NHANES study population to undo these oversampling effects, so you can treat this as if it were a simple random sample from the American population."
   ]
  },
  {
   "cell_type": "markdown",
   "metadata": {},
   "source": [
    "# Part I - Descriptive Statistics\n",
    "\n",
    "## Load the data"
   ]
  },
  {
   "cell_type": "code",
   "execution_count": 172,
   "metadata": {},
   "outputs": [
    {
     "data": {
      "text/html": [
       "<style>\n",
       ".list-inline {list-style: none; margin:0; padding: 0}\n",
       ".list-inline>li {display: inline-block}\n",
       ".list-inline>li:not(:last-child)::after {content: \"\\00b7\"; padding: 0 .5ex}\n",
       "</style>\n",
       "<ol class=list-inline><li>'ο.Ώid'</li><li>'Gender'</li><li>'Age'</li><li>'Race'</li><li>'Education'</li><li>'MaritalStatus'</li><li>'RelationshipStatus'</li><li>'Insured'</li><li>'Income'</li><li>'Poverty'</li><li>'HomeRooms'</li><li>'HomeOwn'</li><li>'Work'</li><li>'Weight'</li><li>'Height'</li><li>'BMI'</li><li>'Pulse'</li><li>'BPSys'</li><li>'BPDia'</li><li>'Testosterone'</li><li>'HDLChol'</li><li>'TotChol'</li><li>'Diabetes'</li><li>'DiabetesAge'</li><li>'nPregnancies'</li><li>'nBabies'</li><li>'SleepHrsNight'</li><li>'PhysActive'</li><li>'PhysActiveDays'</li><li>'AlcoholDay'</li><li>'AlcoholYear'</li><li>'SmokingStatus'</li></ol>\n"
      ],
      "text/latex": [
       "\\begin{enumerate*}\n",
       "\\item 'ο.Ώid'\n",
       "\\item 'Gender'\n",
       "\\item 'Age'\n",
       "\\item 'Race'\n",
       "\\item 'Education'\n",
       "\\item 'MaritalStatus'\n",
       "\\item 'RelationshipStatus'\n",
       "\\item 'Insured'\n",
       "\\item 'Income'\n",
       "\\item 'Poverty'\n",
       "\\item 'HomeRooms'\n",
       "\\item 'HomeOwn'\n",
       "\\item 'Work'\n",
       "\\item 'Weight'\n",
       "\\item 'Height'\n",
       "\\item 'BMI'\n",
       "\\item 'Pulse'\n",
       "\\item 'BPSys'\n",
       "\\item 'BPDia'\n",
       "\\item 'Testosterone'\n",
       "\\item 'HDLChol'\n",
       "\\item 'TotChol'\n",
       "\\item 'Diabetes'\n",
       "\\item 'DiabetesAge'\n",
       "\\item 'nPregnancies'\n",
       "\\item 'nBabies'\n",
       "\\item 'SleepHrsNight'\n",
       "\\item 'PhysActive'\n",
       "\\item 'PhysActiveDays'\n",
       "\\item 'AlcoholDay'\n",
       "\\item 'AlcoholYear'\n",
       "\\item 'SmokingStatus'\n",
       "\\end{enumerate*}\n"
      ],
      "text/markdown": [
       "1. 'ο.Ώid'\n",
       "2. 'Gender'\n",
       "3. 'Age'\n",
       "4. 'Race'\n",
       "5. 'Education'\n",
       "6. 'MaritalStatus'\n",
       "7. 'RelationshipStatus'\n",
       "8. 'Insured'\n",
       "9. 'Income'\n",
       "10. 'Poverty'\n",
       "11. 'HomeRooms'\n",
       "12. 'HomeOwn'\n",
       "13. 'Work'\n",
       "14. 'Weight'\n",
       "15. 'Height'\n",
       "16. 'BMI'\n",
       "17. 'Pulse'\n",
       "18. 'BPSys'\n",
       "19. 'BPDia'\n",
       "20. 'Testosterone'\n",
       "21. 'HDLChol'\n",
       "22. 'TotChol'\n",
       "23. 'Diabetes'\n",
       "24. 'DiabetesAge'\n",
       "25. 'nPregnancies'\n",
       "26. 'nBabies'\n",
       "27. 'SleepHrsNight'\n",
       "28. 'PhysActive'\n",
       "29. 'PhysActiveDays'\n",
       "30. 'AlcoholDay'\n",
       "31. 'AlcoholYear'\n",
       "32. 'SmokingStatus'\n",
       "\n",
       "\n"
      ],
      "text/plain": [
       " [1] \"ο.Ώid\"              \"Gender\"             \"Age\"               \n",
       " [4] \"Race\"               \"Education\"          \"MaritalStatus\"     \n",
       " [7] \"RelationshipStatus\" \"Insured\"            \"Income\"            \n",
       "[10] \"Poverty\"            \"HomeRooms\"          \"HomeOwn\"           \n",
       "[13] \"Work\"               \"Weight\"             \"Height\"            \n",
       "[16] \"BMI\"                \"Pulse\"              \"BPSys\"             \n",
       "[19] \"BPDia\"              \"Testosterone\"       \"HDLChol\"           \n",
       "[22] \"TotChol\"            \"Diabetes\"           \"DiabetesAge\"       \n",
       "[25] \"nPregnancies\"       \"nBabies\"            \"SleepHrsNight\"     \n",
       "[28] \"PhysActive\"         \"PhysActiveDays\"     \"AlcoholDay\"        \n",
       "[31] \"AlcoholYear\"        \"SmokingStatus\"     "
      ]
     },
     "metadata": {},
     "output_type": "display_data"
    }
   ],
   "source": [
    "\n",
    "library(dplyr)\n",
    "#library(NHANES)\n",
    "nh <- read.csv(\"nhanes.csv\")\n",
    "nh <- tbl_df(nh)\n",
    "#display the variables of nhanes dataset\n",
    "names(nh)"
   ]
  },
  {
   "cell_type": "markdown",
   "metadata": {},
   "source": [
    "`\n",
    "## Recall several built-in functions that are useful for working with data frames.\n",
    "\n",
    "* Content:\n",
    "  - head(): shows the first few rows\n",
    "  - tail(): shows the last few rows\n",
    "* Size:\n",
    "  - dim(): returns a 2-element vector with the number of rows in the first element, and the number of columns as the second element (the dimensions of the object)\n",
    "  - nrow(): returns the number of rows\n",
    "  - ncol(): returns the number of columns\n",
    "* Summary:\n",
    "  - colnames() (or just names()): returns the column names\n",
    "  - glimpse() (from dplyr): Returns a glimpse of your data, telling you the structure of the dataset and information about the class, length and content of each column\n",
    " "
   ]
  },
  {
   "cell_type": "markdown",
   "metadata": {},
   "source": [
    "## insert table of variables  description in nhnanes dataset"
   ]
  },
  {
   "cell_type": "code",
   "execution_count": 173,
   "metadata": {},
   "outputs": [
    {
     "data": {
      "text/plain": [
       "\n",
       "\n",
       "|Variable           |Definition                                                                                                                                                                               |\n",
       "|:------------------|:----------------------------------------------------------------------------------------------------------------------------------------------------------------------------------------|\n",
       "|id                 |A unique sample identifier                                                                                                                                                               |\n",
       "|Gender             |Gender (sex) of study participant coded as male or female                                                                                                                                |\n",
       "|Age                |Age in years at screening of study participant. Note: Subjects 80 years or older were recorded as 80.                                                                                    |\n",
       "|Race               |Reported race of study participant, including non-Hispanic Asian category: Mexican, Hispanic, White, Black, Asian, or Other. Not availale for 2009-10.                                   |\n",
       "|Education          |Educational level of study participant Reported for participants aged 20 years or older. One of 8thGrade, 9-11thGrade, HighSchool, SomeCollege, or CollegeGrad.                          |\n",
       "|MaritalStatus      |Marital status of study participant. Reported for participants aged 20 years or older. One of Married, Widowed, Divorced, Separated, NeverMarried, or LivePartner (living with partner). |\n",
       "|RelationshipStatus |Simplification of MaritalStatus, coded as Committed if MaritalStatus is Married or LivePartner, and Single otherwise.                                                                    |\n",
       "|Insured            |Indicates whether the individual is covered by health insurance.                                                                                                                         |\n",
       "|Income             |Numerical version of HHIncome derived from the middle income in each category                                                                                                            |\n",
       "|Poverty            |A ratio of family income to poverty guidelines. Smaller numbers indicate more poverty                                                                                                    |\n",
       "|HomeRooms          |How many rooms are in home of study participant (counting kitchen but not bathroom). 13 rooms = 13 or more rooms.                                                                        |\n",
       "|HomeOwn            |One of Home, Rent, or Other indicating whether the home of study participant or someone in their family is owned, rented or occupied by some other arrangement.                          |\n",
       "|Work               |Indicates whether the individual is current working or not.                                                                                                                              |\n",
       "|Weight             |Weight in kg                                                                                                                                                                             |\n",
       "|Height             |Standing height in cm. Reported for participants aged 2 years or older.                                                                                                                  |\n",
       "|BMI                |Body mass index (weight/height2 in kg/m2). Reported for participants aged 2 years or older.                                                                                              |\n",
       "|Pulse              |60 second pulse rate                                                                                                                                                                     |\n",
       "|BPSys              |Combined systolic blood pressure reading, following the procedure outlined for BPXSAR.                                                                                                   |\n",
       "|BPDia              |Combined diastolic blood pressure reading, following the procedure outlined for BPXDAR.                                                                                                  |\n",
       "|Testosterone       |Testerone total (ng/dL). Reported for participants aged 6 years or older. Not available for 2009-2010.                                                                                   |\n",
       "|HDLChol            |Direct HDL cholesterol in mmol/L. Reported for participants aged 6 years or older.                                                                                                       |\n",
       "|TotChol            |Total HDL cholesterol in mmol/L. Reported for participants aged 6 years or older.                                                                                                        |\n",
       "|Diabetes           |Study participant told by a doctor or health professional that they have diabetes. Reported for participants aged 1 year or older as Yes or No.                                          |\n",
       "|DiabetesAge        |Age of study participant when first told they had diabetes. Reported for participants aged 1 year or older.                                                                              |\n",
       "|nPregnancies       |How many times participant has been pregnant. Reported for female participants aged 20 years or older.                                                                                   |\n",
       "|nBabies            |How many of participants deliveries resulted in live births. Reported for female participants aged 20 years or older.                                                                    |\n",
       "|SleepHrsNight      |Self-reported number of hours study participant usually gets at night on weekdays or workdays. Reported for participants aged 16 years and older.                                        |\n",
       "|PhysActive         |Participant does moderate or vigorous-intensity sports, fitness or recreational activities (Yes or No). Reported for participants 12 years or older.                                     |\n",
       "|PhysActiveDays     |Number of days in a typical week that participant does moderate or vigorous-intensity activity. Reported for participants 12 years or older.                                             |\n",
       "|AlcoholDay         |Average number of drinks consumed on days that participant drank alcoholic beverages. Reported for participants aged 18 years or older.                                                  |\n",
       "|AlcoholYear        |Estimated number of days over the past year that participant drank alcoholic beverages. Reported for participants aged 18 years or older.                                                |\n",
       "|SmokingStatus      |Smoking status: Current Former or Never.                                                                                                                                                 |"
      ]
     },
     "metadata": {},
     "output_type": "display_data"
    }
   ],
   "source": [
    "\n",
    "library(knitr)\n",
    "nhanes.dd <- read.csv(\"nhanes_dd.csv\")\n",
    "kable(nhanes.dd)\n"
   ]
  },
  {
   "cell_type": "code",
   "execution_count": 174,
   "metadata": {},
   "outputs": [
    {
     "data": {
      "text/html": [
       "<table>\n",
       "<caption>A tibble: 6 × 32</caption>\n",
       "<thead>\n",
       "\t<tr><th scope=col>ο.Ώid</th><th scope=col>Gender</th><th scope=col>Age</th><th scope=col>Race</th><th scope=col>Education</th><th scope=col>MaritalStatus</th><th scope=col>RelationshipStatus</th><th scope=col>Insured</th><th scope=col>Income</th><th scope=col>Poverty</th><th scope=col>...</th><th scope=col>Diabetes</th><th scope=col>DiabetesAge</th><th scope=col>nPregnancies</th><th scope=col>nBabies</th><th scope=col>SleepHrsNight</th><th scope=col>PhysActive</th><th scope=col>PhysActiveDays</th><th scope=col>AlcoholDay</th><th scope=col>AlcoholYear</th><th scope=col>SmokingStatus</th></tr>\n",
       "\t<tr><th scope=col>&lt;int&gt;</th><th scope=col>&lt;chr&gt;</th><th scope=col>&lt;int&gt;</th><th scope=col>&lt;chr&gt;</th><th scope=col>&lt;chr&gt;</th><th scope=col>&lt;chr&gt;</th><th scope=col>&lt;chr&gt;</th><th scope=col>&lt;chr&gt;</th><th scope=col>&lt;int&gt;</th><th scope=col>&lt;dbl&gt;</th><th scope=col>...</th><th scope=col>&lt;chr&gt;</th><th scope=col>&lt;int&gt;</th><th scope=col>&lt;int&gt;</th><th scope=col>&lt;int&gt;</th><th scope=col>&lt;int&gt;</th><th scope=col>&lt;chr&gt;</th><th scope=col>&lt;int&gt;</th><th scope=col>&lt;int&gt;</th><th scope=col>&lt;int&gt;</th><th scope=col>&lt;chr&gt;</th></tr>\n",
       "</thead>\n",
       "<tbody>\n",
       "\t<tr><td>62163</td><td>male  </td><td>14</td><td>Asian</td><td>NA          </td><td>NA          </td><td>NA       </td><td>Yes</td><td>100000</td><td>4.07</td><td>...</td><td>No</td><td>NA</td><td>NA</td><td>NA</td><td>NA</td><td>No </td><td>1</td><td>NA</td><td> NA</td><td>NA     </td></tr>\n",
       "\t<tr><td>62172</td><td>female</td><td>43</td><td>Black</td><td>High School </td><td>NeverMarried</td><td>Single   </td><td>Yes</td><td> 22500</td><td>2.02</td><td>...</td><td>No</td><td>NA</td><td> 3</td><td> 2</td><td> 8</td><td>No </td><td>2</td><td> 3</td><td>104</td><td>Current</td></tr>\n",
       "\t<tr><td>62174</td><td>male  </td><td>80</td><td>White</td><td>College Grad</td><td>Married     </td><td>Committed</td><td>Yes</td><td> 70000</td><td>4.30</td><td>...</td><td>No</td><td>NA</td><td>NA</td><td>NA</td><td> 9</td><td>No </td><td>7</td><td>NA</td><td>  0</td><td>Never  </td></tr>\n",
       "\t<tr><td>62174</td><td>male  </td><td>80</td><td>White</td><td>College Grad</td><td>Married     </td><td>Committed</td><td>Yes</td><td> 70000</td><td>4.30</td><td>...</td><td>No</td><td>NA</td><td>NA</td><td>NA</td><td> 9</td><td>No </td><td>5</td><td>NA</td><td>  0</td><td>Never  </td></tr>\n",
       "\t<tr><td>62175</td><td>male  </td><td> 5</td><td>White</td><td>NA          </td><td>NA          </td><td>NA       </td><td>Yes</td><td> 12500</td><td>0.39</td><td>...</td><td>No</td><td>NA</td><td>NA</td><td>NA</td><td>NA</td><td>NA </td><td>7</td><td>NA</td><td> NA</td><td>NA     </td></tr>\n",
       "\t<tr><td>62176</td><td>female</td><td>34</td><td>White</td><td>College Grad</td><td>Married     </td><td>Committed</td><td>Yes</td><td>100000</td><td>5.00</td><td>...</td><td>No</td><td>NA</td><td> 5</td><td> 2</td><td> 7</td><td>Yes</td><td>5</td><td> 2</td><td>104</td><td>Never  </td></tr>\n",
       "</tbody>\n",
       "</table>\n"
      ],
      "text/latex": [
       "A tibble: 6 × 32\n",
       "\\begin{tabular}{lllllllllllllllllllll}\n",
       " ο.Ώid & Gender & Age & Race & Education & MaritalStatus & RelationshipStatus & Insured & Income & Poverty & ... & Diabetes & DiabetesAge & nPregnancies & nBabies & SleepHrsNight & PhysActive & PhysActiveDays & AlcoholDay & AlcoholYear & SmokingStatus\\\\\n",
       " <int> & <chr> & <int> & <chr> & <chr> & <chr> & <chr> & <chr> & <int> & <dbl> & ... & <chr> & <int> & <int> & <int> & <int> & <chr> & <int> & <int> & <int> & <chr>\\\\\n",
       "\\hline\n",
       "\t 62163 & male   & 14 & Asian & NA           & NA           & NA        & Yes & 100000 & 4.07 & ... & No & NA & NA & NA & NA & No  & 1 & NA &  NA & NA     \\\\\n",
       "\t 62172 & female & 43 & Black & High School  & NeverMarried & Single    & Yes &  22500 & 2.02 & ... & No & NA &  3 &  2 &  8 & No  & 2 &  3 & 104 & Current\\\\\n",
       "\t 62174 & male   & 80 & White & College Grad & Married      & Committed & Yes &  70000 & 4.30 & ... & No & NA & NA & NA &  9 & No  & 7 & NA &   0 & Never  \\\\\n",
       "\t 62174 & male   & 80 & White & College Grad & Married      & Committed & Yes &  70000 & 4.30 & ... & No & NA & NA & NA &  9 & No  & 5 & NA &   0 & Never  \\\\\n",
       "\t 62175 & male   &  5 & White & NA           & NA           & NA        & Yes &  12500 & 0.39 & ... & No & NA & NA & NA & NA & NA  & 7 & NA &  NA & NA     \\\\\n",
       "\t 62176 & female & 34 & White & College Grad & Married      & Committed & Yes & 100000 & 5.00 & ... & No & NA &  5 &  2 &  7 & Yes & 5 &  2 & 104 & Never  \\\\\n",
       "\\end{tabular}\n"
      ],
      "text/markdown": [
       "\n",
       "A tibble: 6 × 32\n",
       "\n",
       "| ο.Ώid &lt;int&gt; | Gender &lt;chr&gt; | Age &lt;int&gt; | Race &lt;chr&gt; | Education &lt;chr&gt; | MaritalStatus &lt;chr&gt; | RelationshipStatus &lt;chr&gt; | Insured &lt;chr&gt; | Income &lt;int&gt; | Poverty &lt;dbl&gt; | ... ... | Diabetes &lt;chr&gt; | DiabetesAge &lt;int&gt; | nPregnancies &lt;int&gt; | nBabies &lt;int&gt; | SleepHrsNight &lt;int&gt; | PhysActive &lt;chr&gt; | PhysActiveDays &lt;int&gt; | AlcoholDay &lt;int&gt; | AlcoholYear &lt;int&gt; | SmokingStatus &lt;chr&gt; |\n",
       "|---|---|---|---|---|---|---|---|---|---|---|---|---|---|---|---|---|---|---|---|---|\n",
       "| 62163 | male   | 14 | Asian | NA           | NA           | NA        | Yes | 100000 | 4.07 | ... | No | NA | NA | NA | NA | No  | 1 | NA |  NA | NA      |\n",
       "| 62172 | female | 43 | Black | High School  | NeverMarried | Single    | Yes |  22500 | 2.02 | ... | No | NA |  3 |  2 |  8 | No  | 2 |  3 | 104 | Current |\n",
       "| 62174 | male   | 80 | White | College Grad | Married      | Committed | Yes |  70000 | 4.30 | ... | No | NA | NA | NA |  9 | No  | 7 | NA |   0 | Never   |\n",
       "| 62174 | male   | 80 | White | College Grad | Married      | Committed | Yes |  70000 | 4.30 | ... | No | NA | NA | NA |  9 | No  | 5 | NA |   0 | Never   |\n",
       "| 62175 | male   |  5 | White | NA           | NA           | NA        | Yes |  12500 | 0.39 | ... | No | NA | NA | NA | NA | NA  | 7 | NA |  NA | NA      |\n",
       "| 62176 | female | 34 | White | College Grad | Married      | Committed | Yes | 100000 | 5.00 | ... | No | NA |  5 |  2 |  7 | Yes | 5 |  2 | 104 | Never   |\n",
       "\n"
      ],
      "text/plain": [
       "  ο.Ώid Gender Age Race  Education    MaritalStatus RelationshipStatus Insured\n",
       "1 62163 male   14  Asian NA           NA            NA                 Yes    \n",
       "2 62172 female 43  Black High School  NeverMarried  Single             Yes    \n",
       "3 62174 male   80  White College Grad Married       Committed          Yes    \n",
       "4 62174 male   80  White College Grad Married       Committed          Yes    \n",
       "5 62175 male    5  White NA           NA            NA                 Yes    \n",
       "6 62176 female 34  White College Grad Married       Committed          Yes    \n",
       "  Income Poverty ... Diabetes DiabetesAge nPregnancies nBabies SleepHrsNight\n",
       "1 100000 4.07    ... No       NA          NA           NA      NA           \n",
       "2  22500 2.02    ... No       NA           3            2       8           \n",
       "3  70000 4.30    ... No       NA          NA           NA       9           \n",
       "4  70000 4.30    ... No       NA          NA           NA       9           \n",
       "5  12500 0.39    ... No       NA          NA           NA      NA           \n",
       "6 100000 5.00    ... No       NA           5            2       7           \n",
       "  PhysActive PhysActiveDays AlcoholDay AlcoholYear SmokingStatus\n",
       "1 No         1              NA          NA         NA           \n",
       "2 No         2               3         104         Current      \n",
       "3 No         7              NA           0         Never        \n",
       "4 No         5              NA           0         Never        \n",
       "5 NA         7              NA          NA         NA           \n",
       "6 Yes        5               2         104         Never        "
      ]
     },
     "metadata": {},
     "output_type": "display_data"
    },
    {
     "data": {
      "text/html": [
       "<table>\n",
       "<caption>A tibble: 6 × 32</caption>\n",
       "<thead>\n",
       "\t<tr><th scope=col>ο.Ώid</th><th scope=col>Gender</th><th scope=col>Age</th><th scope=col>Race</th><th scope=col>Education</th><th scope=col>MaritalStatus</th><th scope=col>RelationshipStatus</th><th scope=col>Insured</th><th scope=col>Income</th><th scope=col>Poverty</th><th scope=col>...</th><th scope=col>Diabetes</th><th scope=col>DiabetesAge</th><th scope=col>nPregnancies</th><th scope=col>nBabies</th><th scope=col>SleepHrsNight</th><th scope=col>PhysActive</th><th scope=col>PhysActiveDays</th><th scope=col>AlcoholDay</th><th scope=col>AlcoholYear</th><th scope=col>SmokingStatus</th></tr>\n",
       "\t<tr><th scope=col>&lt;int&gt;</th><th scope=col>&lt;chr&gt;</th><th scope=col>&lt;int&gt;</th><th scope=col>&lt;chr&gt;</th><th scope=col>&lt;chr&gt;</th><th scope=col>&lt;chr&gt;</th><th scope=col>&lt;chr&gt;</th><th scope=col>&lt;chr&gt;</th><th scope=col>&lt;int&gt;</th><th scope=col>&lt;dbl&gt;</th><th scope=col>...</th><th scope=col>&lt;chr&gt;</th><th scope=col>&lt;int&gt;</th><th scope=col>&lt;int&gt;</th><th scope=col>&lt;int&gt;</th><th scope=col>&lt;int&gt;</th><th scope=col>&lt;chr&gt;</th><th scope=col>&lt;int&gt;</th><th scope=col>&lt;int&gt;</th><th scope=col>&lt;int&gt;</th><th scope=col>&lt;chr&gt;</th></tr>\n",
       "</thead>\n",
       "<tbody>\n",
       "\t<tr><td>71909</td><td>male  </td><td>28</td><td>Mexican</td><td>9 - 11th Grade</td><td>NeverMarried</td><td>Single   </td><td>No </td><td> 7500</td><td>0.46</td><td>...</td><td>No </td><td>NA</td><td>NA</td><td>NA</td><td> 6</td><td>Yes</td><td>NA</td><td>NA</td><td>NA</td><td>Current</td></tr>\n",
       "\t<tr><td>71909</td><td>male  </td><td>28</td><td>Mexican</td><td>9 - 11th Grade</td><td>NeverMarried</td><td>Single   </td><td>No </td><td> 7500</td><td>0.46</td><td>...</td><td>No </td><td>NA</td><td>NA</td><td>NA</td><td> 6</td><td>Yes</td><td>NA</td><td>NA</td><td>NA</td><td>Current</td></tr>\n",
       "\t<tr><td>71910</td><td>female</td><td> 0</td><td>White  </td><td>NA            </td><td>NA          </td><td>NA       </td><td>Yes</td><td>87500</td><td>3.37</td><td>...</td><td>NA </td><td>NA</td><td>NA</td><td>NA</td><td>NA</td><td>NA </td><td>NA</td><td>NA</td><td>NA</td><td>NA     </td></tr>\n",
       "\t<tr><td>71911</td><td>male  </td><td>27</td><td>Mexican</td><td>College Grad  </td><td>Married     </td><td>Committed</td><td>Yes</td><td>87500</td><td>3.25</td><td>...</td><td>No </td><td>NA</td><td>NA</td><td>NA</td><td> 6</td><td>No </td><td> 3</td><td> 5</td><td> 4</td><td>Never  </td></tr>\n",
       "\t<tr><td>71915</td><td>male  </td><td>60</td><td>White  </td><td>College Grad  </td><td>NeverMarried</td><td>Single   </td><td>Yes</td><td>70000</td><td>5.00</td><td>...</td><td>Yes</td><td>56</td><td>NA</td><td>NA</td><td> 6</td><td>No </td><td> 1</td><td>NA</td><td> 0</td><td>Never  </td></tr>\n",
       "\t<tr><td>71915</td><td>male  </td><td>60</td><td>White  </td><td>College Grad  </td><td>NeverMarried</td><td>Single   </td><td>Yes</td><td>70000</td><td>5.00</td><td>...</td><td>Yes</td><td>56</td><td>NA</td><td>NA</td><td> 6</td><td>No </td><td>NA</td><td>NA</td><td> 0</td><td>Never  </td></tr>\n",
       "</tbody>\n",
       "</table>\n"
      ],
      "text/latex": [
       "A tibble: 6 × 32\n",
       "\\begin{tabular}{lllllllllllllllllllll}\n",
       " ο.Ώid & Gender & Age & Race & Education & MaritalStatus & RelationshipStatus & Insured & Income & Poverty & ... & Diabetes & DiabetesAge & nPregnancies & nBabies & SleepHrsNight & PhysActive & PhysActiveDays & AlcoholDay & AlcoholYear & SmokingStatus\\\\\n",
       " <int> & <chr> & <int> & <chr> & <chr> & <chr> & <chr> & <chr> & <int> & <dbl> & ... & <chr> & <int> & <int> & <int> & <int> & <chr> & <int> & <int> & <int> & <chr>\\\\\n",
       "\\hline\n",
       "\t 71909 & male   & 28 & Mexican & 9 - 11th Grade & NeverMarried & Single    & No  &  7500 & 0.46 & ... & No  & NA & NA & NA &  6 & Yes & NA & NA & NA & Current\\\\\n",
       "\t 71909 & male   & 28 & Mexican & 9 - 11th Grade & NeverMarried & Single    & No  &  7500 & 0.46 & ... & No  & NA & NA & NA &  6 & Yes & NA & NA & NA & Current\\\\\n",
       "\t 71910 & female &  0 & White   & NA             & NA           & NA        & Yes & 87500 & 3.37 & ... & NA  & NA & NA & NA & NA & NA  & NA & NA & NA & NA     \\\\\n",
       "\t 71911 & male   & 27 & Mexican & College Grad   & Married      & Committed & Yes & 87500 & 3.25 & ... & No  & NA & NA & NA &  6 & No  &  3 &  5 &  4 & Never  \\\\\n",
       "\t 71915 & male   & 60 & White   & College Grad   & NeverMarried & Single    & Yes & 70000 & 5.00 & ... & Yes & 56 & NA & NA &  6 & No  &  1 & NA &  0 & Never  \\\\\n",
       "\t 71915 & male   & 60 & White   & College Grad   & NeverMarried & Single    & Yes & 70000 & 5.00 & ... & Yes & 56 & NA & NA &  6 & No  & NA & NA &  0 & Never  \\\\\n",
       "\\end{tabular}\n"
      ],
      "text/markdown": [
       "\n",
       "A tibble: 6 × 32\n",
       "\n",
       "| ο.Ώid &lt;int&gt; | Gender &lt;chr&gt; | Age &lt;int&gt; | Race &lt;chr&gt; | Education &lt;chr&gt; | MaritalStatus &lt;chr&gt; | RelationshipStatus &lt;chr&gt; | Insured &lt;chr&gt; | Income &lt;int&gt; | Poverty &lt;dbl&gt; | ... ... | Diabetes &lt;chr&gt; | DiabetesAge &lt;int&gt; | nPregnancies &lt;int&gt; | nBabies &lt;int&gt; | SleepHrsNight &lt;int&gt; | PhysActive &lt;chr&gt; | PhysActiveDays &lt;int&gt; | AlcoholDay &lt;int&gt; | AlcoholYear &lt;int&gt; | SmokingStatus &lt;chr&gt; |\n",
       "|---|---|---|---|---|---|---|---|---|---|---|---|---|---|---|---|---|---|---|---|---|\n",
       "| 71909 | male   | 28 | Mexican | 9 - 11th Grade | NeverMarried | Single    | No  |  7500 | 0.46 | ... | No  | NA | NA | NA |  6 | Yes | NA | NA | NA | Current |\n",
       "| 71909 | male   | 28 | Mexican | 9 - 11th Grade | NeverMarried | Single    | No  |  7500 | 0.46 | ... | No  | NA | NA | NA |  6 | Yes | NA | NA | NA | Current |\n",
       "| 71910 | female |  0 | White   | NA             | NA           | NA        | Yes | 87500 | 3.37 | ... | NA  | NA | NA | NA | NA | NA  | NA | NA | NA | NA      |\n",
       "| 71911 | male   | 27 | Mexican | College Grad   | Married      | Committed | Yes | 87500 | 3.25 | ... | No  | NA | NA | NA |  6 | No  |  3 |  5 |  4 | Never   |\n",
       "| 71915 | male   | 60 | White   | College Grad   | NeverMarried | Single    | Yes | 70000 | 5.00 | ... | Yes | 56 | NA | NA |  6 | No  |  1 | NA |  0 | Never   |\n",
       "| 71915 | male   | 60 | White   | College Grad   | NeverMarried | Single    | Yes | 70000 | 5.00 | ... | Yes | 56 | NA | NA |  6 | No  | NA | NA |  0 | Never   |\n",
       "\n"
      ],
      "text/plain": [
       "  ο.Ώid Gender Age Race    Education      MaritalStatus RelationshipStatus\n",
       "1 71909 male   28  Mexican 9 - 11th Grade NeverMarried  Single            \n",
       "2 71909 male   28  Mexican 9 - 11th Grade NeverMarried  Single            \n",
       "3 71910 female  0  White   NA             NA            NA                \n",
       "4 71911 male   27  Mexican College Grad   Married       Committed         \n",
       "5 71915 male   60  White   College Grad   NeverMarried  Single            \n",
       "6 71915 male   60  White   College Grad   NeverMarried  Single            \n",
       "  Insured Income Poverty ... Diabetes DiabetesAge nPregnancies nBabies\n",
       "1 No       7500  0.46    ... No       NA          NA           NA     \n",
       "2 No       7500  0.46    ... No       NA          NA           NA     \n",
       "3 Yes     87500  3.37    ... NA       NA          NA           NA     \n",
       "4 Yes     87500  3.25    ... No       NA          NA           NA     \n",
       "5 Yes     70000  5.00    ... Yes      56          NA           NA     \n",
       "6 Yes     70000  5.00    ... Yes      56          NA           NA     \n",
       "  SleepHrsNight PhysActive PhysActiveDays AlcoholDay AlcoholYear SmokingStatus\n",
       "1  6            Yes        NA             NA         NA          Current      \n",
       "2  6            Yes        NA             NA         NA          Current      \n",
       "3 NA            NA         NA             NA         NA          NA           \n",
       "4  6            No          3              5          4          Never        \n",
       "5  6            No          1             NA          0          Never        \n",
       "6  6            No         NA             NA          0          Never        "
      ]
     },
     "metadata": {},
     "output_type": "display_data"
    },
    {
     "data": {
      "text/html": [
       "<style>\n",
       ".list-inline {list-style: none; margin:0; padding: 0}\n",
       ".list-inline>li {display: inline-block}\n",
       ".list-inline>li:not(:last-child)::after {content: \"\\00b7\"; padding: 0 .5ex}\n",
       "</style>\n",
       "<ol class=list-inline><li>5000</li><li>32</li></ol>\n"
      ],
      "text/latex": [
       "\\begin{enumerate*}\n",
       "\\item 5000\n",
       "\\item 32\n",
       "\\end{enumerate*}\n"
      ],
      "text/markdown": [
       "1. 5000\n",
       "2. 32\n",
       "\n",
       "\n"
      ],
      "text/plain": [
       "[1] 5000   32"
      ]
     },
     "metadata": {},
     "output_type": "display_data"
    },
    {
     "data": {
      "text/html": [
       "<style>\n",
       ".list-inline {list-style: none; margin:0; padding: 0}\n",
       ".list-inline>li {display: inline-block}\n",
       ".list-inline>li:not(:last-child)::after {content: \"\\00b7\"; padding: 0 .5ex}\n",
       "</style>\n",
       "<ol class=list-inline><li>'ο.Ώid'</li><li>'Gender'</li><li>'Age'</li><li>'Race'</li><li>'Education'</li><li>'MaritalStatus'</li><li>'RelationshipStatus'</li><li>'Insured'</li><li>'Income'</li><li>'Poverty'</li><li>'HomeRooms'</li><li>'HomeOwn'</li><li>'Work'</li><li>'Weight'</li><li>'Height'</li><li>'BMI'</li><li>'Pulse'</li><li>'BPSys'</li><li>'BPDia'</li><li>'Testosterone'</li><li>'HDLChol'</li><li>'TotChol'</li><li>'Diabetes'</li><li>'DiabetesAge'</li><li>'nPregnancies'</li><li>'nBabies'</li><li>'SleepHrsNight'</li><li>'PhysActive'</li><li>'PhysActiveDays'</li><li>'AlcoholDay'</li><li>'AlcoholYear'</li><li>'SmokingStatus'</li></ol>\n"
      ],
      "text/latex": [
       "\\begin{enumerate*}\n",
       "\\item 'ο.Ώid'\n",
       "\\item 'Gender'\n",
       "\\item 'Age'\n",
       "\\item 'Race'\n",
       "\\item 'Education'\n",
       "\\item 'MaritalStatus'\n",
       "\\item 'RelationshipStatus'\n",
       "\\item 'Insured'\n",
       "\\item 'Income'\n",
       "\\item 'Poverty'\n",
       "\\item 'HomeRooms'\n",
       "\\item 'HomeOwn'\n",
       "\\item 'Work'\n",
       "\\item 'Weight'\n",
       "\\item 'Height'\n",
       "\\item 'BMI'\n",
       "\\item 'Pulse'\n",
       "\\item 'BPSys'\n",
       "\\item 'BPDia'\n",
       "\\item 'Testosterone'\n",
       "\\item 'HDLChol'\n",
       "\\item 'TotChol'\n",
       "\\item 'Diabetes'\n",
       "\\item 'DiabetesAge'\n",
       "\\item 'nPregnancies'\n",
       "\\item 'nBabies'\n",
       "\\item 'SleepHrsNight'\n",
       "\\item 'PhysActive'\n",
       "\\item 'PhysActiveDays'\n",
       "\\item 'AlcoholDay'\n",
       "\\item 'AlcoholYear'\n",
       "\\item 'SmokingStatus'\n",
       "\\end{enumerate*}\n"
      ],
      "text/markdown": [
       "1. 'ο.Ώid'\n",
       "2. 'Gender'\n",
       "3. 'Age'\n",
       "4. 'Race'\n",
       "5. 'Education'\n",
       "6. 'MaritalStatus'\n",
       "7. 'RelationshipStatus'\n",
       "8. 'Insured'\n",
       "9. 'Income'\n",
       "10. 'Poverty'\n",
       "11. 'HomeRooms'\n",
       "12. 'HomeOwn'\n",
       "13. 'Work'\n",
       "14. 'Weight'\n",
       "15. 'Height'\n",
       "16. 'BMI'\n",
       "17. 'Pulse'\n",
       "18. 'BPSys'\n",
       "19. 'BPDia'\n",
       "20. 'Testosterone'\n",
       "21. 'HDLChol'\n",
       "22. 'TotChol'\n",
       "23. 'Diabetes'\n",
       "24. 'DiabetesAge'\n",
       "25. 'nPregnancies'\n",
       "26. 'nBabies'\n",
       "27. 'SleepHrsNight'\n",
       "28. 'PhysActive'\n",
       "29. 'PhysActiveDays'\n",
       "30. 'AlcoholDay'\n",
       "31. 'AlcoholYear'\n",
       "32. 'SmokingStatus'\n",
       "\n",
       "\n"
      ],
      "text/plain": [
       " [1] \"ο.Ώid\"              \"Gender\"             \"Age\"               \n",
       " [4] \"Race\"               \"Education\"          \"MaritalStatus\"     \n",
       " [7] \"RelationshipStatus\" \"Insured\"            \"Income\"            \n",
       "[10] \"Poverty\"            \"HomeRooms\"          \"HomeOwn\"           \n",
       "[13] \"Work\"               \"Weight\"             \"Height\"            \n",
       "[16] \"BMI\"                \"Pulse\"              \"BPSys\"             \n",
       "[19] \"BPDia\"              \"Testosterone\"       \"HDLChol\"           \n",
       "[22] \"TotChol\"            \"Diabetes\"           \"DiabetesAge\"       \n",
       "[25] \"nPregnancies\"       \"nBabies\"            \"SleepHrsNight\"     \n",
       "[28] \"PhysActive\"         \"PhysActiveDays\"     \"AlcoholDay\"        \n",
       "[31] \"AlcoholYear\"        \"SmokingStatus\"     "
      ]
     },
     "metadata": {},
     "output_type": "display_data"
    },
    {
     "name": "stdout",
     "output_type": "stream",
     "text": [
      "Rows: 5,000\n",
      "Columns: 32\n",
      "$ ο.Ώid              \u001b[3m\u001b[90m<int>\u001b[39m\u001b[23m 62163, 62172, 62174, 62174, 62175, 62176, 62178,...\n",
      "$ Gender             \u001b[3m\u001b[90m<chr>\u001b[39m\u001b[23m \"male\", \"female\", \"male\", \"male\", \"male\", \"femal...\n",
      "$ Age                \u001b[3m\u001b[90m<int>\u001b[39m\u001b[23m 14, 43, 80, 80, 5, 34, 80, 35, 17, 15, 57, 57, 5...\n",
      "$ Race               \u001b[3m\u001b[90m<chr>\u001b[39m\u001b[23m \"Asian\", \"Black\", \"White\", \"White\", \"White\", \"Wh...\n",
      "$ Education          \u001b[3m\u001b[90m<chr>\u001b[39m\u001b[23m NA, \"High School\", \"College Grad\", \"College Grad...\n",
      "$ MaritalStatus      \u001b[3m\u001b[90m<chr>\u001b[39m\u001b[23m NA, \"NeverMarried\", \"Married\", \"Married\", NA, \"M...\n",
      "$ RelationshipStatus \u001b[3m\u001b[90m<chr>\u001b[39m\u001b[23m NA, \"Single\", \"Committed\", \"Committed\", NA, \"Com...\n",
      "$ Insured            \u001b[3m\u001b[90m<chr>\u001b[39m\u001b[23m \"Yes\", \"Yes\", \"Yes\", \"Yes\", \"Yes\", \"Yes\", \"Yes\",...\n",
      "$ Income             \u001b[3m\u001b[90m<int>\u001b[39m\u001b[23m 100000, 22500, 70000, 70000, 12500, 100000, 2500...\n",
      "$ Poverty            \u001b[3m\u001b[90m<dbl>\u001b[39m\u001b[23m 4.07, 2.02, 4.30, 4.30, 0.39, 5.00, 0.05, 0.87, ...\n",
      "$ HomeRooms          \u001b[3m\u001b[90m<int>\u001b[39m\u001b[23m 6, 4, 7, 7, 7, 8, 6, 6, 6, 4, 4, 4, 4, 4, 12, 12...\n",
      "$ HomeOwn            \u001b[3m\u001b[90m<chr>\u001b[39m\u001b[23m \"Rent\", \"Rent\", \"Own\", \"Own\", \"Rent\", \"Own\", \"Ow...\n",
      "$ Work               \u001b[3m\u001b[90m<chr>\u001b[39m\u001b[23m NA, \"NotWorking\", \"NotWorking\", \"NotWorking\", NA...\n",
      "$ Weight             \u001b[3m\u001b[90m<dbl>\u001b[39m\u001b[23m 49.4, 98.6, 95.8, 95.8, 23.9, 68.7, 85.9, 89.0, ...\n",
      "$ Height             \u001b[3m\u001b[90m<dbl>\u001b[39m\u001b[23m 168.9, 172.0, 168.1, 168.1, 119.8, 171.6, 173.5,...\n",
      "$ BMI                \u001b[3m\u001b[90m<dbl>\u001b[39m\u001b[23m 17.3, 33.3, 33.9, 33.9, 16.7, 23.3, 28.5, 27.9, ...\n",
      "$ Pulse              \u001b[3m\u001b[90m<int>\u001b[39m\u001b[23m 72, 80, 56, 56, NA, 92, 68, 66, 86, 76, 84, 84, ...\n",
      "$ BPSys              \u001b[3m\u001b[90m<int>\u001b[39m\u001b[23m 107, 103, 97, 97, NA, 107, 121, 107, 108, 113, 1...\n",
      "$ BPDia              \u001b[3m\u001b[90m<int>\u001b[39m\u001b[23m 37, 72, 39, 39, NA, 69, 72, 66, 64, 27, 65, 65, ...\n",
      "$ Testosterone       \u001b[3m\u001b[90m<dbl>\u001b[39m\u001b[23m 274.95, 47.53, 642.82, 642.82, NA, 21.11, 562.78...\n",
      "$ HDLChol            \u001b[3m\u001b[90m<dbl>\u001b[39m\u001b[23m 1.14, 1.89, 1.40, 1.40, NA, 1.42, 1.22, 0.85, 1....\n",
      "$ TotChol            \u001b[3m\u001b[90m<dbl>\u001b[39m\u001b[23m 3.98, 4.37, 5.25, 5.25, NA, 4.42, 5.20, 3.70, 3....\n",
      "$ Diabetes           \u001b[3m\u001b[90m<chr>\u001b[39m\u001b[23m \"No\", \"No\", \"No\", \"No\", \"No\", \"No\", \"No\", \"No\", ...\n",
      "$ DiabetesAge        \u001b[3m\u001b[90m<int>\u001b[39m\u001b[23m NA, NA, NA, NA, NA, NA, NA, NA, NA, NA, NA, NA, ...\n",
      "$ nPregnancies       \u001b[3m\u001b[90m<int>\u001b[39m\u001b[23m NA, 3, NA, NA, NA, 5, NA, NA, NA, NA, NA, NA, NA...\n",
      "$ nBabies            \u001b[3m\u001b[90m<int>\u001b[39m\u001b[23m NA, 2, NA, NA, NA, 2, NA, NA, NA, NA, NA, NA, NA...\n",
      "$ SleepHrsNight      \u001b[3m\u001b[90m<int>\u001b[39m\u001b[23m NA, 8, 9, 9, NA, 7, 6, 7, 7, NA, 8, 8, 8, 8, 6, ...\n",
      "$ PhysActive         \u001b[3m\u001b[90m<chr>\u001b[39m\u001b[23m \"No\", \"No\", \"No\", \"No\", NA, \"Yes\", \"No\", \"No\", \"...\n",
      "$ PhysActiveDays     \u001b[3m\u001b[90m<int>\u001b[39m\u001b[23m 1, 2, 7, 5, 7, 5, NA, NA, 4, 7, 2, NA, 7, NA, NA...\n",
      "$ AlcoholDay         \u001b[3m\u001b[90m<int>\u001b[39m\u001b[23m NA, 3, NA, NA, NA, 2, NA, 1, NA, NA, 1, 1, 1, 1,...\n",
      "$ AlcoholYear        \u001b[3m\u001b[90m<int>\u001b[39m\u001b[23m NA, 104, 0, 0, NA, 104, NA, 2, NA, NA, 260, 260,...\n",
      "$ SmokingStatus      \u001b[3m\u001b[90m<chr>\u001b[39m\u001b[23m NA, \"Current\", \"Never\", \"Never\", NA, \"Never\", \"N...\n"
     ]
    }
   ],
   "source": [
    "# run the following commands\n",
    "head(nh)\n",
    "tail(nh)\n",
    "dim(nh)\n",
    "names(nh)\n",
    "glimpse(nh)\n"
   ]
  },
  {
   "cell_type": "markdown",
   "metadata": {},
   "source": [
    "## Descriptive statistics \n",
    "\n",
    "We can access individual variables within a data frame using the $ operator, e.g., mydataframe$specificVariable. Let’s print out all the Race values in the data. Let’s then see what are the unique values of each. Then let’s calculate the mean, median, and range of the Age variable.\n",
    "\n",
    "If you run the `summary()` function  on a data frame, you get some very basic summary statistics on each variable in the data.\n",
    "\\begin{exercise}\n",
    "a) display race values\n",
    "b) get unique values of Race\n",
    "c) length of Race\n",
    "d) Read the functions that dplyr (https://dplyr.tidyverse.org/) supports\n",
    "e) do the d) using dplyr way\n",
    "\\end{exercise}"
   ]
  },
  {
   "cell_type": "markdown",
   "metadata": {},
   "source": [
    "**ANSWER**"
   ]
  },
  {
   "cell_type": "code",
   "execution_count": 175,
   "metadata": {},
   "outputs": [
    {
     "data": {
      "text/html": [
       "<style>\n",
       ".list-inline {list-style: none; margin:0; padding: 0}\n",
       ".list-inline>li {display: inline-block}\n",
       ".list-inline>li:not(:last-child)::after {content: \"\\00b7\"; padding: 0 .5ex}\n",
       "</style>\n",
       "<ol class=list-inline><li>'Asian'</li><li>'Black'</li><li>'White'</li><li>'White'</li><li>'White'</li><li>'White'</li><li>'White'</li><li>'White'</li><li>'Black'</li><li>'Mexican'</li><li>'White'</li><li>'White'</li><li>'White'</li><li>'White'</li><li>'White'</li><li>'White'</li><li>'White'</li><li>'White'</li><li>'White'</li><li>'Hispanic'</li><li>'Mexican'</li><li>'White'</li><li>'Mexican'</li><li>'Black'</li><li>'White'</li><li>'White'</li><li>'White'</li><li>'White'</li><li>'Asian'</li><li>'Mexican'</li><li>'White'</li><li>'White'</li><li>'White'</li><li>'White'</li><li>'White'</li><li>'Mexican'</li><li>'White'</li><li>'Mexican'</li><li>'White'</li><li>'White'</li><li>'White'</li><li>'Hispanic'</li><li>'White'</li><li>'White'</li><li>'White'</li><li>'White'</li><li>'White'</li><li>'Mexican'</li><li>'Hispanic'</li><li>'Black'</li><li>'White'</li><li>'Mexican'</li><li>'Black'</li><li>'White'</li><li>'White'</li><li>'Black'</li><li>'Black'</li><li>'White'</li><li>'White'</li><li>'White'</li><li>'White'</li><li>'Other'</li><li>'Other'</li><li>'Hispanic'</li><li>'Black'</li><li>'Black'</li><li>'White'</li><li>'White'</li><li>'Black'</li><li>'Black'</li><li>'Hispanic'</li><li>'White'</li><li>'White'</li><li>'Mexican'</li><li>'White'</li><li>'Black'</li><li>'White'</li><li>'White'</li><li>'Black'</li><li>'Asian'</li><li>'Hispanic'</li><li>'White'</li><li>'White'</li><li>'White'</li><li>'White'</li><li>'Mexican'</li><li>'White'</li><li>'White'</li><li>'White'</li><li>'White'</li><li>'White'</li><li>'Other'</li><li>'White'</li><li>'White'</li><li>'White'</li><li>'White'</li><li>'White'</li><li>'White'</li><li>'White'</li><li>'White'</li><li>'White'</li><li>'White'</li><li>'White'</li><li>'White'</li><li>'White'</li><li>'White'</li><li>'Hispanic'</li><li>'Asian'</li><li>'Hispanic'</li><li>'White'</li><li>'White'</li><li>'White'</li><li>'Mexican'</li><li>'Mexican'</li><li>'White'</li><li>'Hispanic'</li><li>'White'</li><li>'White'</li><li>'White'</li><li>'White'</li><li>'White'</li><li>'White'</li><li>'White'</li><li>'White'</li><li>'Hispanic'</li><li>'White'</li><li>'White'</li><li>'White'</li><li>'White'</li><li>'White'</li><li>'White'</li><li>'White'</li><li>'Hispanic'</li><li>'White'</li><li>'White'</li><li>'White'</li><li>'Mexican'</li><li>'Mexican'</li><li>'White'</li><li>'Mexican'</li><li>'Black'</li><li>'Black'</li><li>'White'</li><li>'Hispanic'</li><li>'Asian'</li><li>'White'</li><li>'White'</li><li>'White'</li><li>'White'</li><li>'White'</li><li>'White'</li><li>'White'</li><li>'White'</li><li>'White'</li><li>'White'</li><li>'White'</li><li>'White'</li><li>'Hispanic'</li><li>'White'</li><li>'White'</li><li>'White'</li><li>'Asian'</li><li>'White'</li><li>'Hispanic'</li><li>'Hispanic'</li><li>'White'</li><li>'White'</li><li>'White'</li><li>'Hispanic'</li><li>'Asian'</li><li>'Other'</li><li>'White'</li><li>'White'</li><li>'Mexican'</li><li>'White'</li><li>'White'</li><li>'White'</li><li>'White'</li><li>'Hispanic'</li><li>'Hispanic'</li><li>'White'</li><li>'White'</li><li>'White'</li><li>'White'</li><li>'White'</li><li>'White'</li><li>'White'</li><li>'Black'</li><li>'White'</li><li>'White'</li><li>'Asian'</li><li>'Asian'</li><li>'Black'</li><li>'Hispanic'</li><li>'Mexican'</li><li>'Asian'</li><li>'Other'</li><li>'White'</li><li>'White'</li><li>'White'</li><li>...</li><li>'White'</li><li>'White'</li><li>'White'</li><li>'White'</li><li>'Mexican'</li><li>'White'</li><li>'Mexican'</li><li>'White'</li><li>'White'</li><li>'Hispanic'</li><li>'White'</li><li>'White'</li><li>'White'</li><li>'White'</li><li>'White'</li><li>'White'</li><li>'Mexican'</li><li>'Mexican'</li><li>'Hispanic'</li><li>'Hispanic'</li><li>'White'</li><li>'White'</li><li>'Black'</li><li>'White'</li><li>'White'</li><li>'White'</li><li>'Mexican'</li><li>'Mexican'</li><li>'Mexican'</li><li>'White'</li><li>'White'</li><li>'White'</li><li>'Mexican'</li><li>'White'</li><li>'White'</li><li>'Mexican'</li><li>'White'</li><li>'White'</li><li>'White'</li><li>'White'</li><li>'Mexican'</li><li>'White'</li><li>'White'</li><li>'White'</li><li>'White'</li><li>'Black'</li><li>'Asian'</li><li>'Asian'</li><li>'Black'</li><li>'White'</li><li>'White'</li><li>'White'</li><li>'Black'</li><li>'White'</li><li>'White'</li><li>'White'</li><li>'White'</li><li>'White'</li><li>'White'</li><li>'Mexican'</li><li>'White'</li><li>'White'</li><li>'White'</li><li>'White'</li><li>'White'</li><li>'White'</li><li>'Hispanic'</li><li>'Hispanic'</li><li>'Mexican'</li><li>'Asian'</li><li>'White'</li><li>'White'</li><li>'Black'</li><li>'Mexican'</li><li>'White'</li><li>'White'</li><li>'White'</li><li>'White'</li><li>'White'</li><li>'White'</li><li>'White'</li><li>'White'</li><li>'Mexican'</li><li>'White'</li><li>'White'</li><li>'White'</li><li>'White'</li><li>'Asian'</li><li>'White'</li><li>'White'</li><li>'White'</li><li>'Hispanic'</li><li>'White'</li><li>'White'</li><li>'Black'</li><li>'White'</li><li>'Mexican'</li><li>'Black'</li><li>'White'</li><li>'White'</li><li>'Asian'</li><li>'Black'</li><li>'Hispanic'</li><li>'Mexican'</li><li>'White'</li><li>'White'</li><li>'Mexican'</li><li>'Black'</li><li>'White'</li><li>'White'</li><li>'White'</li><li>'White'</li><li>'Hispanic'</li><li>'White'</li><li>'White'</li><li>'Black'</li><li>'White'</li><li>'White'</li><li>'White'</li><li>'White'</li><li>'Asian'</li><li>'Asian'</li><li>'Hispanic'</li><li>'Mexican'</li><li>'Mexican'</li><li>'White'</li><li>'Hispanic'</li><li>'Hispanic'</li><li>'Black'</li><li>'White'</li><li>'White'</li><li>'Asian'</li><li>'White'</li><li>'Black'</li><li>'Other'</li><li>'Black'</li><li>'Mexican'</li><li>'White'</li><li>'White'</li><li>'White'</li><li>'Black'</li><li>'White'</li><li>'White'</li><li>'White'</li><li>'White'</li><li>'White'</li><li>'White'</li><li>'White'</li><li>'Mexican'</li><li>'Black'</li><li>'Hispanic'</li><li>'Hispanic'</li><li>'Mexican'</li><li>'White'</li><li>'Black'</li><li>'White'</li><li>'White'</li><li>'White'</li><li>'White'</li><li>'White'</li><li>'White'</li><li>'White'</li><li>'Mexican'</li><li>'Asian'</li><li>'Black'</li><li>'White'</li><li>'White'</li><li>'White'</li><li>'Hispanic'</li><li>'Other'</li><li>'White'</li><li>'White'</li><li>'White'</li><li>'White'</li><li>'Black'</li><li>'Mexican'</li><li>'Mexican'</li><li>'Mexican'</li><li>'Mexican'</li><li>'White'</li><li>'White'</li><li>'White'</li><li>'White'</li><li>'Black'</li><li>'Black'</li><li>'Black'</li><li>'Black'</li><li>'Mexican'</li><li>'White'</li><li>'White'</li><li>'White'</li><li>'White'</li><li>'White'</li><li>'Mexican'</li><li>'Mexican'</li><li>'Mexican'</li><li>'White'</li><li>'Mexican'</li><li>'White'</li><li>'White'</li></ol>\n"
      ],
      "text/latex": [
       "\\begin{enumerate*}\n",
       "\\item 'Asian'\n",
       "\\item 'Black'\n",
       "\\item 'White'\n",
       "\\item 'White'\n",
       "\\item 'White'\n",
       "\\item 'White'\n",
       "\\item 'White'\n",
       "\\item 'White'\n",
       "\\item 'Black'\n",
       "\\item 'Mexican'\n",
       "\\item 'White'\n",
       "\\item 'White'\n",
       "\\item 'White'\n",
       "\\item 'White'\n",
       "\\item 'White'\n",
       "\\item 'White'\n",
       "\\item 'White'\n",
       "\\item 'White'\n",
       "\\item 'White'\n",
       "\\item 'Hispanic'\n",
       "\\item 'Mexican'\n",
       "\\item 'White'\n",
       "\\item 'Mexican'\n",
       "\\item 'Black'\n",
       "\\item 'White'\n",
       "\\item 'White'\n",
       "\\item 'White'\n",
       "\\item 'White'\n",
       "\\item 'Asian'\n",
       "\\item 'Mexican'\n",
       "\\item 'White'\n",
       "\\item 'White'\n",
       "\\item 'White'\n",
       "\\item 'White'\n",
       "\\item 'White'\n",
       "\\item 'Mexican'\n",
       "\\item 'White'\n",
       "\\item 'Mexican'\n",
       "\\item 'White'\n",
       "\\item 'White'\n",
       "\\item 'White'\n",
       "\\item 'Hispanic'\n",
       "\\item 'White'\n",
       "\\item 'White'\n",
       "\\item 'White'\n",
       "\\item 'White'\n",
       "\\item 'White'\n",
       "\\item 'Mexican'\n",
       "\\item 'Hispanic'\n",
       "\\item 'Black'\n",
       "\\item 'White'\n",
       "\\item 'Mexican'\n",
       "\\item 'Black'\n",
       "\\item 'White'\n",
       "\\item 'White'\n",
       "\\item 'Black'\n",
       "\\item 'Black'\n",
       "\\item 'White'\n",
       "\\item 'White'\n",
       "\\item 'White'\n",
       "\\item 'White'\n",
       "\\item 'Other'\n",
       "\\item 'Other'\n",
       "\\item 'Hispanic'\n",
       "\\item 'Black'\n",
       "\\item 'Black'\n",
       "\\item 'White'\n",
       "\\item 'White'\n",
       "\\item 'Black'\n",
       "\\item 'Black'\n",
       "\\item 'Hispanic'\n",
       "\\item 'White'\n",
       "\\item 'White'\n",
       "\\item 'Mexican'\n",
       "\\item 'White'\n",
       "\\item 'Black'\n",
       "\\item 'White'\n",
       "\\item 'White'\n",
       "\\item 'Black'\n",
       "\\item 'Asian'\n",
       "\\item 'Hispanic'\n",
       "\\item 'White'\n",
       "\\item 'White'\n",
       "\\item 'White'\n",
       "\\item 'White'\n",
       "\\item 'Mexican'\n",
       "\\item 'White'\n",
       "\\item 'White'\n",
       "\\item 'White'\n",
       "\\item 'White'\n",
       "\\item 'White'\n",
       "\\item 'Other'\n",
       "\\item 'White'\n",
       "\\item 'White'\n",
       "\\item 'White'\n",
       "\\item 'White'\n",
       "\\item 'White'\n",
       "\\item 'White'\n",
       "\\item 'White'\n",
       "\\item 'White'\n",
       "\\item 'White'\n",
       "\\item 'White'\n",
       "\\item 'White'\n",
       "\\item 'White'\n",
       "\\item 'White'\n",
       "\\item 'White'\n",
       "\\item 'Hispanic'\n",
       "\\item 'Asian'\n",
       "\\item 'Hispanic'\n",
       "\\item 'White'\n",
       "\\item 'White'\n",
       "\\item 'White'\n",
       "\\item 'Mexican'\n",
       "\\item 'Mexican'\n",
       "\\item 'White'\n",
       "\\item 'Hispanic'\n",
       "\\item 'White'\n",
       "\\item 'White'\n",
       "\\item 'White'\n",
       "\\item 'White'\n",
       "\\item 'White'\n",
       "\\item 'White'\n",
       "\\item 'White'\n",
       "\\item 'White'\n",
       "\\item 'Hispanic'\n",
       "\\item 'White'\n",
       "\\item 'White'\n",
       "\\item 'White'\n",
       "\\item 'White'\n",
       "\\item 'White'\n",
       "\\item 'White'\n",
       "\\item 'White'\n",
       "\\item 'Hispanic'\n",
       "\\item 'White'\n",
       "\\item 'White'\n",
       "\\item 'White'\n",
       "\\item 'Mexican'\n",
       "\\item 'Mexican'\n",
       "\\item 'White'\n",
       "\\item 'Mexican'\n",
       "\\item 'Black'\n",
       "\\item 'Black'\n",
       "\\item 'White'\n",
       "\\item 'Hispanic'\n",
       "\\item 'Asian'\n",
       "\\item 'White'\n",
       "\\item 'White'\n",
       "\\item 'White'\n",
       "\\item 'White'\n",
       "\\item 'White'\n",
       "\\item 'White'\n",
       "\\item 'White'\n",
       "\\item 'White'\n",
       "\\item 'White'\n",
       "\\item 'White'\n",
       "\\item 'White'\n",
       "\\item 'White'\n",
       "\\item 'Hispanic'\n",
       "\\item 'White'\n",
       "\\item 'White'\n",
       "\\item 'White'\n",
       "\\item 'Asian'\n",
       "\\item 'White'\n",
       "\\item 'Hispanic'\n",
       "\\item 'Hispanic'\n",
       "\\item 'White'\n",
       "\\item 'White'\n",
       "\\item 'White'\n",
       "\\item 'Hispanic'\n",
       "\\item 'Asian'\n",
       "\\item 'Other'\n",
       "\\item 'White'\n",
       "\\item 'White'\n",
       "\\item 'Mexican'\n",
       "\\item 'White'\n",
       "\\item 'White'\n",
       "\\item 'White'\n",
       "\\item 'White'\n",
       "\\item 'Hispanic'\n",
       "\\item 'Hispanic'\n",
       "\\item 'White'\n",
       "\\item 'White'\n",
       "\\item 'White'\n",
       "\\item 'White'\n",
       "\\item 'White'\n",
       "\\item 'White'\n",
       "\\item 'White'\n",
       "\\item 'Black'\n",
       "\\item 'White'\n",
       "\\item 'White'\n",
       "\\item 'Asian'\n",
       "\\item 'Asian'\n",
       "\\item 'Black'\n",
       "\\item 'Hispanic'\n",
       "\\item 'Mexican'\n",
       "\\item 'Asian'\n",
       "\\item 'Other'\n",
       "\\item 'White'\n",
       "\\item 'White'\n",
       "\\item 'White'\n",
       "\\item ...\n",
       "\\item 'White'\n",
       "\\item 'White'\n",
       "\\item 'White'\n",
       "\\item 'White'\n",
       "\\item 'Mexican'\n",
       "\\item 'White'\n",
       "\\item 'Mexican'\n",
       "\\item 'White'\n",
       "\\item 'White'\n",
       "\\item 'Hispanic'\n",
       "\\item 'White'\n",
       "\\item 'White'\n",
       "\\item 'White'\n",
       "\\item 'White'\n",
       "\\item 'White'\n",
       "\\item 'White'\n",
       "\\item 'Mexican'\n",
       "\\item 'Mexican'\n",
       "\\item 'Hispanic'\n",
       "\\item 'Hispanic'\n",
       "\\item 'White'\n",
       "\\item 'White'\n",
       "\\item 'Black'\n",
       "\\item 'White'\n",
       "\\item 'White'\n",
       "\\item 'White'\n",
       "\\item 'Mexican'\n",
       "\\item 'Mexican'\n",
       "\\item 'Mexican'\n",
       "\\item 'White'\n",
       "\\item 'White'\n",
       "\\item 'White'\n",
       "\\item 'Mexican'\n",
       "\\item 'White'\n",
       "\\item 'White'\n",
       "\\item 'Mexican'\n",
       "\\item 'White'\n",
       "\\item 'White'\n",
       "\\item 'White'\n",
       "\\item 'White'\n",
       "\\item 'Mexican'\n",
       "\\item 'White'\n",
       "\\item 'White'\n",
       "\\item 'White'\n",
       "\\item 'White'\n",
       "\\item 'Black'\n",
       "\\item 'Asian'\n",
       "\\item 'Asian'\n",
       "\\item 'Black'\n",
       "\\item 'White'\n",
       "\\item 'White'\n",
       "\\item 'White'\n",
       "\\item 'Black'\n",
       "\\item 'White'\n",
       "\\item 'White'\n",
       "\\item 'White'\n",
       "\\item 'White'\n",
       "\\item 'White'\n",
       "\\item 'White'\n",
       "\\item 'Mexican'\n",
       "\\item 'White'\n",
       "\\item 'White'\n",
       "\\item 'White'\n",
       "\\item 'White'\n",
       "\\item 'White'\n",
       "\\item 'White'\n",
       "\\item 'Hispanic'\n",
       "\\item 'Hispanic'\n",
       "\\item 'Mexican'\n",
       "\\item 'Asian'\n",
       "\\item 'White'\n",
       "\\item 'White'\n",
       "\\item 'Black'\n",
       "\\item 'Mexican'\n",
       "\\item 'White'\n",
       "\\item 'White'\n",
       "\\item 'White'\n",
       "\\item 'White'\n",
       "\\item 'White'\n",
       "\\item 'White'\n",
       "\\item 'White'\n",
       "\\item 'White'\n",
       "\\item 'Mexican'\n",
       "\\item 'White'\n",
       "\\item 'White'\n",
       "\\item 'White'\n",
       "\\item 'White'\n",
       "\\item 'Asian'\n",
       "\\item 'White'\n",
       "\\item 'White'\n",
       "\\item 'White'\n",
       "\\item 'Hispanic'\n",
       "\\item 'White'\n",
       "\\item 'White'\n",
       "\\item 'Black'\n",
       "\\item 'White'\n",
       "\\item 'Mexican'\n",
       "\\item 'Black'\n",
       "\\item 'White'\n",
       "\\item 'White'\n",
       "\\item 'Asian'\n",
       "\\item 'Black'\n",
       "\\item 'Hispanic'\n",
       "\\item 'Mexican'\n",
       "\\item 'White'\n",
       "\\item 'White'\n",
       "\\item 'Mexican'\n",
       "\\item 'Black'\n",
       "\\item 'White'\n",
       "\\item 'White'\n",
       "\\item 'White'\n",
       "\\item 'White'\n",
       "\\item 'Hispanic'\n",
       "\\item 'White'\n",
       "\\item 'White'\n",
       "\\item 'Black'\n",
       "\\item 'White'\n",
       "\\item 'White'\n",
       "\\item 'White'\n",
       "\\item 'White'\n",
       "\\item 'Asian'\n",
       "\\item 'Asian'\n",
       "\\item 'Hispanic'\n",
       "\\item 'Mexican'\n",
       "\\item 'Mexican'\n",
       "\\item 'White'\n",
       "\\item 'Hispanic'\n",
       "\\item 'Hispanic'\n",
       "\\item 'Black'\n",
       "\\item 'White'\n",
       "\\item 'White'\n",
       "\\item 'Asian'\n",
       "\\item 'White'\n",
       "\\item 'Black'\n",
       "\\item 'Other'\n",
       "\\item 'Black'\n",
       "\\item 'Mexican'\n",
       "\\item 'White'\n",
       "\\item 'White'\n",
       "\\item 'White'\n",
       "\\item 'Black'\n",
       "\\item 'White'\n",
       "\\item 'White'\n",
       "\\item 'White'\n",
       "\\item 'White'\n",
       "\\item 'White'\n",
       "\\item 'White'\n",
       "\\item 'White'\n",
       "\\item 'Mexican'\n",
       "\\item 'Black'\n",
       "\\item 'Hispanic'\n",
       "\\item 'Hispanic'\n",
       "\\item 'Mexican'\n",
       "\\item 'White'\n",
       "\\item 'Black'\n",
       "\\item 'White'\n",
       "\\item 'White'\n",
       "\\item 'White'\n",
       "\\item 'White'\n",
       "\\item 'White'\n",
       "\\item 'White'\n",
       "\\item 'White'\n",
       "\\item 'Mexican'\n",
       "\\item 'Asian'\n",
       "\\item 'Black'\n",
       "\\item 'White'\n",
       "\\item 'White'\n",
       "\\item 'White'\n",
       "\\item 'Hispanic'\n",
       "\\item 'Other'\n",
       "\\item 'White'\n",
       "\\item 'White'\n",
       "\\item 'White'\n",
       "\\item 'White'\n",
       "\\item 'Black'\n",
       "\\item 'Mexican'\n",
       "\\item 'Mexican'\n",
       "\\item 'Mexican'\n",
       "\\item 'Mexican'\n",
       "\\item 'White'\n",
       "\\item 'White'\n",
       "\\item 'White'\n",
       "\\item 'White'\n",
       "\\item 'Black'\n",
       "\\item 'Black'\n",
       "\\item 'Black'\n",
       "\\item 'Black'\n",
       "\\item 'Mexican'\n",
       "\\item 'White'\n",
       "\\item 'White'\n",
       "\\item 'White'\n",
       "\\item 'White'\n",
       "\\item 'White'\n",
       "\\item 'Mexican'\n",
       "\\item 'Mexican'\n",
       "\\item 'Mexican'\n",
       "\\item 'White'\n",
       "\\item 'Mexican'\n",
       "\\item 'White'\n",
       "\\item 'White'\n",
       "\\end{enumerate*}\n"
      ],
      "text/markdown": [
       "1. 'Asian'\n",
       "2. 'Black'\n",
       "3. 'White'\n",
       "4. 'White'\n",
       "5. 'White'\n",
       "6. 'White'\n",
       "7. 'White'\n",
       "8. 'White'\n",
       "9. 'Black'\n",
       "10. 'Mexican'\n",
       "11. 'White'\n",
       "12. 'White'\n",
       "13. 'White'\n",
       "14. 'White'\n",
       "15. 'White'\n",
       "16. 'White'\n",
       "17. 'White'\n",
       "18. 'White'\n",
       "19. 'White'\n",
       "20. 'Hispanic'\n",
       "21. 'Mexican'\n",
       "22. 'White'\n",
       "23. 'Mexican'\n",
       "24. 'Black'\n",
       "25. 'White'\n",
       "26. 'White'\n",
       "27. 'White'\n",
       "28. 'White'\n",
       "29. 'Asian'\n",
       "30. 'Mexican'\n",
       "31. 'White'\n",
       "32. 'White'\n",
       "33. 'White'\n",
       "34. 'White'\n",
       "35. 'White'\n",
       "36. 'Mexican'\n",
       "37. 'White'\n",
       "38. 'Mexican'\n",
       "39. 'White'\n",
       "40. 'White'\n",
       "41. 'White'\n",
       "42. 'Hispanic'\n",
       "43. 'White'\n",
       "44. 'White'\n",
       "45. 'White'\n",
       "46. 'White'\n",
       "47. 'White'\n",
       "48. 'Mexican'\n",
       "49. 'Hispanic'\n",
       "50. 'Black'\n",
       "51. 'White'\n",
       "52. 'Mexican'\n",
       "53. 'Black'\n",
       "54. 'White'\n",
       "55. 'White'\n",
       "56. 'Black'\n",
       "57. 'Black'\n",
       "58. 'White'\n",
       "59. 'White'\n",
       "60. 'White'\n",
       "61. 'White'\n",
       "62. 'Other'\n",
       "63. 'Other'\n",
       "64. 'Hispanic'\n",
       "65. 'Black'\n",
       "66. 'Black'\n",
       "67. 'White'\n",
       "68. 'White'\n",
       "69. 'Black'\n",
       "70. 'Black'\n",
       "71. 'Hispanic'\n",
       "72. 'White'\n",
       "73. 'White'\n",
       "74. 'Mexican'\n",
       "75. 'White'\n",
       "76. 'Black'\n",
       "77. 'White'\n",
       "78. 'White'\n",
       "79. 'Black'\n",
       "80. 'Asian'\n",
       "81. 'Hispanic'\n",
       "82. 'White'\n",
       "83. 'White'\n",
       "84. 'White'\n",
       "85. 'White'\n",
       "86. 'Mexican'\n",
       "87. 'White'\n",
       "88. 'White'\n",
       "89. 'White'\n",
       "90. 'White'\n",
       "91. 'White'\n",
       "92. 'Other'\n",
       "93. 'White'\n",
       "94. 'White'\n",
       "95. 'White'\n",
       "96. 'White'\n",
       "97. 'White'\n",
       "98. 'White'\n",
       "99. 'White'\n",
       "100. 'White'\n",
       "101. 'White'\n",
       "102. 'White'\n",
       "103. 'White'\n",
       "104. 'White'\n",
       "105. 'White'\n",
       "106. 'White'\n",
       "107. 'Hispanic'\n",
       "108. 'Asian'\n",
       "109. 'Hispanic'\n",
       "110. 'White'\n",
       "111. 'White'\n",
       "112. 'White'\n",
       "113. 'Mexican'\n",
       "114. 'Mexican'\n",
       "115. 'White'\n",
       "116. 'Hispanic'\n",
       "117. 'White'\n",
       "118. 'White'\n",
       "119. 'White'\n",
       "120. 'White'\n",
       "121. 'White'\n",
       "122. 'White'\n",
       "123. 'White'\n",
       "124. 'White'\n",
       "125. 'Hispanic'\n",
       "126. 'White'\n",
       "127. 'White'\n",
       "128. 'White'\n",
       "129. 'White'\n",
       "130. 'White'\n",
       "131. 'White'\n",
       "132. 'White'\n",
       "133. 'Hispanic'\n",
       "134. 'White'\n",
       "135. 'White'\n",
       "136. 'White'\n",
       "137. 'Mexican'\n",
       "138. 'Mexican'\n",
       "139. 'White'\n",
       "140. 'Mexican'\n",
       "141. 'Black'\n",
       "142. 'Black'\n",
       "143. 'White'\n",
       "144. 'Hispanic'\n",
       "145. 'Asian'\n",
       "146. 'White'\n",
       "147. 'White'\n",
       "148. 'White'\n",
       "149. 'White'\n",
       "150. 'White'\n",
       "151. 'White'\n",
       "152. 'White'\n",
       "153. 'White'\n",
       "154. 'White'\n",
       "155. 'White'\n",
       "156. 'White'\n",
       "157. 'White'\n",
       "158. 'Hispanic'\n",
       "159. 'White'\n",
       "160. 'White'\n",
       "161. 'White'\n",
       "162. 'Asian'\n",
       "163. 'White'\n",
       "164. 'Hispanic'\n",
       "165. 'Hispanic'\n",
       "166. 'White'\n",
       "167. 'White'\n",
       "168. 'White'\n",
       "169. 'Hispanic'\n",
       "170. 'Asian'\n",
       "171. 'Other'\n",
       "172. 'White'\n",
       "173. 'White'\n",
       "174. 'Mexican'\n",
       "175. 'White'\n",
       "176. 'White'\n",
       "177. 'White'\n",
       "178. 'White'\n",
       "179. 'Hispanic'\n",
       "180. 'Hispanic'\n",
       "181. 'White'\n",
       "182. 'White'\n",
       "183. 'White'\n",
       "184. 'White'\n",
       "185. 'White'\n",
       "186. 'White'\n",
       "187. 'White'\n",
       "188. 'Black'\n",
       "189. 'White'\n",
       "190. 'White'\n",
       "191. 'Asian'\n",
       "192. 'Asian'\n",
       "193. 'Black'\n",
       "194. 'Hispanic'\n",
       "195. 'Mexican'\n",
       "196. 'Asian'\n",
       "197. 'Other'\n",
       "198. 'White'\n",
       "199. 'White'\n",
       "200. 'White'\n",
       "201. ...\n",
       "202. 'White'\n",
       "203. 'White'\n",
       "204. 'White'\n",
       "205. 'White'\n",
       "206. 'Mexican'\n",
       "207. 'White'\n",
       "208. 'Mexican'\n",
       "209. 'White'\n",
       "210. 'White'\n",
       "211. 'Hispanic'\n",
       "212. 'White'\n",
       "213. 'White'\n",
       "214. 'White'\n",
       "215. 'White'\n",
       "216. 'White'\n",
       "217. 'White'\n",
       "218. 'Mexican'\n",
       "219. 'Mexican'\n",
       "220. 'Hispanic'\n",
       "221. 'Hispanic'\n",
       "222. 'White'\n",
       "223. 'White'\n",
       "224. 'Black'\n",
       "225. 'White'\n",
       "226. 'White'\n",
       "227. 'White'\n",
       "228. 'Mexican'\n",
       "229. 'Mexican'\n",
       "230. 'Mexican'\n",
       "231. 'White'\n",
       "232. 'White'\n",
       "233. 'White'\n",
       "234. 'Mexican'\n",
       "235. 'White'\n",
       "236. 'White'\n",
       "237. 'Mexican'\n",
       "238. 'White'\n",
       "239. 'White'\n",
       "240. 'White'\n",
       "241. 'White'\n",
       "242. 'Mexican'\n",
       "243. 'White'\n",
       "244. 'White'\n",
       "245. 'White'\n",
       "246. 'White'\n",
       "247. 'Black'\n",
       "248. 'Asian'\n",
       "249. 'Asian'\n",
       "250. 'Black'\n",
       "251. 'White'\n",
       "252. 'White'\n",
       "253. 'White'\n",
       "254. 'Black'\n",
       "255. 'White'\n",
       "256. 'White'\n",
       "257. 'White'\n",
       "258. 'White'\n",
       "259. 'White'\n",
       "260. 'White'\n",
       "261. 'Mexican'\n",
       "262. 'White'\n",
       "263. 'White'\n",
       "264. 'White'\n",
       "265. 'White'\n",
       "266. 'White'\n",
       "267. 'White'\n",
       "268. 'Hispanic'\n",
       "269. 'Hispanic'\n",
       "270. 'Mexican'\n",
       "271. 'Asian'\n",
       "272. 'White'\n",
       "273. 'White'\n",
       "274. 'Black'\n",
       "275. 'Mexican'\n",
       "276. 'White'\n",
       "277. 'White'\n",
       "278. 'White'\n",
       "279. 'White'\n",
       "280. 'White'\n",
       "281. 'White'\n",
       "282. 'White'\n",
       "283. 'White'\n",
       "284. 'Mexican'\n",
       "285. 'White'\n",
       "286. 'White'\n",
       "287. 'White'\n",
       "288. 'White'\n",
       "289. 'Asian'\n",
       "290. 'White'\n",
       "291. 'White'\n",
       "292. 'White'\n",
       "293. 'Hispanic'\n",
       "294. 'White'\n",
       "295. 'White'\n",
       "296. 'Black'\n",
       "297. 'White'\n",
       "298. 'Mexican'\n",
       "299. 'Black'\n",
       "300. 'White'\n",
       "301. 'White'\n",
       "302. 'Asian'\n",
       "303. 'Black'\n",
       "304. 'Hispanic'\n",
       "305. 'Mexican'\n",
       "306. 'White'\n",
       "307. 'White'\n",
       "308. 'Mexican'\n",
       "309. 'Black'\n",
       "310. 'White'\n",
       "311. 'White'\n",
       "312. 'White'\n",
       "313. 'White'\n",
       "314. 'Hispanic'\n",
       "315. 'White'\n",
       "316. 'White'\n",
       "317. 'Black'\n",
       "318. 'White'\n",
       "319. 'White'\n",
       "320. 'White'\n",
       "321. 'White'\n",
       "322. 'Asian'\n",
       "323. 'Asian'\n",
       "324. 'Hispanic'\n",
       "325. 'Mexican'\n",
       "326. 'Mexican'\n",
       "327. 'White'\n",
       "328. 'Hispanic'\n",
       "329. 'Hispanic'\n",
       "330. 'Black'\n",
       "331. 'White'\n",
       "332. 'White'\n",
       "333. 'Asian'\n",
       "334. 'White'\n",
       "335. 'Black'\n",
       "336. 'Other'\n",
       "337. 'Black'\n",
       "338. 'Mexican'\n",
       "339. 'White'\n",
       "340. 'White'\n",
       "341. 'White'\n",
       "342. 'Black'\n",
       "343. 'White'\n",
       "344. 'White'\n",
       "345. 'White'\n",
       "346. 'White'\n",
       "347. 'White'\n",
       "348. 'White'\n",
       "349. 'White'\n",
       "350. 'Mexican'\n",
       "351. 'Black'\n",
       "352. 'Hispanic'\n",
       "353. 'Hispanic'\n",
       "354. 'Mexican'\n",
       "355. 'White'\n",
       "356. 'Black'\n",
       "357. 'White'\n",
       "358. 'White'\n",
       "359. 'White'\n",
       "360. 'White'\n",
       "361. 'White'\n",
       "362. 'White'\n",
       "363. 'White'\n",
       "364. 'Mexican'\n",
       "365. 'Asian'\n",
       "366. 'Black'\n",
       "367. 'White'\n",
       "368. 'White'\n",
       "369. 'White'\n",
       "370. 'Hispanic'\n",
       "371. 'Other'\n",
       "372. 'White'\n",
       "373. 'White'\n",
       "374. 'White'\n",
       "375. 'White'\n",
       "376. 'Black'\n",
       "377. 'Mexican'\n",
       "378. 'Mexican'\n",
       "379. 'Mexican'\n",
       "380. 'Mexican'\n",
       "381. 'White'\n",
       "382. 'White'\n",
       "383. 'White'\n",
       "384. 'White'\n",
       "385. 'Black'\n",
       "386. 'Black'\n",
       "387. 'Black'\n",
       "388. 'Black'\n",
       "389. 'Mexican'\n",
       "390. 'White'\n",
       "391. 'White'\n",
       "392. 'White'\n",
       "393. 'White'\n",
       "394. 'White'\n",
       "395. 'Mexican'\n",
       "396. 'Mexican'\n",
       "397. 'Mexican'\n",
       "398. 'White'\n",
       "399. 'Mexican'\n",
       "400. 'White'\n",
       "401. 'White'\n",
       "\n",
       "\n"
      ],
      "text/plain": [
       "   [1] \"Asian\"    \"Black\"    \"White\"    \"White\"    \"White\"    \"White\"   \n",
       "   [7] \"White\"    \"White\"    \"Black\"    \"Mexican\"  \"White\"    \"White\"   \n",
       "  [13] \"White\"    \"White\"    \"White\"    \"White\"    \"White\"    \"White\"   \n",
       "  [19] \"White\"    \"Hispanic\" \"Mexican\"  \"White\"    \"Mexican\"  \"Black\"   \n",
       "  [25] \"White\"    \"White\"    \"White\"    \"White\"    \"Asian\"    \"Mexican\" \n",
       "  [31] \"White\"    \"White\"    \"White\"    \"White\"    \"White\"    \"Mexican\" \n",
       "  [37] \"White\"    \"Mexican\"  \"White\"    \"White\"    \"White\"    \"Hispanic\"\n",
       "  [43] \"White\"    \"White\"    \"White\"    \"White\"    \"White\"    \"Mexican\" \n",
       "  [49] \"Hispanic\" \"Black\"    \"White\"    \"Mexican\"  \"Black\"    \"White\"   \n",
       "  [55] \"White\"    \"Black\"    \"Black\"    \"White\"    \"White\"    \"White\"   \n",
       "  [61] \"White\"    \"Other\"    \"Other\"    \"Hispanic\" \"Black\"    \"Black\"   \n",
       "  [67] \"White\"    \"White\"    \"Black\"    \"Black\"    \"Hispanic\" \"White\"   \n",
       "  [73] \"White\"    \"Mexican\"  \"White\"    \"Black\"    \"White\"    \"White\"   \n",
       "  [79] \"Black\"    \"Asian\"    \"Hispanic\" \"White\"    \"White\"    \"White\"   \n",
       "  [85] \"White\"    \"Mexican\"  \"White\"    \"White\"    \"White\"    \"White\"   \n",
       "  [91] \"White\"    \"Other\"    \"White\"    \"White\"    \"White\"    \"White\"   \n",
       "  [97] \"White\"    \"White\"    \"White\"    \"White\"    \"White\"    \"White\"   \n",
       " [103] \"White\"    \"White\"    \"White\"    \"White\"    \"Hispanic\" \"Asian\"   \n",
       " [109] \"Hispanic\" \"White\"    \"White\"    \"White\"    \"Mexican\"  \"Mexican\" \n",
       " [115] \"White\"    \"Hispanic\" \"White\"    \"White\"    \"White\"    \"White\"   \n",
       " [121] \"White\"    \"White\"    \"White\"    \"White\"    \"Hispanic\" \"White\"   \n",
       " [127] \"White\"    \"White\"    \"White\"    \"White\"    \"White\"    \"White\"   \n",
       " [133] \"Hispanic\" \"White\"    \"White\"    \"White\"    \"Mexican\"  \"Mexican\" \n",
       " [139] \"White\"    \"Mexican\"  \"Black\"    \"Black\"    \"White\"    \"Hispanic\"\n",
       " [145] \"Asian\"    \"White\"    \"White\"    \"White\"    \"White\"    \"White\"   \n",
       " [151] \"White\"    \"White\"    \"White\"    \"White\"    \"White\"    \"White\"   \n",
       " [157] \"White\"    \"Hispanic\" \"White\"    \"White\"    \"White\"    \"Asian\"   \n",
       " [163] \"White\"    \"Hispanic\" \"Hispanic\" \"White\"    \"White\"    \"White\"   \n",
       " [169] \"Hispanic\" \"Asian\"    \"Other\"    \"White\"    \"White\"    \"Mexican\" \n",
       " [175] \"White\"    \"White\"    \"White\"    \"White\"    \"Hispanic\" \"Hispanic\"\n",
       " [181] \"White\"    \"White\"    \"White\"    \"White\"    \"White\"    \"White\"   \n",
       " [187] \"White\"    \"Black\"    \"White\"    \"White\"    \"Asian\"    \"Asian\"   \n",
       " [193] \"Black\"    \"Hispanic\" \"Mexican\"  \"Asian\"    \"Other\"    \"White\"   \n",
       " [199] \"White\"    \"White\"    \"White\"    \"White\"    \"White\"    \"Black\"   \n",
       " [205] \"Black\"    \"Black\"    \"Mexican\"  \"Black\"    \"White\"    \"White\"   \n",
       " [211] \"White\"    \"White\"    \"White\"    \"White\"    \"White\"    \"White\"   \n",
       " [217] \"White\"    \"White\"    \"White\"    \"White\"    \"White\"    \"White\"   \n",
       " [223] \"White\"    \"White\"    \"White\"    \"White\"    \"White\"    \"White\"   \n",
       " [229] \"White\"    \"White\"    \"White\"    \"White\"    \"Black\"    \"White\"   \n",
       " [235] \"White\"    \"Other\"    \"White\"    \"White\"    \"White\"    \"White\"   \n",
       " [241] \"White\"    \"Asian\"    \"Asian\"    \"White\"    \"Black\"    \"White\"   \n",
       " [247] \"White\"    \"White\"    \"White\"    \"White\"    \"White\"    \"Asian\"   \n",
       " [253] \"White\"    \"White\"    \"Black\"    \"Black\"    \"Black\"    \"Black\"   \n",
       " [259] \"Black\"    \"White\"    \"Black\"    \"Mexican\"  \"White\"    \"Mexican\" \n",
       " [265] \"White\"    \"Asian\"    \"Asian\"    \"White\"    \"White\"    \"White\"   \n",
       " [271] \"White\"    \"White\"    \"White\"    \"Asian\"    \"White\"    \"White\"   \n",
       " [277] \"White\"    \"Black\"    \"Other\"    \"Black\"    \"White\"    \"White\"   \n",
       " [283] \"White\"    \"Mexican\"  \"Asian\"    \"White\"    \"White\"    \"White\"   \n",
       " [289] \"White\"    \"White\"    \"Mexican\"  \"White\"    \"White\"    \"White\"   \n",
       " [295] \"White\"    \"White\"    \"Mexican\"  \"White\"    \"White\"    \"White\"   \n",
       " [301] \"Black\"    \"Black\"    \"Black\"    \"White\"    \"White\"    \"Hispanic\"\n",
       " [307] \"White\"    \"White\"    \"White\"    \"Mexican\"  \"Other\"    \"White\"   \n",
       " [313] \"White\"    \"White\"    \"White\"    \"White\"    \"Mexican\"  \"Asian\"   \n",
       " [319] \"Hispanic\" \"Hispanic\" \"Hispanic\" \"Black\"    \"Mexican\"  \"Asian\"   \n",
       " [325] \"White\"    \"White\"    \"White\"    \"White\"    \"White\"    \"Black\"   \n",
       " [331] \"Hispanic\" \"White\"    \"White\"    \"White\"    \"White\"    \"White\"   \n",
       " [337] \"White\"    \"White\"    \"White\"    \"White\"    \"White\"    \"White\"   \n",
       " [343] \"White\"    \"Black\"    \"White\"    \"White\"    \"White\"    \"White\"   \n",
       " [349] \"Black\"    \"White\"    \"White\"    \"Black\"    \"Other\"    \"White\"   \n",
       " [355] \"White\"    \"White\"    \"White\"    \"White\"    \"Black\"    \"White\"   \n",
       " [361] \"Black\"    \"White\"    \"White\"    \"White\"    \"White\"    \"White\"   \n",
       " [367] \"White\"    \"White\"    \"White\"    \"White\"    \"Mexican\"  \"White\"   \n",
       " [373] \"White\"    \"White\"    \"Black\"    \"Black\"    \"Black\"    \"White\"   \n",
       " [379] \"White\"    \"White\"    \"White\"    \"White\"    \"White\"    \"White\"   \n",
       " [385] \"Asian\"    \"White\"    \"White\"    \"White\"    \"White\"    \"Black\"   \n",
       " [391] \"Hispanic\" \"White\"    \"White\"    \"Hispanic\" \"Hispanic\" \"Black\"   \n",
       " [397] \"White\"    \"White\"    \"Mexican\"  \"White\"    \"Hispanic\" \"White\"   \n",
       " [403] \"White\"    \"White\"    \"White\"    \"White\"    \"White\"    \"White\"   \n",
       " [409] \"White\"    \"White\"    \"White\"    \"White\"    \"Black\"    \"White\"   \n",
       " [415] \"White\"    \"White\"    \"Asian\"    \"Asian\"    \"Other\"    \"Other\"   \n",
       " [421] \"Other\"    \"Other\"    \"Other\"    \"Black\"    \"Black\"    \"Black\"   \n",
       " [427] \"White\"    \"White\"    \"White\"    \"White\"    \"White\"    \"White\"   \n",
       " [433] \"White\"    \"White\"    \"White\"    \"White\"    \"Hispanic\" \"Asian\"   \n",
       " [439] \"White\"    \"White\"    \"White\"    \"White\"    \"White\"    \"White\"   \n",
       " [445] \"Black\"    \"White\"    \"White\"    \"White\"    \"Mexican\"  \"Mexican\" \n",
       " [451] \"White\"    \"White\"    \"White\"    \"White\"    \"White\"    \"Black\"   \n",
       " [457] \"White\"    \"Asian\"    \"Other\"    \"White\"    \"White\"    \"White\"   \n",
       " [463] \"White\"    \"White\"    \"Mexican\"  \"Mexican\"  \"White\"    \"White\"   \n",
       " [469] \"Hispanic\" \"Asian\"    \"Asian\"    \"Mexican\"  \"White\"    \"White\"   \n",
       " [475] \"White\"    \"White\"    \"White\"    \"White\"    \"Asian\"    \"White\"   \n",
       " [481] \"White\"    \"White\"    \"White\"    \"White\"    \"White\"    \"Black\"   \n",
       " [487] \"White\"    \"White\"    \"White\"    \"White\"    \"White\"    \"White\"   \n",
       " [493] \"White\"    \"White\"    \"White\"    \"White\"    \"White\"    \"White\"   \n",
       " [499] \"White\"    \"White\"    \"White\"    \"White\"    \"White\"    \"White\"   \n",
       " [505] \"White\"    \"White\"    \"White\"    \"White\"    \"White\"    \"White\"   \n",
       " [511] \"Hispanic\" \"Mexican\"  \"Mexican\"  \"White\"    \"White\"    \"White\"   \n",
       " [517] \"Mexican\"  \"Mexican\"  \"Hispanic\" \"Black\"    \"White\"    \"Asian\"   \n",
       " [523] \"Black\"    \"Black\"    \"Asian\"    \"Mexican\"  \"Hispanic\" \"White\"   \n",
       " [529] \"White\"    \"White\"    \"Black\"    \"Black\"    \"Black\"    \"White\"   \n",
       " [535] \"White\"    \"White\"    \"White\"    \"White\"    \"White\"    \"White\"   \n",
       " [541] \"White\"    \"Asian\"    \"Hispanic\" \"Hispanic\" \"Mexican\"  \"Mexican\" \n",
       " [547] \"White\"    \"White\"    \"White\"    \"White\"    \"Black\"    \"White\"   \n",
       " [553] \"White\"    \"White\"    \"White\"    \"White\"    \"White\"    \"White\"   \n",
       " [559] \"White\"    \"Black\"    \"White\"    \"White\"    \"Black\"    \"Black\"   \n",
       " [565] \"Black\"    \"White\"    \"White\"    \"Mexican\"  \"White\"    \"Black\"   \n",
       " [571] \"Black\"    \"White\"    \"White\"    \"Black\"    \"Mexican\"  \"Asian\"   \n",
       " [577] \"White\"    \"White\"    \"Mexican\"  \"Mexican\"  \"Hispanic\" \"Asian\"   \n",
       " [583] \"Asian\"    \"Black\"    \"Asian\"    \"Asian\"    \"Hispanic\" \"Mexican\" \n",
       " [589] \"Mexican\"  \"White\"    \"White\"    \"White\"    \"White\"    \"Other\"   \n",
       " [595] \"Mexican\"  \"Mexican\"  \"White\"    \"White\"    \"Other\"    \"Other\"   \n",
       " [601] \"Asian\"    \"Asian\"    \"White\"    \"White\"    \"White\"    \"Black\"   \n",
       " [607] \"White\"    \"Asian\"    \"White\"    \"White\"    \"White\"    \"White\"   \n",
       " [613] \"White\"    \"White\"    \"White\"    \"Mexican\"  \"Mexican\"  \"White\"   \n",
       " [619] \"White\"    \"White\"    \"White\"    \"White\"    \"Black\"    \"Black\"   \n",
       " [625] \"White\"    \"White\"    \"Asian\"    \"Asian\"    \"White\"    \"White\"   \n",
       " [631] \"Mexican\"  \"White\"    \"White\"    \"White\"    \"White\"    \"White\"   \n",
       " [637] \"White\"    \"White\"    \"Black\"    \"Black\"    \"White\"    \"Mexican\" \n",
       " [643] \"Asian\"    \"White\"    \"Black\"    \"White\"    \"White\"    \"Black\"   \n",
       " [649] \"Black\"    \"Black\"    \"White\"    \"Mexican\"  \"Black\"    \"White\"   \n",
       " [655] \"White\"    \"White\"    \"White\"    \"White\"    \"White\"    \"White\"   \n",
       " [661] \"White\"    \"Hispanic\" \"White\"    \"White\"    \"Asian\"    \"Asian\"   \n",
       " [667] \"White\"    \"White\"    \"White\"    \"Black\"    \"White\"    \"White\"   \n",
       " [673] \"White\"    \"White\"    \"White\"    \"White\"    \"White\"    \"Asian\"   \n",
       " [679] \"White\"    \"Mexican\"  \"White\"    \"White\"    \"White\"    \"White\"   \n",
       " [685] \"White\"    \"White\"    \"White\"    \"White\"    \"Mexican\"  \"Black\"   \n",
       " [691] \"Hispanic\" \"Hispanic\" \"Hispanic\" \"Black\"    \"Mexican\"  \"Mexican\" \n",
       " [697] \"Mexican\"  \"Black\"    \"White\"    \"White\"    \"White\"    \"White\"   \n",
       " [703] \"White\"    \"White\"    \"White\"    \"White\"    \"White\"    \"White\"   \n",
       " [709] \"White\"    \"White\"    \"Mexican\"  \"Black\"    \"White\"    \"Hispanic\"\n",
       " [715] \"White\"    \"White\"    \"White\"    \"White\"    \"White\"    \"White\"   \n",
       " [721] \"White\"    \"White\"    \"White\"    \"Mexican\"  \"White\"    \"White\"   \n",
       " [727] \"White\"    \"White\"    \"White\"    \"Black\"    \"White\"    \"White\"   \n",
       " [733] \"White\"    \"Other\"    \"White\"    \"White\"    \"Mexican\"  \"White\"   \n",
       " [739] \"White\"    \"White\"    \"Mexican\"  \"Hispanic\" \"Hispanic\" \"Mexican\" \n",
       " [745] \"White\"    \"White\"    \"Black\"    \"Black\"    \"Black\"    \"White\"   \n",
       " [751] \"White\"    \"White\"    \"White\"    \"Hispanic\" \"Hispanic\" \"Hispanic\"\n",
       " [757] \"Other\"    \"White\"    \"White\"    \"White\"    \"White\"    \"White\"   \n",
       " [763] \"Hispanic\" \"White\"    \"White\"    \"White\"    \"White\"    \"Black\"   \n",
       " [769] \"White\"    \"White\"    \"Black\"    \"White\"    \"Mexican\"  \"Asian\"   \n",
       " [775] \"White\"    \"Mexican\"  \"Mexican\"  \"Other\"    \"Black\"    \"White\"   \n",
       " [781] \"Hispanic\" \"White\"    \"White\"    \"White\"    \"White\"    \"White\"   \n",
       " [787] \"White\"    \"White\"    \"White\"    \"White\"    \"White\"    \"White\"   \n",
       " [793] \"White\"    \"Black\"    \"White\"    \"White\"    \"White\"    \"White\"   \n",
       " [799] \"White\"    \"White\"    \"White\"    \"Black\"    \"White\"    \"White\"   \n",
       " [805] \"White\"    \"White\"    \"Asian\"    \"Black\"    \"Black\"    \"Asian\"   \n",
       " [811] \"White\"    \"White\"    \"Other\"    \"Hispanic\" \"Hispanic\" \"White\"   \n",
       " [817] \"White\"    \"White\"    \"White\"    \"White\"    \"White\"    \"Mexican\" \n",
       " [823] \"Hispanic\" \"White\"    \"White\"    \"White\"    \"White\"    \"Black\"   \n",
       " [829] \"Black\"    \"White\"    \"White\"    \"Mexican\"  \"Mexican\"  \"Hispanic\"\n",
       " [835] \"Hispanic\" \"Hispanic\" \"Black\"    \"White\"    \"White\"    \"White\"   \n",
       " [841] \"White\"    \"Black\"    \"White\"    \"White\"    \"White\"    \"White\"   \n",
       " [847] \"White\"    \"White\"    \"White\"    \"White\"    \"White\"    \"White\"   \n",
       " [853] \"White\"    \"Mexican\"  \"Asian\"    \"White\"    \"White\"    \"White\"   \n",
       " [859] \"Hispanic\" \"Other\"    \"Black\"    \"Mexican\"  \"White\"    \"White\"   \n",
       " [865] \"White\"    \"White\"    \"White\"    \"White\"    \"Asian\"    \"White\"   \n",
       " [871] \"Hispanic\" \"White\"    \"White\"    \"White\"    \"White\"    \"White\"   \n",
       " [877] \"White\"    \"Asian\"    \"Mexican\"  \"White\"    \"White\"    \"White\"   \n",
       " [883] \"White\"    \"White\"    \"White\"    \"White\"    \"White\"    \"White\"   \n",
       " [889] \"White\"    \"White\"    \"White\"    \"White\"    \"White\"    \"White\"   \n",
       " [895] \"White\"    \"White\"    \"White\"    \"Mexican\"  \"White\"    \"Asian\"   \n",
       " [901] \"Black\"    \"White\"    \"White\"    \"Asian\"    \"White\"    \"White\"   \n",
       " [907] \"White\"    \"Hispanic\" \"White\"    \"White\"    \"White\"    \"White\"   \n",
       " [913] \"White\"    \"White\"    \"White\"    \"White\"    \"White\"    \"White\"   \n",
       " [919] \"White\"    \"White\"    \"White\"    \"White\"    \"Hispanic\" \"Other\"   \n",
       " [925] \"White\"    \"White\"    \"White\"    \"White\"    \"White\"    \"Black\"   \n",
       " [931] \"Asian\"    \"Black\"    \"Black\"    \"White\"    \"White\"    \"White\"   \n",
       " [937] \"White\"    \"White\"    \"Asian\"    \"White\"    \"White\"    \"White\"   \n",
       " [943] \"Hispanic\" \"Hispanic\" \"White\"    \"White\"    \"White\"    \"White\"   \n",
       " [949] \"Mexican\"  \"White\"    \"White\"    \"Hispanic\" \"White\"    \"White\"   \n",
       " [955] \"White\"    \"White\"    \"Black\"    \"Mexican\"  \"Hispanic\" \"White\"   \n",
       " [961] \"White\"    \"White\"    \"White\"    \"White\"    \"White\"    \"White\"   \n",
       " [967] \"White\"    \"White\"    \"Black\"    \"Black\"    \"White\"    \"White\"   \n",
       " [973] \"Mexican\"  \"White\"    \"Black\"    \"White\"    \"White\"    \"White\"   \n",
       " [979] \"White\"    \"White\"    \"Black\"    \"Black\"    \"Hispanic\" \"White\"   \n",
       " [985] \"White\"    \"White\"    \"White\"    \"Black\"    \"Black\"    \"White\"   \n",
       " [991] \"White\"    \"White\"    \"White\"    \"Mexican\"  \"Mexican\"  \"White\"   \n",
       " [997] \"White\"    \"White\"    \"Mexican\"  \"Mexican\"  \"White\"    \"Black\"   \n",
       "[1003] \"Other\"    \"White\"    \"White\"    \"White\"    \"Black\"    \"Black\"   \n",
       "[1009] \"Black\"    \"White\"    \"White\"    \"Hispanic\" \"Hispanic\" \"Black\"   \n",
       "[1015] \"Asian\"    \"White\"    \"White\"    \"White\"    \"Hispanic\" \"White\"   \n",
       "[1021] \"White\"    \"Hispanic\" \"White\"    \"White\"    \"White\"    \"Asian\"   \n",
       "[1027] \"Asian\"    \"Mexican\"  \"White\"    \"White\"    \"Black\"    \"Black\"   \n",
       "[1033] \"Black\"    \"White\"    \"Mexican\"  \"Black\"    \"Black\"    \"White\"   \n",
       "[1039] \"White\"    \"White\"    \"White\"    \"White\"    \"Mexican\"  \"Mexican\" \n",
       "[1045] \"White\"    \"White\"    \"Black\"    \"Asian\"    \"White\"    \"White\"   \n",
       "[1051] \"White\"    \"White\"    \"White\"    \"Black\"    \"White\"    \"White\"   \n",
       "[1057] \"White\"    \"White\"    \"Black\"    \"White\"    \"White\"    \"Black\"   \n",
       "[1063] \"Asian\"    \"Black\"    \"Mexican\"  \"Mexican\"  \"Mexican\"  \"White\"   \n",
       "[1069] \"Mexican\"  \"White\"    \"White\"    \"Black\"    \"Hispanic\" \"Black\"   \n",
       "[1075] \"Hispanic\" \"Hispanic\" \"Hispanic\" \"Mexican\"  \"White\"    \"White\"   \n",
       "[1081] \"White\"    \"White\"    \"White\"    \"White\"    \"White\"    \"White\"   \n",
       "[1087] \"White\"    \"White\"    \"White\"    \"White\"    \"White\"    \"White\"   \n",
       "[1093] \"White\"    \"White\"    \"White\"    \"White\"    \"Mexican\"  \"Mexican\" \n",
       "[1099] \"White\"    \"Mexican\"  \"Other\"    \"Black\"    \"Black\"    \"White\"   \n",
       "[1105] \"Black\"    \"Black\"    \"Other\"    \"White\"    \"Black\"    \"Mexican\" \n",
       "[1111] \"Mexican\"  \"Mexican\"  \"White\"    \"White\"    \"White\"    \"Hispanic\"\n",
       "[1117] \"Hispanic\" \"Black\"    \"Mexican\"  \"Mexican\"  \"White\"    \"Hispanic\"\n",
       "[1123] \"Black\"    \"Black\"    \"White\"    \"White\"    \"White\"    \"White\"   \n",
       "[1129] \"White\"    \"White\"    \"White\"    \"Black\"    \"White\"    \"White\"   \n",
       "[1135] \"White\"    \"White\"    \"White\"    \"White\"    \"Mexican\"  \"Mexican\" \n",
       "[1141] \"White\"    \"Other\"    \"White\"    \"White\"    \"White\"    \"White\"   \n",
       "[1147] \"White\"    \"White\"    \"Other\"    \"White\"    \"White\"    \"Asian\"   \n",
       "[1153] \"Mexican\"  \"Mexican\"  \"Black\"    \"Asian\"    \"White\"    \"Hispanic\"\n",
       "[1159] \"Asian\"    \"Black\"    \"Asian\"    \"Hispanic\" \"White\"    \"White\"   \n",
       "[1165] \"White\"    \"White\"    \"Black\"    \"Black\"    \"Mexican\"  \"Mexican\" \n",
       "[1171] \"White\"    \"Mexican\"  \"White\"    \"White\"    \"White\"    \"Asian\"   \n",
       "[1177] \"Black\"    \"White\"    \"Mexican\"  \"Mexican\"  \"Mexican\"  \"White\"   \n",
       "[1183] \"White\"    \"White\"    \"White\"    \"White\"    \"Asian\"    \"White\"   \n",
       "[1189] \"White\"    \"White\"    \"White\"    \"White\"    \"White\"    \"Asian\"   \n",
       "[1195] \"Other\"    \"White\"    \"White\"    \"White\"    \"White\"    \"Asian\"   \n",
       "[1201] \"White\"    \"White\"    \"White\"    \"White\"    \"Hispanic\" \"Hispanic\"\n",
       "[1207] \"White\"    \"White\"    \"Asian\"    \"Hispanic\" \"Other\"    \"Black\"   \n",
       "[1213] \"White\"    \"White\"    \"White\"    \"Hispanic\" \"White\"    \"White\"   \n",
       "[1219] \"White\"    \"White\"    \"White\"    \"White\"    \"Mexican\"  \"White\"   \n",
       "[1225] \"White\"    \"Black\"    \"White\"    \"White\"    \"White\"    \"Hispanic\"\n",
       "[1231] \"Hispanic\" \"Mexican\"  \"White\"    \"White\"    \"White\"    \"White\"   \n",
       "[1237] \"White\"    \"White\"    \"White\"    \"White\"    \"White\"    \"White\"   \n",
       "[1243] \"White\"    \"White\"    \"Black\"    \"White\"    \"White\"    \"White\"   \n",
       "[1249] \"Mexican\"  \"Mexican\"  \"Asian\"    \"Hispanic\" \"Asian\"    \"White\"   \n",
       "[1255] \"White\"    \"White\"    \"White\"    \"Black\"    \"White\"    \"White\"   \n",
       "[1261] \"White\"    \"White\"    \"White\"    \"Mexican\"  \"Asian\"    \"Asian\"   \n",
       "[1267] \"Asian\"    \"Black\"    \"Black\"    \"Black\"    \"Mexican\"  \"Mexican\" \n",
       "[1273] \"Asian\"    \"Asian\"    \"Black\"    \"White\"    \"White\"    \"White\"   \n",
       "[1279] \"Black\"    \"Mexican\"  \"Mexican\"  \"Black\"    \"White\"    \"White\"   \n",
       "[1285] \"White\"    \"White\"    \"Black\"    \"Black\"    \"Black\"    \"White\"   \n",
       "[1291] \"White\"    \"Hispanic\" \"Asian\"    \"Asian\"    \"White\"    \"Hispanic\"\n",
       "[1297] \"Hispanic\" \"Black\"    \"Mexican\"  \"White\"    \"White\"    \"White\"   \n",
       "[1303] \"White\"    \"White\"    \"White\"    \"White\"    \"White\"    \"Hispanic\"\n",
       "[1309] \"Hispanic\" \"Hispanic\" \"White\"    \"White\"    \"Other\"    \"White\"   \n",
       "[1315] \"White\"    \"White\"    \"White\"    \"White\"    \"White\"    \"White\"   \n",
       "[1321] \"White\"    \"White\"    \"White\"    \"Hispanic\" \"White\"    \"White\"   \n",
       "[1327] \"White\"    \"White\"    \"White\"    \"White\"    \"Black\"    \"Black\"   \n",
       "[1333] \"White\"    \"Mexican\"  \"Mexican\"  \"Other\"    \"Black\"    \"Black\"   \n",
       "[1339] \"White\"    \"White\"    \"White\"    \"Black\"    \"Black\"    \"Hispanic\"\n",
       "[1345] \"Hispanic\" \"Hispanic\" \"Asian\"    \"Black\"    \"White\"    \"White\"   \n",
       "[1351] \"Black\"    \"Black\"    \"Mexican\"  \"White\"    \"White\"    \"White\"   \n",
       "[1357] \"Other\"    \"White\"    \"White\"    \"White\"    \"White\"    \"White\"   \n",
       "[1363] \"White\"    \"White\"    \"White\"    \"White\"    \"White\"    \"Mexican\" \n",
       "[1369] \"Mexican\"  \"White\"    \"White\"    \"White\"    \"Mexican\"  \"Hispanic\"\n",
       "[1375] \"White\"    \"White\"    \"Mexican\"  \"White\"    \"White\"    \"White\"   \n",
       "[1381] \"White\"    \"White\"    \"Asian\"    \"Black\"    \"Black\"    \"Other\"   \n",
       "[1387] \"White\"    \"White\"    \"White\"    \"White\"    \"Mexican\"  \"Mexican\" \n",
       "[1393] \"Mexican\"  \"White\"    \"White\"    \"White\"    \"White\"    \"White\"   \n",
       "[1399] \"White\"    \"White\"    \"Black\"    \"White\"    \"White\"    \"White\"   \n",
       "[1405] \"White\"    \"White\"    \"White\"    \"White\"    \"White\"    \"Asian\"   \n",
       "[1411] \"Black\"    \"White\"    \"Mexican\"  \"Asian\"    \"Asian\"    \"White\"   \n",
       "[1417] \"White\"    \"White\"    \"White\"    \"White\"    \"White\"    \"White\"   \n",
       "[1423] \"White\"    \"White\"    \"White\"    \"White\"    \"White\"    \"White\"   \n",
       "[1429] \"White\"    \"Hispanic\" \"White\"    \"White\"    \"White\"    \"White\"   \n",
       "[1435] \"White\"    \"Hispanic\" \"White\"    \"White\"    \"White\"    \"White\"   \n",
       "[1441] \"Hispanic\" \"Black\"    \"White\"    \"White\"    \"White\"    \"Mexican\" \n",
       "[1447] \"White\"    \"White\"    \"Black\"    \"White\"    \"White\"    \"White\"   \n",
       "[1453] \"Asian\"    \"White\"    \"White\"    \"White\"    \"White\"    \"White\"   \n",
       "[1459] \"White\"    \"White\"    \"White\"    \"White\"    \"White\"    \"Hispanic\"\n",
       "[1465] \"White\"    \"White\"    \"White\"    \"Black\"    \"Black\"    \"White\"   \n",
       "[1471] \"White\"    \"Hispanic\" \"White\"    \"White\"    \"White\"    \"White\"   \n",
       "[1477] \"Black\"    \"White\"    \"Mexican\"  \"Black\"    \"Hispanic\" \"Hispanic\"\n",
       "[1483] \"Black\"    \"Hispanic\" \"Hispanic\" \"Asian\"    \"Black\"    \"Asian\"   \n",
       "[1489] \"White\"    \"Hispanic\" \"White\"    \"White\"    \"Hispanic\" \"White\"   \n",
       "[1495] \"Asian\"    \"Asian\"    \"Mexican\"  \"White\"    \"White\"    \"Black\"   \n",
       "[1501] \"White\"    \"Hispanic\" \"Hispanic\" \"Hispanic\" \"White\"    \"White\"   \n",
       "[1507] \"White\"    \"White\"    \"White\"    \"White\"    \"White\"    \"White\"   \n",
       "[1513] \"White\"    \"Black\"    \"Black\"    \"Black\"    \"White\"    \"Black\"   \n",
       "[1519] \"Black\"    \"White\"    \"White\"    \"White\"    \"Asian\"    \"Asian\"   \n",
       "[1525] \"White\"    \"Hispanic\" \"White\"    \"White\"    \"White\"    \"White\"   \n",
       "[1531] \"White\"    \"Hispanic\" \"Black\"    \"White\"    \"White\"    \"White\"   \n",
       "[1537] \"Mexican\"  \"Black\"    \"Mexican\"  \"Mexican\"  \"White\"    \"White\"   \n",
       "[1543] \"White\"    \"Asian\"    \"White\"    \"White\"    \"White\"    \"Black\"   \n",
       "[1549] \"Asian\"    \"White\"    \"White\"    \"White\"    \"White\"    \"White\"   \n",
       "[1555] \"Black\"    \"Black\"    \"White\"    \"White\"    \"White\"    \"White\"   \n",
       "[1561] \"Black\"    \"White\"    \"Asian\"    \"White\"    \"White\"    \"White\"   \n",
       "[1567] \"White\"    \"White\"    \"White\"    \"White\"    \"Hispanic\" \"Hispanic\"\n",
       "[1573] \"Black\"    \"White\"    \"White\"    \"Hispanic\" \"Black\"    \"White\"   \n",
       "[1579] \"White\"    \"White\"    \"White\"    \"Hispanic\" \"Black\"    \"White\"   \n",
       "[1585] \"White\"    \"Black\"    \"Mexican\"  \"White\"    \"White\"    \"White\"   \n",
       "[1591] \"White\"    \"Black\"    \"Hispanic\" \"Mexican\"  \"Mexican\"  \"Asian\"   \n",
       "[1597] \"White\"    \"Other\"    \"Mexican\"  \"Mexican\"  \"Asian\"    \"White\"   \n",
       "[1603] \"White\"    \"Asian\"    \"White\"    \"White\"    \"White\"    \"White\"   \n",
       "[1609] \"White\"    \"White\"    \"Mexican\"  \"White\"    \"White\"    \"Black\"   \n",
       "[1615] \"Hispanic\" \"Black\"    \"White\"    \"White\"    \"White\"    \"White\"   \n",
       "[1621] \"White\"    \"White\"    \"White\"    \"White\"    \"White\"    \"White\"   \n",
       "[1627] \"White\"    \"White\"    \"White\"    \"Black\"    \"Black\"    \"White\"   \n",
       "[1633] \"White\"    \"White\"    \"White\"    \"Black\"    \"White\"    \"White\"   \n",
       "[1639] \"White\"    \"Black\"    \"Black\"    \"Other\"    \"White\"    \"Hispanic\"\n",
       "[1645] \"White\"    \"White\"    \"Black\"    \"White\"    \"White\"    \"White\"   \n",
       "[1651] \"White\"    \"White\"    \"White\"    \"Asian\"    \"Mexican\"  \"Asian\"   \n",
       "[1657] \"White\"    \"Asian\"    \"Black\"    \"Mexican\"  \"White\"    \"White\"   \n",
       "[1663] \"White\"    \"White\"    \"Asian\"    \"White\"    \"Black\"    \"Black\"   \n",
       "[1669] \"Asian\"    \"Asian\"    \"Mexican\"  \"Black\"    \"Black\"    \"Other\"   \n",
       "[1675] \"Hispanic\" \"White\"    \"Asian\"    \"Hispanic\" \"Black\"    \"White\"   \n",
       "[1681] \"White\"    \"White\"    \"White\"    \"White\"    \"White\"    \"Black\"   \n",
       "[1687] \"White\"    \"White\"    \"White\"    \"White\"    \"White\"    \"Black\"   \n",
       "[1693] \"White\"    \"Black\"    \"Black\"    \"White\"    \"White\"    \"White\"   \n",
       "[1699] \"White\"    \"Mexican\"  \"White\"    \"White\"    \"White\"    \"Mexican\" \n",
       "[1705] \"Black\"    \"White\"    \"Mexican\"  \"White\"    \"Mexican\"  \"Asian\"   \n",
       "[1711] \"Black\"    \"White\"    \"Black\"    \"White\"    \"Black\"    \"White\"   \n",
       "[1717] \"White\"    \"White\"    \"White\"    \"White\"    \"White\"    \"White\"   \n",
       "[1723] \"White\"    \"White\"    \"White\"    \"Black\"    \"White\"    \"White\"   \n",
       "[1729] \"White\"    \"Black\"    \"White\"    \"White\"    \"White\"    \"White\"   \n",
       "[1735] \"White\"    \"Hispanic\" \"Hispanic\" \"Black\"    \"White\"    \"White\"   \n",
       "[1741] \"White\"    \"White\"    \"Mexican\"  \"Mexican\"  \"Hispanic\" \"White\"   \n",
       "[1747] \"White\"    \"Asian\"    \"Mexican\"  \"White\"    \"White\"    \"Black\"   \n",
       "[1753] \"Mexican\"  \"Asian\"    \"Asian\"    \"White\"    \"Hispanic\" \"White\"   \n",
       "[1759] \"Mexican\"  \"White\"    \"White\"    \"White\"    \"White\"    \"White\"   \n",
       "[1765] \"Other\"    \"Asian\"    \"Asian\"    \"Black\"    \"Black\"    \"Mexican\" \n",
       "[1771] \"Mexican\"  \"Asian\"    \"Hispanic\" \"White\"    \"Black\"    \"White\"   \n",
       "[1777] \"White\"    \"White\"    \"White\"    \"White\"    \"White\"    \"White\"   \n",
       "[1783] \"White\"    \"White\"    \"White\"    \"White\"    \"Black\"    \"White\"   \n",
       "[1789] \"White\"    \"Black\"    \"White\"    \"White\"    \"White\"    \"White\"   \n",
       "[1795] \"Hispanic\" \"White\"    \"Other\"    \"White\"    \"White\"    \"White\"   \n",
       "[1801] \"Mexican\"  \"Mexican\"  \"Mexican\"  \"White\"    \"White\"    \"White\"   \n",
       "[1807] \"White\"    \"White\"    \"Black\"    \"Black\"    \"White\"    \"White\"   \n",
       "[1813] \"White\"    \"White\"    \"White\"    \"White\"    \"White\"    \"White\"   \n",
       "[1819] \"Mexican\"  \"Mexican\"  \"White\"    \"White\"    \"White\"    \"White\"   \n",
       "[1825] \"White\"    \"Other\"    \"Other\"    \"Other\"    \"Mexican\"  \"Mexican\" \n",
       "[1831] \"White\"    \"Asian\"    \"White\"    \"White\"    \"Hispanic\" \"White\"   \n",
       "[1837] \"White\"    \"White\"    \"White\"    \"Mexican\"  \"Mexican\"  \"White\"   \n",
       "[1843] \"White\"    \"White\"    \"White\"    \"White\"    \"White\"    \"White\"   \n",
       "[1849] \"Mexican\"  \"Mexican\"  \"White\"    \"Mexican\"  \"Mexican\"  \"White\"   \n",
       "[1855] \"White\"    \"Mexican\"  \"White\"    \"White\"    \"White\"    \"Mexican\" \n",
       "[1861] \"Black\"    \"White\"    \"White\"    \"White\"    \"White\"    \"Other\"   \n",
       "[1867] \"Hispanic\" \"Asian\"    \"White\"    \"White\"    \"White\"    \"White\"   \n",
       "[1873] \"White\"    \"White\"    \"Black\"    \"White\"    \"White\"    \"White\"   \n",
       "[1879] \"White\"    \"Mexican\"  \"Asian\"    \"Asian\"    \"Asian\"    \"Mexican\" \n",
       "[1885] \"White\"    \"White\"    \"Mexican\"  \"White\"    \"Other\"    \"Other\"   \n",
       "[1891] \"White\"    \"White\"    \"Asian\"    \"Mexican\"  \"Mexican\"  \"Mexican\" \n",
       "[1897] \"Mexican\"  \"White\"    \"White\"    \"White\"    \"Hispanic\" \"White\"   \n",
       "[1903] \"White\"    \"White\"    \"White\"    \"White\"    \"White\"    \"White\"   \n",
       "[1909] \"White\"    \"Mexican\"  \"Hispanic\" \"Hispanic\" \"Hispanic\" \"Hispanic\"\n",
       "[1915] \"White\"    \"White\"    \"Black\"    \"White\"    \"White\"    \"White\"   \n",
       "[1921] \"Black\"    \"White\"    \"White\"    \"White\"    \"White\"    \"White\"   \n",
       "[1927] \"White\"    \"White\"    \"White\"    \"Hispanic\" \"Hispanic\" \"White\"   \n",
       "[1933] \"White\"    \"White\"    \"Mexican\"  \"Black\"    \"Mexican\"  \"Mexican\" \n",
       "[1939] \"White\"    \"White\"    \"Mexican\"  \"White\"    \"Hispanic\" \"Mexican\" \n",
       "[1945] \"Mexican\"  \"White\"    \"White\"    \"Black\"    \"White\"    \"White\"   \n",
       "[1951] \"White\"    \"White\"    \"White\"    \"White\"    \"White\"    \"Other\"   \n",
       "[1957] \"Other\"    \"White\"    \"White\"    \"Mexican\"  \"White\"    \"Black\"   \n",
       "[1963] \"Mexican\"  \"Hispanic\" \"Hispanic\" \"White\"    \"Black\"    \"Mexican\" \n",
       "[1969] \"White\"    \"Mexican\"  \"White\"    \"White\"    \"White\"    \"White\"   \n",
       "[1975] \"Hispanic\" \"White\"    \"White\"    \"White\"    \"White\"    \"White\"   \n",
       "[1981] \"White\"    \"White\"    \"Mexican\"  \"Hispanic\" \"White\"    \"Asian\"   \n",
       "[1987] \"Mexican\"  \"White\"    \"White\"    \"White\"    \"White\"    \"White\"   \n",
       "[1993] \"White\"    \"White\"    \"Black\"    \"White\"    \"Hispanic\" \"White\"   \n",
       "[1999] \"White\"    \"Asian\"    \"Asian\"    \"Black\"    \"Black\"    \"Black\"   \n",
       "[2005] \"White\"    \"White\"    \"Asian\"    \"Other\"    \"Black\"    \"White\"   \n",
       "[2011] \"Black\"    \"White\"    \"White\"    \"White\"    \"Asian\"    \"White\"   \n",
       "[2017] \"White\"    \"White\"    \"White\"    \"White\"    \"White\"    \"White\"   \n",
       "[2023] \"White\"    \"White\"    \"White\"    \"White\"    \"White\"    \"White\"   \n",
       "[2029] \"White\"    \"White\"    \"White\"    \"White\"    \"White\"    \"White\"   \n",
       "[2035] \"Black\"    \"Black\"    \"Black\"    \"Black\"    \"Asian\"    \"Black\"   \n",
       "[2041] \"Hispanic\" \"Black\"    \"White\"    \"Asian\"    \"White\"    \"White\"   \n",
       "[2047] \"White\"    \"White\"    \"White\"    \"White\"    \"White\"    \"Mexican\" \n",
       "[2053] \"Black\"    \"White\"    \"Hispanic\" \"Mexican\"  \"Black\"    \"Black\"   \n",
       "[2059] \"White\"    \"Hispanic\" \"Hispanic\" \"White\"    \"White\"    \"White\"   \n",
       "[2065] \"Other\"    \"White\"    \"White\"    \"White\"    \"White\"    \"Other\"   \n",
       "[2071] \"White\"    \"Asian\"    \"White\"    \"Asian\"    \"Asian\"    \"Black\"   \n",
       "[2077] \"Black\"    \"White\"    \"White\"    \"White\"    \"White\"    \"White\"   \n",
       "[2083] \"White\"    \"White\"    \"Asian\"    \"Hispanic\" \"Black\"    \"White\"   \n",
       "[2089] \"White\"    \"White\"    \"White\"    \"White\"    \"Mexican\"  \"White\"   \n",
       "[2095] \"Mexican\"  \"White\"    \"White\"    \"Black\"    \"Black\"    \"Black\"   \n",
       "[2101] \"Black\"    \"White\"    \"White\"    \"Mexican\"  \"White\"    \"Black\"   \n",
       "[2107] \"Asian\"    \"White\"    \"White\"    \"White\"    \"White\"    \"White\"   \n",
       "[2113] \"White\"    \"White\"    \"White\"    \"White\"    \"White\"    \"White\"   \n",
       "[2119] \"Hispanic\" \"White\"    \"White\"    \"Black\"    \"Black\"    \"White\"   \n",
       "[2125] \"White\"    \"White\"    \"Black\"    \"Black\"    \"Other\"    \"Other\"   \n",
       "[2131] \"Other\"    \"White\"    \"White\"    \"White\"    \"White\"    \"White\"   \n",
       "[2137] \"White\"    \"Black\"    \"Hispanic\" \"Hispanic\" \"Asian\"    \"Asian\"   \n",
       "[2143] \"Mexican\"  \"White\"    \"White\"    \"White\"    \"White\"    \"White\"   \n",
       "[2149] \"Mexican\"  \"White\"    \"White\"    \"White\"    \"White\"    \"Black\"   \n",
       "[2155] \"Black\"    \"Mexican\"  \"Mexican\"  \"White\"    \"White\"    \"White\"   \n",
       "[2161] \"White\"    \"White\"    \"White\"    \"White\"    \"Mexican\"  \"Asian\"   \n",
       "[2167] \"Black\"    \"Other\"    \"Other\"    \"Other\"    \"White\"    \"Hispanic\"\n",
       "[2173] \"Other\"    \"White\"    \"White\"    \"White\"    \"White\"    \"White\"   \n",
       "[2179] \"White\"    \"Black\"    \"Mexican\"  \"Other\"    \"Mexican\"  \"White\"   \n",
       "[2185] \"Other\"    \"Hispanic\" \"Mexican\"  \"Mexican\"  \"Mexican\"  \"Mexican\" \n",
       "[2191] \"Asian\"    \"White\"    \"Mexican\"  \"Asian\"    \"White\"    \"Asian\"   \n",
       "[2197] \"White\"    \"Mexican\"  \"Black\"    \"White\"    \"White\"    \"White\"   \n",
       "[2203] \"White\"    \"White\"    \"White\"    \"White\"    \"White\"    \"Mexican\" \n",
       "[2209] \"White\"    \"Mexican\"  \"Black\"    \"Hispanic\" \"White\"    \"Black\"   \n",
       "[2215] \"Black\"    \"White\"    \"Other\"    \"White\"    \"White\"    \"White\"   \n",
       "[2221] \"Mexican\"  \"Mexican\"  \"White\"    \"Mexican\"  \"White\"    \"White\"   \n",
       "[2227] \"Black\"    \"White\"    \"White\"    \"White\"    \"White\"    \"White\"   \n",
       "[2233] \"White\"    \"White\"    \"White\"    \"White\"    \"White\"    \"White\"   \n",
       "[2239] \"White\"    \"White\"    \"Hispanic\" \"White\"    \"White\"    \"White\"   \n",
       "[2245] \"White\"    \"White\"    \"White\"    \"White\"    \"White\"    \"White\"   \n",
       "[2251] \"White\"    \"White\"    \"White\"    \"White\"    \"White\"    \"White\"   \n",
       "[2257] \"Asian\"    \"White\"    \"White\"    \"White\"    \"White\"    \"Asian\"   \n",
       "[2263] \"White\"    \"White\"    \"White\"    \"White\"    \"White\"    \"Hispanic\"\n",
       "[2269] \"White\"    \"Black\"    \"Hispanic\" \"White\"    \"White\"    \"White\"   \n",
       "[2275] \"White\"    \"Mexican\"  \"Mexican\"  \"Mexican\"  \"White\"    \"White\"   \n",
       "[2281] \"Black\"    \"White\"    \"White\"    \"White\"    \"White\"    \"White\"   \n",
       "[2287] \"White\"    \"White\"    \"White\"    \"White\"    \"White\"    \"Asian\"   \n",
       "[2293] \"White\"    \"White\"    \"Mexican\"  \"White\"    \"White\"    \"White\"   \n",
       "[2299] \"White\"    \"White\"    \"White\"    \"White\"    \"White\"    \"White\"   \n",
       "[2305] \"Asian\"    \"White\"    \"White\"    \"White\"    \"White\"    \"White\"   \n",
       "[2311] \"White\"    \"Hispanic\" \"White\"    \"White\"    \"White\"    \"White\"   \n",
       "[2317] \"White\"    \"Asian\"    \"Black\"    \"Hispanic\" \"Asian\"    \"Mexican\" \n",
       "[2323] \"Mexican\"  \"Mexican\"  \"White\"    \"Mexican\"  \"Hispanic\" \"White\"   \n",
       "[2329] \"White\"    \"White\"    \"White\"    \"White\"    \"Black\"    \"Mexican\" \n",
       "[2335] \"Mexican\"  \"Asian\"    \"White\"    \"White\"    \"Black\"    \"Asian\"   \n",
       "[2341] \"White\"    \"White\"    \"White\"    \"White\"    \"White\"    \"Black\"   \n",
       "[2347] \"Hispanic\" \"White\"    \"Black\"    \"White\"    \"Black\"    \"Hispanic\"\n",
       "[2353] \"White\"    \"White\"    \"White\"    \"Mexican\"  \"Mexican\"  \"Mexican\" \n",
       "[2359] \"Hispanic\" \"Asian\"    \"White\"    \"Hispanic\" \"Hispanic\" \"White\"   \n",
       "[2365] \"Black\"    \"Black\"    \"White\"    \"White\"    \"White\"    \"White\"   \n",
       "[2371] \"White\"    \"Asian\"    \"White\"    \"White\"    \"White\"    \"Hispanic\"\n",
       "[2377] \"Asian\"    \"Hispanic\" \"White\"    \"White\"    \"White\"    \"White\"   \n",
       "[2383] \"Hispanic\" \"Hispanic\" \"White\"    \"Other\"    \"Other\"    \"Black\"   \n",
       "[2389] \"White\"    \"White\"    \"White\"    \"White\"    \"White\"    \"Mexican\" \n",
       "[2395] \"White\"    \"Hispanic\" \"Black\"    \"Black\"    \"Black\"    \"Mexican\" \n",
       "[2401] \"White\"    \"White\"    \"White\"    \"Asian\"    \"Asian\"    \"White\"   \n",
       "[2407] \"White\"    \"White\"    \"Black\"    \"Asian\"    \"Mexican\"  \"Mexican\" \n",
       "[2413] \"Mexican\"  \"Black\"    \"Hispanic\" \"White\"    \"White\"    \"White\"   \n",
       "[2419] \"White\"    \"White\"    \"Black\"    \"White\"    \"White\"    \"White\"   \n",
       "[2425] \"White\"    \"Mexican\"  \"Hispanic\" \"White\"    \"White\"    \"White\"   \n",
       "[2431] \"Hispanic\" \"White\"    \"Asian\"    \"Other\"    \"Asian\"    \"Asian\"   \n",
       "[2437] \"Mexican\"  \"Mexican\"  \"White\"    \"White\"    \"Other\"    \"Other\"   \n",
       "[2443] \"Mexican\"  \"Mexican\"  \"Other\"    \"White\"    \"White\"    \"White\"   \n",
       "[2449] \"White\"    \"White\"    \"White\"    \"White\"    \"White\"    \"White\"   \n",
       "[2455] \"White\"    \"White\"    \"White\"    \"Mexican\"  \"Black\"    \"White\"   \n",
       "[2461] \"White\"    \"White\"    \"White\"    \"White\"    \"White\"    \"White\"   \n",
       "[2467] \"Asian\"    \"Black\"    \"White\"    \"White\"    \"White\"    \"Hispanic\"\n",
       "[2473] \"Black\"    \"Black\"    \"White\"    \"White\"    \"White\"    \"Black\"   \n",
       "[2479] \"White\"    \"White\"    \"White\"    \"Black\"    \"White\"    \"White\"   \n",
       "[2485] \"White\"    \"Hispanic\" \"Black\"    \"White\"    \"White\"    \"Black\"   \n",
       "[2491] \"White\"    \"Hispanic\" \"Mexican\"  \"Mexican\"  \"Black\"    \"Black\"   \n",
       "[2497] \"White\"    \"White\"    \"White\"    \"White\"    \"White\"    \"Mexican\" \n",
       "[2503] \"White\"    \"White\"    \"White\"    \"White\"    \"Asian\"    \"White\"   \n",
       "[2509] \"Black\"    \"Black\"    \"White\"    \"White\"    \"White\"    \"White\"   \n",
       "[2515] \"White\"    \"White\"    \"White\"    \"White\"    \"White\"    \"White\"   \n",
       "[2521] \"White\"    \"Mexican\"  \"White\"    \"White\"    \"White\"    \"White\"   \n",
       "[2527] \"Black\"    \"White\"    \"Black\"    \"Black\"    \"White\"    \"White\"   \n",
       "[2533] \"Hispanic\" \"White\"    \"White\"    \"White\"    \"White\"    \"White\"   \n",
       "[2539] \"Hispanic\" \"White\"    \"White\"    \"White\"    \"White\"    \"White\"   \n",
       "[2545] \"White\"    \"White\"    \"White\"    \"White\"    \"Asian\"    \"Black\"   \n",
       "[2551] \"Black\"    \"Mexican\"  \"Mexican\"  \"Hispanic\" \"Hispanic\" \"White\"   \n",
       "[2557] \"White\"    \"White\"    \"Hispanic\" \"Black\"    \"Black\"    \"Black\"   \n",
       "[2563] \"Other\"    \"Other\"    \"Hispanic\" \"Hispanic\" \"Hispanic\" \"White\"   \n",
       "[2569] \"Black\"    \"Mexican\"  \"Black\"    \"Mexican\"  \"White\"    \"White\"   \n",
       "[2575] \"White\"    \"White\"    \"White\"    \"Black\"    \"White\"    \"White\"   \n",
       "[2581] \"White\"    \"White\"    \"Asian\"    \"Black\"    \"Other\"    \"Black\"   \n",
       "[2587] \"Black\"    \"White\"    \"Mexican\"  \"White\"    \"White\"    \"White\"   \n",
       "[2593] \"Black\"    \"White\"    \"White\"    \"Black\"    \"Mexican\"  \"Mexican\" \n",
       "[2599] \"White\"    \"White\"    \"Asian\"    \"Asian\"    \"White\"    \"White\"   \n",
       "[2605] \"Asian\"    \"White\"    \"White\"    \"White\"    \"Mexican\"  \"White\"   \n",
       "[2611] \"White\"    \"White\"    \"White\"    \"Asian\"    \"Hispanic\" \"Hispanic\"\n",
       "[2617] \"Other\"    \"White\"    \"Black\"    \"White\"    \"White\"    \"Asian\"   \n",
       "[2623] \"Asian\"    \"White\"    \"Hispanic\" \"White\"    \"White\"    \"Black\"   \n",
       "[2629] \"Hispanic\" \"White\"    \"White\"    \"White\"    \"White\"    \"White\"   \n",
       "[2635] \"White\"    \"Black\"    \"White\"    \"Black\"    \"White\"    \"Asian\"   \n",
       "[2641] \"Asian\"    \"White\"    \"White\"    \"Asian\"    \"White\"    \"Mexican\" \n",
       "[2647] \"Black\"    \"White\"    \"Other\"    \"Mexican\"  \"Mexican\"  \"White\"   \n",
       "[2653] \"White\"    \"White\"    \"White\"    \"Hispanic\" \"Black\"    \"White\"   \n",
       "[2659] \"White\"    \"Mexican\"  \"Hispanic\" \"Hispanic\" \"Hispanic\" \"Hispanic\"\n",
       "[2665] \"Hispanic\" \"Black\"    \"Other\"    \"Hispanic\" \"White\"    \"White\"   \n",
       "[2671] \"Hispanic\" \"Hispanic\" \"Hispanic\" \"Mexican\"  \"Mexican\"  \"Mexican\" \n",
       "[2677] \"White\"    \"White\"    \"White\"    \"White\"    \"White\"    \"Hispanic\"\n",
       "[2683] \"White\"    \"White\"    \"White\"    \"Asian\"    \"Black\"    \"Hispanic\"\n",
       "[2689] \"Hispanic\" \"Black\"    \"Mexican\"  \"Asian\"    \"White\"    \"White\"   \n",
       "[2695] \"Mexican\"  \"Asian\"    \"Mexican\"  \"White\"    \"White\"    \"White\"   \n",
       "[2701] \"White\"    \"White\"    \"White\"    \"White\"    \"White\"    \"White\"   \n",
       "[2707] \"White\"    \"White\"    \"White\"    \"White\"    \"White\"    \"White\"   \n",
       "[2713] \"White\"    \"White\"    \"White\"    \"White\"    \"White\"    \"White\"   \n",
       "[2719] \"Other\"    \"White\"    \"White\"    \"White\"    \"White\"    \"Hispanic\"\n",
       "[2725] \"White\"    \"Black\"    \"White\"    \"White\"    \"Black\"    \"Hispanic\"\n",
       "[2731] \"Black\"    \"Hispanic\" \"Hispanic\" \"Other\"    \"White\"    \"White\"   \n",
       "[2737] \"White\"    \"White\"    \"White\"    \"White\"    \"White\"    \"White\"   \n",
       "[2743] \"White\"    \"Black\"    \"Black\"    \"Black\"    \"White\"    \"White\"   \n",
       "[2749] \"White\"    \"White\"    \"Hispanic\" \"Hispanic\" \"Hispanic\" \"White\"   \n",
       "[2755] \"White\"    \"Mexican\"  \"White\"    \"White\"    \"White\"    \"White\"   \n",
       "[2761] \"Other\"    \"Other\"    \"Black\"    \"White\"    \"White\"    \"White\"   \n",
       "[2767] \"Hispanic\" \"Hispanic\" \"Black\"    \"White\"    \"White\"    \"White\"   \n",
       "[2773] \"White\"    \"White\"    \"Black\"    \"Asian\"    \"White\"    \"White\"   \n",
       "[2779] \"White\"    \"White\"    \"White\"    \"Mexican\"  \"White\"    \"Black\"   \n",
       "[2785] \"Black\"    \"White\"    \"Black\"    \"Hispanic\" \"White\"    \"Asian\"   \n",
       "[2791] \"Asian\"    \"White\"    \"White\"    \"White\"    \"Hispanic\" \"White\"   \n",
       "[2797] \"White\"    \"White\"    \"Black\"    \"White\"    \"White\"    \"White\"   \n",
       "[2803] \"White\"    \"White\"    \"Hispanic\" \"Black\"    \"Mexican\"  \"White\"   \n",
       "[2809] \"White\"    \"Black\"    \"Black\"    \"White\"    \"White\"    \"White\"   \n",
       "[2815] \"Black\"    \"White\"    \"White\"    \"White\"    \"White\"    \"White\"   \n",
       "[2821] \"White\"    \"Black\"    \"White\"    \"Mexican\"  \"Mexican\"  \"White\"   \n",
       "[2827] \"Hispanic\" \"Hispanic\" \"Black\"    \"Asian\"    \"White\"    \"White\"   \n",
       "[2833] \"White\"    \"Mexican\"  \"Mexican\"  \"White\"    \"Hispanic\" \"White\"   \n",
       "[2839] \"White\"    \"Black\"    \"Black\"    \"White\"    \"White\"    \"White\"   \n",
       "[2845] \"Mexican\"  \"White\"    \"White\"    \"White\"    \"Other\"    \"Asian\"   \n",
       "[2851] \"White\"    \"Black\"    \"Black\"    \"White\"    \"White\"    \"White\"   \n",
       "[2857] \"White\"    \"White\"    \"White\"    \"White\"    \"White\"    \"White\"   \n",
       "[2863] \"White\"    \"White\"    \"White\"    \"Hispanic\" \"White\"    \"White\"   \n",
       "[2869] \"White\"    \"Black\"    \"White\"    \"White\"    \"Other\"    \"Other\"   \n",
       "[2875] \"Other\"    \"Mexican\"  \"Black\"    \"White\"    \"White\"    \"Other\"   \n",
       "[2881] \"Other\"    \"Black\"    \"White\"    \"Black\"    \"Black\"    \"White\"   \n",
       "[2887] \"White\"    \"White\"    \"White\"    \"White\"    \"Asian\"    \"White\"   \n",
       "[2893] \"White\"    \"White\"    \"White\"    \"White\"    \"Other\"    \"Other\"   \n",
       "[2899] \"Other\"    \"Asian\"    \"White\"    \"White\"    \"White\"    \"White\"   \n",
       "[2905] \"White\"    \"White\"    \"White\"    \"White\"    \"Asian\"    \"Mexican\" \n",
       "[2911] \"White\"    \"White\"    \"Black\"    \"White\"    \"White\"    \"Asian\"   \n",
       "[2917] \"Asian\"    \"White\"    \"White\"    \"Asian\"    \"White\"    \"White\"   \n",
       "[2923] \"Other\"    \"Black\"    \"White\"    \"Black\"    \"Mexican\"  \"White\"   \n",
       "[2929] \"White\"    \"White\"    \"Hispanic\" \"Hispanic\" \"White\"    \"White\"   \n",
       "[2935] \"Hispanic\" \"White\"    \"White\"    \"Black\"    \"White\"    \"Mexican\" \n",
       "[2941] \"Mexican\"  \"White\"    \"White\"    \"White\"    \"Asian\"    \"Asian\"   \n",
       "[2947] \"White\"    \"White\"    \"Hispanic\" \"Hispanic\" \"White\"    \"White\"   \n",
       "[2953] \"Black\"    \"Black\"    \"Black\"    \"Black\"    \"White\"    \"White\"   \n",
       "[2959] \"White\"    \"White\"    \"White\"    \"White\"    \"White\"    \"White\"   \n",
       "[2965] \"White\"    \"White\"    \"White\"    \"White\"    \"White\"    \"White\"   \n",
       "[2971] \"White\"    \"White\"    \"Other\"    \"Other\"    \"Other\"    \"Hispanic\"\n",
       "[2977] \"Hispanic\" \"White\"    \"Mexican\"  \"White\"    \"Mexican\"  \"Asian\"   \n",
       "[2983] \"Black\"    \"White\"    \"White\"    \"White\"    \"White\"    \"Mexican\" \n",
       "[2989] \"Black\"    \"Black\"    \"Hispanic\" \"Hispanic\" \"White\"    \"White\"   \n",
       "[2995] \"White\"    \"White\"    \"White\"    \"White\"    \"White\"    \"White\"   \n",
       "[3001] \"Asian\"    \"White\"    \"White\"    \"White\"    \"Other\"    \"Mexican\" \n",
       "[3007] \"Mexican\"  \"White\"    \"White\"    \"White\"    \"White\"    \"White\"   \n",
       "[3013] \"Asian\"    \"Mexican\"  \"White\"    \"White\"    \"White\"    \"White\"   \n",
       "[3019] \"White\"    \"White\"    \"Asian\"    \"Mexican\"  \"Asian\"    \"White\"   \n",
       "[3025] \"White\"    \"White\"    \"Black\"    \"Black\"    \"White\"    \"Mexican\" \n",
       "[3031] \"White\"    \"White\"    \"White\"    \"Other\"    \"White\"    \"White\"   \n",
       "[3037] \"Hispanic\" \"Asian\"    \"White\"    \"White\"    \"Black\"    \"Black\"   \n",
       "[3043] \"Black\"    \"Mexican\"  \"Mexican\"  \"Black\"    \"Black\"    \"Black\"   \n",
       "[3049] \"White\"    \"White\"    \"Other\"    \"Mexican\"  \"White\"    \"White\"   \n",
       "[3055] \"White\"    \"White\"    \"White\"    \"White\"    \"Mexican\"  \"White\"   \n",
       "[3061] \"White\"    \"White\"    \"White\"    \"White\"    \"White\"    \"Black\"   \n",
       "[3067] \"Black\"    \"Black\"    \"White\"    \"White\"    \"Other\"    \"Other\"   \n",
       "[3073] \"Asian\"    \"Mexican\"  \"White\"    \"White\"    \"Black\"    \"Black\"   \n",
       "[3079] \"Black\"    \"White\"    \"White\"    \"White\"    \"White\"    \"White\"   \n",
       "[3085] \"Black\"    \"Mexican\"  \"Mexican\"  \"White\"    \"Black\"    \"White\"   \n",
       "[3091] \"White\"    \"White\"    \"White\"    \"White\"    \"White\"    \"White\"   \n",
       "[3097] \"White\"    \"White\"    \"Black\"    \"White\"    \"White\"    \"Hispanic\"\n",
       "[3103] \"Hispanic\" \"Hispanic\" \"White\"    \"White\"    \"White\"    \"White\"   \n",
       "[3109] \"Asian\"    \"White\"    \"Black\"    \"Mexican\"  \"White\"    \"White\"   \n",
       "[3115] \"White\"    \"White\"    \"White\"    \"White\"    \"White\"    \"Mexican\" \n",
       "[3121] \"Hispanic\" \"White\"    \"White\"    \"White\"    \"White\"    \"White\"   \n",
       "[3127] \"White\"    \"White\"    \"White\"    \"White\"    \"White\"    \"White\"   \n",
       "[3133] \"White\"    \"Mexican\"  \"White\"    \"White\"    \"White\"    \"White\"   \n",
       "[3139] \"Asian\"    \"White\"    \"White\"    \"White\"    \"White\"    \"White\"   \n",
       "[3145] \"White\"    \"Mexican\"  \"White\"    \"Mexican\"  \"White\"    \"White\"   \n",
       "[3151] \"White\"    \"White\"    \"White\"    \"White\"    \"White\"    \"White\"   \n",
       "[3157] \"White\"    \"Asian\"    \"Black\"    \"Mexican\"  \"Mexican\"  \"White\"   \n",
       "[3163] \"Asian\"    \"White\"    \"Asian\"    \"White\"    \"Black\"    \"Mexican\" \n",
       "[3169] \"Mexican\"  \"White\"    \"White\"    \"White\"    \"Black\"    \"Black\"   \n",
       "[3175] \"Asian\"    \"Mexican\"  \"White\"    \"White\"    \"White\"    \"White\"   \n",
       "[3181] \"White\"    \"White\"    \"White\"    \"White\"    \"White\"    \"White\"   \n",
       "[3187] \"White\"    \"Black\"    \"White\"    \"White\"    \"White\"    \"White\"   \n",
       "[3193] \"Asian\"    \"White\"    \"White\"    \"White\"    \"White\"    \"White\"   \n",
       "[3199] \"White\"    \"White\"    \"White\"    \"White\"    \"White\"    \"Other\"   \n",
       "[3205] \"White\"    \"Mexican\"  \"White\"    \"White\"    \"Black\"    \"Black\"   \n",
       "[3211] \"White\"    \"White\"    \"White\"    \"White\"    \"White\"    \"White\"   \n",
       "[3217] \"White\"    \"Black\"    \"Black\"    \"White\"    \"White\"    \"White\"   \n",
       "[3223] \"White\"    \"White\"    \"White\"    \"White\"    \"Black\"    \"Asian\"   \n",
       "[3229] \"White\"    \"White\"    \"Asian\"    \"White\"    \"White\"    \"White\"   \n",
       "[3235] \"Black\"    \"White\"    \"White\"    \"White\"    \"White\"    \"White\"   \n",
       "[3241] \"White\"    \"White\"    \"White\"    \"White\"    \"White\"    \"White\"   \n",
       "[3247] \"White\"    \"White\"    \"Asian\"    \"Black\"    \"Other\"    \"Other\"   \n",
       "[3253] \"White\"    \"Other\"    \"Other\"    \"Other\"    \"Other\"    \"Hispanic\"\n",
       "[3259] \"White\"    \"White\"    \"Hispanic\" \"Hispanic\" \"Hispanic\" \"White\"   \n",
       "[3265] \"White\"    \"White\"    \"Hispanic\" \"Mexican\"  \"White\"    \"White\"   \n",
       "[3271] \"White\"    \"White\"    \"White\"    \"White\"    \"White\"    \"White\"   \n",
       "[3277] \"Mexican\"  \"White\"    \"Asian\"    \"White\"    \"White\"    \"Asian\"   \n",
       "[3283] \"White\"    \"White\"    \"Hispanic\" \"Mexican\"  \"Mexican\"  \"Black\"   \n",
       "[3289] \"White\"    \"White\"    \"White\"    \"Mexican\"  \"Black\"    \"Black\"   \n",
       "[3295] \"Black\"    \"White\"    \"Black\"    \"Mexican\"  \"White\"    \"White\"   \n",
       "[3301] \"Black\"    \"Hispanic\" \"Hispanic\" \"Asian\"    \"Black\"    \"White\"   \n",
       "[3307] \"White\"    \"White\"    \"White\"    \"White\"    \"Hispanic\" \"White\"   \n",
       "[3313] \"White\"    \"White\"    \"Mexican\"  \"Mexican\"  \"White\"    \"White\"   \n",
       "[3319] \"White\"    \"Black\"    \"White\"    \"White\"    \"White\"    \"White\"   \n",
       "[3325] \"Mexican\"  \"Asian\"    \"Asian\"    \"Asian\"    \"Black\"    \"White\"   \n",
       "[3331] \"White\"    \"Hispanic\" \"White\"    \"White\"    \"Other\"    \"White\"   \n",
       "[3337] \"White\"    \"Mexican\"  \"Mexican\"  \"White\"    \"Black\"    \"Hispanic\"\n",
       "[3343] \"Hispanic\" \"Hispanic\" \"Hispanic\" \"Asian\"    \"Asian\"    \"Asian\"   \n",
       "[3349] \"Black\"    \"Other\"    \"Other\"    \"Other\"    \"Other\"    \"Other\"   \n",
       "[3355] \"White\"    \"White\"    \"White\"    \"Other\"    \"White\"    \"White\"   \n",
       "[3361] \"White\"    \"White\"    \"White\"    \"White\"    \"Black\"    \"Mexican\" \n",
       "[3367] \"White\"    \"White\"    \"White\"    \"White\"    \"White\"    \"White\"   \n",
       "[3373] \"White\"    \"Hispanic\" \"Hispanic\" \"Hispanic\" \"White\"    \"White\"   \n",
       "[3379] \"White\"    \"White\"    \"White\"    \"White\"    \"Mexican\"  \"Hispanic\"\n",
       "[3385] \"White\"    \"Asian\"    \"Hispanic\" \"Mexican\"  \"White\"    \"White\"   \n",
       "[3391] \"White\"    \"White\"    \"White\"    \"White\"    \"White\"    \"White\"   \n",
       "[3397] \"White\"    \"White\"    \"White\"    \"White\"    \"White\"    \"Mexican\" \n",
       "[3403] \"Mexican\"  \"Other\"    \"White\"    \"White\"    \"White\"    \"White\"   \n",
       "[3409] \"Mexican\"  \"White\"    \"White\"    \"White\"    \"White\"    \"White\"   \n",
       "[3415] \"Black\"    \"White\"    \"Hispanic\" \"White\"    \"Black\"    \"Mexican\" \n",
       "[3421] \"Black\"    \"Mexican\"  \"Black\"    \"Hispanic\" \"Hispanic\" \"Hispanic\"\n",
       "[3427] \"Black\"    \"Hispanic\" \"White\"    \"White\"    \"White\"    \"White\"   \n",
       "[3433] \"Asian\"    \"Mexican\"  \"Mexican\"  \"White\"    \"White\"    \"Other\"   \n",
       "[3439] \"White\"    \"White\"    \"Hispanic\" \"Hispanic\" \"Hispanic\" \"White\"   \n",
       "[3445] \"Asian\"    \"White\"    \"White\"    \"White\"    \"White\"    \"White\"   \n",
       "[3451] \"White\"    \"White\"    \"White\"    \"Asian\"    \"White\"    \"White\"   \n",
       "[3457] \"White\"    \"White\"    \"White\"    \"Other\"    \"Black\"    \"White\"   \n",
       "[3463] \"Mexican\"  \"Black\"    \"Other\"    \"Other\"    \"Black\"    \"White\"   \n",
       "[3469] \"White\"    \"White\"    \"Mexican\"  \"White\"    \"White\"    \"White\"   \n",
       "[3475] \"White\"    \"Black\"    \"Black\"    \"White\"    \"White\"    \"White\"   \n",
       "[3481] \"Mexican\"  \"Mexican\"  \"Asian\"    \"Mexican\"  \"Black\"    \"Black\"   \n",
       "[3487] \"White\"    \"Mexican\"  \"White\"    \"White\"    \"White\"    \"White\"   \n",
       "[3493] \"White\"    \"White\"    \"White\"    \"White\"    \"Black\"    \"Hispanic\"\n",
       "[3499] \"White\"    \"White\"    \"White\"    \"White\"    \"White\"    \"White\"   \n",
       "[3505] \"Hispanic\" \"White\"    \"Black\"    \"Hispanic\" \"White\"    \"White\"   \n",
       "[3511] \"White\"    \"White\"    \"White\"    \"White\"    \"White\"    \"Black\"   \n",
       "[3517] \"Black\"    \"White\"    \"White\"    \"White\"    \"Other\"    \"Black\"   \n",
       "[3523] \"Mexican\"  \"White\"    \"White\"    \"White\"    \"Black\"    \"White\"   \n",
       "[3529] \"White\"    \"White\"    \"Hispanic\" \"Hispanic\" \"Hispanic\" \"White\"   \n",
       "[3535] \"White\"    \"White\"    \"White\"    \"White\"    \"White\"    \"White\"   \n",
       "[3541] \"White\"    \"Mexican\"  \"Hispanic\" \"Black\"    \"White\"    \"White\"   \n",
       "[3547] \"White\"    \"Hispanic\" \"Hispanic\" \"Hispanic\" \"Mexican\"  \"Mexican\" \n",
       "[3553] \"Mexican\"  \"Mexican\"  \"White\"    \"White\"    \"White\"    \"Black\"   \n",
       "[3559] \"Black\"    \"Other\"    \"White\"    \"White\"    \"Asian\"    \"White\"   \n",
       "[3565] \"White\"    \"White\"    \"Mexican\"  \"Black\"    \"White\"    \"White\"   \n",
       "[3571] \"White\"    \"White\"    \"White\"    \"Asian\"    \"White\"    \"Black\"   \n",
       "[3577] \"White\"    \"White\"    \"White\"    \"White\"    \"White\"    \"White\"   \n",
       "[3583] \"White\"    \"White\"    \"Hispanic\" \"Other\"    \"White\"    \"White\"   \n",
       "[3589] \"Mexican\"  \"White\"    \"Asian\"    \"White\"    \"White\"    \"Other\"   \n",
       "[3595] \"Hispanic\" \"White\"    \"Mexican\"  \"Black\"    \"Asian\"    \"Mexican\" \n",
       "[3601] \"Mexican\"  \"Hispanic\" \"White\"    \"White\"    \"White\"    \"White\"   \n",
       "[3607] \"White\"    \"Black\"    \"Hispanic\" \"White\"    \"White\"    \"White\"   \n",
       "[3613] \"White\"    \"Hispanic\" \"Hispanic\" \"Mexican\"  \"White\"    \"Black\"   \n",
       "[3619] \"Asian\"    \"Mexican\"  \"White\"    \"White\"    \"White\"    \"White\"   \n",
       "[3625] \"White\"    \"White\"    \"White\"    \"Hispanic\" \"Hispanic\" \"White\"   \n",
       "[3631] \"Asian\"    \"White\"    \"Mexican\"  \"White\"    \"White\"    \"White\"   \n",
       "[3637] \"Black\"    \"White\"    \"Black\"    \"Black\"    \"Mexican\"  \"Black\"   \n",
       "[3643] \"Black\"    \"White\"    \"White\"    \"Asian\"    \"White\"    \"White\"   \n",
       "[3649] \"Black\"    \"Other\"    \"Other\"    \"Black\"    \"Mexican\"  \"White\"   \n",
       "[3655] \"White\"    \"White\"    \"White\"    \"White\"    \"White\"    \"White\"   \n",
       "[3661] \"Mexican\"  \"White\"    \"White\"    \"White\"    \"White\"    \"Black\"   \n",
       "[3667] \"White\"    \"White\"    \"White\"    \"White\"    \"Hispanic\" \"Asian\"   \n",
       "[3673] \"Other\"    \"Hispanic\" \"White\"    \"Black\"    \"Black\"    \"Black\"   \n",
       "[3679] \"Asian\"    \"Asian\"    \"White\"    \"White\"    \"White\"    \"Asian\"   \n",
       "[3685] \"Black\"    \"White\"    \"White\"    \"White\"    \"White\"    \"White\"   \n",
       "[3691] \"Asian\"    \"White\"    \"White\"    \"Black\"    \"White\"    \"White\"   \n",
       "[3697] \"White\"    \"White\"    \"White\"    \"Black\"    \"Asian\"    \"Asian\"   \n",
       "[3703] \"Mexican\"  \"Mexican\"  \"Black\"    \"White\"    \"Mexican\"  \"White\"   \n",
       "[3709] \"White\"    \"White\"    \"White\"    \"Black\"    \"Black\"    \"Black\"   \n",
       "[3715] \"White\"    \"White\"    \"Mexican\"  \"Hispanic\" \"Black\"    \"Black\"   \n",
       "[3721] \"Black\"    \"White\"    \"White\"    \"White\"    \"White\"    \"Black\"   \n",
       "[3727] \"White\"    \"Mexican\"  \"White\"    \"White\"    \"Asian\"    \"White\"   \n",
       "[3733] \"White\"    \"White\"    \"Black\"    \"White\"    \"White\"    \"White\"   \n",
       "[3739] \"White\"    \"White\"    \"White\"    \"White\"    \"White\"    \"White\"   \n",
       "[3745] \"White\"    \"White\"    \"White\"    \"White\"    \"White\"    \"Mexican\" \n",
       "[3751] \"White\"    \"White\"    \"White\"    \"White\"    \"White\"    \"White\"   \n",
       "[3757] \"White\"    \"White\"    \"White\"    \"White\"    \"White\"    \"White\"   \n",
       "[3763] \"White\"    \"White\"    \"White\"    \"White\"    \"White\"    \"White\"   \n",
       "[3769] \"White\"    \"White\"    \"White\"    \"Hispanic\" \"White\"    \"White\"   \n",
       "[3775] \"Asian\"    \"Hispanic\" \"Hispanic\" \"Black\"    \"Hispanic\" \"Hispanic\"\n",
       "[3781] \"Asian\"    \"White\"    \"White\"    \"White\"    \"White\"    \"Black\"   \n",
       "[3787] \"Hispanic\" \"White\"    \"White\"    \"White\"    \"White\"    \"Black\"   \n",
       "[3793] \"White\"    \"Mexican\"  \"Mexican\"  \"Other\"    \"White\"    \"Asian\"   \n",
       "[3799] \"Mexican\"  \"White\"    \"White\"    \"White\"    \"White\"    \"White\"   \n",
       "[3805] \"White\"    \"Black\"    \"White\"    \"White\"    \"White\"    \"White\"   \n",
       "[3811] \"White\"    \"White\"    \"White\"    \"White\"    \"White\"    \"Black\"   \n",
       "[3817] \"White\"    \"Mexican\"  \"Mexican\"  \"Hispanic\" \"White\"    \"White\"   \n",
       "[3823] \"White\"    \"White\"    \"White\"    \"White\"    \"Black\"    \"Black\"   \n",
       "[3829] \"White\"    \"White\"    \"White\"    \"White\"    \"White\"    \"White\"   \n",
       "[3835] \"Asian\"    \"White\"    \"White\"    \"White\"    \"White\"    \"White\"   \n",
       "[3841] \"Asian\"    \"Black\"    \"Black\"    \"White\"    \"White\"    \"White\"   \n",
       "[3847] \"White\"    \"White\"    \"White\"    \"Hispanic\" \"White\"    \"White\"   \n",
       "[3853] \"Mexican\"  \"Hispanic\" \"Black\"    \"Mexican\"  \"White\"    \"White\"   \n",
       "[3859] \"White\"    \"Black\"    \"White\"    \"White\"    \"Black\"    \"Mexican\" \n",
       "[3865] \"White\"    \"White\"    \"Black\"    \"Black\"    \"Hispanic\" \"Hispanic\"\n",
       "[3871] \"Hispanic\" \"Hispanic\" \"White\"    \"White\"    \"White\"    \"White\"   \n",
       "[3877] \"White\"    \"Asian\"    \"Mexican\"  \"White\"    \"White\"    \"White\"   \n",
       "[3883] \"Black\"    \"Asian\"    \"White\"    \"White\"    \"White\"    \"White\"   \n",
       "[3889] \"White\"    \"White\"    \"White\"    \"White\"    \"Black\"    \"White\"   \n",
       "[3895] \"White\"    \"White\"    \"White\"    \"Asian\"    \"White\"    \"White\"   \n",
       "[3901] \"White\"    \"White\"    \"White\"    \"White\"    \"White\"    \"White\"   \n",
       "[3907] \"Mexican\"  \"Black\"    \"Other\"    \"Other\"    \"White\"    \"White\"   \n",
       "[3913] \"White\"    \"White\"    \"Black\"    \"White\"    \"White\"    \"Black\"   \n",
       "[3919] \"Black\"    \"White\"    \"White\"    \"White\"    \"White\"    \"Black\"   \n",
       "[3925] \"Asian\"    \"Black\"    \"White\"    \"White\"    \"White\"    \"White\"   \n",
       "[3931] \"White\"    \"White\"    \"Hispanic\" \"White\"    \"White\"    \"White\"   \n",
       "[3937] \"White\"    \"Hispanic\" \"Mexican\"  \"Mexican\"  \"Asian\"    \"Asian\"   \n",
       "[3943] \"Mexican\"  \"Black\"    \"Black\"    \"Black\"    \"Other\"    \"Other\"   \n",
       "[3949] \"Other\"    \"White\"    \"White\"    \"White\"    \"Other\"    \"Black\"   \n",
       "[3955] \"White\"    \"Black\"    \"Hispanic\" \"White\"    \"Mexican\"  \"Black\"   \n",
       "[3961] \"White\"    \"Asian\"    \"Asian\"    \"White\"    \"Black\"    \"Black\"   \n",
       "[3967] \"Black\"    \"White\"    \"White\"    \"White\"    \"White\"    \"White\"   \n",
       "[3973] \"White\"    \"White\"    \"White\"    \"Mexican\"  \"Mexican\"  \"White\"   \n",
       "[3979] \"White\"    \"Hispanic\" \"White\"    \"White\"    \"White\"    \"White\"   \n",
       "[3985] \"Other\"    \"Black\"    \"White\"    \"White\"    \"White\"    \"White\"   \n",
       "[3991] \"Mexican\"  \"White\"    \"White\"    \"White\"    \"White\"    \"White\"   \n",
       "[3997] \"Asian\"    \"White\"    \"White\"    \"White\"    \"White\"    \"White\"   \n",
       "[4003] \"White\"    \"Hispanic\" \"White\"    \"White\"    \"Mexican\"  \"Black\"   \n",
       "[4009] \"Other\"    \"Black\"    \"White\"    \"White\"    \"White\"    \"White\"   \n",
       "[4015] \"White\"    \"Mexican\"  \"White\"    \"White\"    \"Mexican\"  \"White\"   \n",
       "[4021] \"White\"    \"White\"    \"Other\"    \"Black\"    \"Black\"    \"White\"   \n",
       "[4027] \"White\"    \"White\"    \"White\"    \"White\"    \"White\"    \"White\"   \n",
       "[4033] \"Black\"    \"White\"    \"White\"    \"White\"    \"Black\"    \"Black\"   \n",
       "[4039] \"Other\"    \"Other\"    \"White\"    \"Hispanic\" \"Hispanic\" \"Black\"   \n",
       "[4045] \"Black\"    \"White\"    \"White\"    \"Other\"    \"White\"    \"White\"   \n",
       "[4051] \"White\"    \"White\"    \"White\"    \"Mexican\"  \"Black\"    \"White\"   \n",
       "[4057] \"White\"    \"White\"    \"Mexican\"  \"White\"    \"White\"    \"Mexican\" \n",
       "[4063] \"Asian\"    \"Asian\"    \"White\"    \"White\"    \"White\"    \"Other\"   \n",
       "[4069] \"Other\"    \"Other\"    \"White\"    \"White\"    \"White\"    \"White\"   \n",
       "[4075] \"White\"    \"White\"    \"White\"    \"White\"    \"White\"    \"White\"   \n",
       "[4081] \"Black\"    \"White\"    \"White\"    \"White\"    \"White\"    \"White\"   \n",
       "[4087] \"White\"    \"White\"    \"Black\"    \"White\"    \"White\"    \"White\"   \n",
       "[4093] \"Black\"    \"White\"    \"White\"    \"White\"    \"White\"    \"White\"   \n",
       "[4099] \"White\"    \"White\"    \"White\"    \"Mexican\"  \"Mexican\"  \"White\"   \n",
       "[4105] \"White\"    \"White\"    \"White\"    \"White\"    \"White\"    \"Asian\"   \n",
       "[4111] \"Other\"    \"Mexican\"  \"Black\"    \"White\"    \"White\"    \"White\"   \n",
       "[4117] \"White\"    \"White\"    \"White\"    \"White\"    \"Mexican\"  \"Mexican\" \n",
       "[4123] \"White\"    \"White\"    \"Black\"    \"Mexican\"  \"Hispanic\" \"Mexican\" \n",
       "[4129] \"Mexican\"  \"White\"    \"Asian\"    \"White\"    \"White\"    \"White\"   \n",
       "[4135] \"White\"    \"White\"    \"White\"    \"White\"    \"White\"    \"Black\"   \n",
       "[4141] \"Mexican\"  \"Mexican\"  \"White\"    \"White\"    \"White\"    \"Black\"   \n",
       "[4147] \"Black\"    \"Black\"    \"Mexican\"  \"Mexican\"  \"Other\"    \"White\"   \n",
       "[4153] \"White\"    \"White\"    \"Black\"    \"White\"    \"Hispanic\" \"Asian\"   \n",
       "[4159] \"Asian\"    \"White\"    \"White\"    \"White\"    \"White\"    \"Black\"   \n",
       "[4165] \"White\"    \"White\"    \"White\"    \"White\"    \"Black\"    \"Black\"   \n",
       "[4171] \"Asian\"    \"Mexican\"  \"Mexican\"  \"Black\"    \"White\"    \"White\"   \n",
       "[4177] \"Black\"    \"White\"    \"White\"    \"White\"    \"White\"    \"White\"   \n",
       "[4183] \"White\"    \"Mexican\"  \"White\"    \"White\"    \"White\"    \"White\"   \n",
       "[4189] \"White\"    \"White\"    \"White\"    \"White\"    \"Mexican\"  \"Black\"   \n",
       "[4195] \"White\"    \"Mexican\"  \"White\"    \"Black\"    \"White\"    \"White\"   \n",
       "[4201] \"White\"    \"White\"    \"White\"    \"White\"    \"White\"    \"White\"   \n",
       "[4207] \"White\"    \"White\"    \"White\"    \"White\"    \"White\"    \"Mexican\" \n",
       "[4213] \"Hispanic\" \"Hispanic\" \"White\"    \"White\"    \"White\"    \"Hispanic\"\n",
       "[4219] \"Hispanic\" \"Mexican\"  \"Asian\"    \"White\"    \"White\"    \"White\"   \n",
       "[4225] \"White\"    \"Hispanic\" \"Hispanic\" \"Hispanic\" \"Hispanic\" \"Hispanic\"\n",
       "[4231] \"White\"    \"White\"    \"White\"    \"White\"    \"White\"    \"White\"   \n",
       "[4237] \"White\"    \"White\"    \"Hispanic\" \"White\"    \"White\"    \"White\"   \n",
       "[4243] \"Mexican\"  \"White\"    \"White\"    \"Hispanic\" \"White\"    \"White\"   \n",
       "[4249] \"White\"    \"White\"    \"Mexican\"  \"White\"    \"Black\"    \"Black\"   \n",
       "[4255] \"Black\"    \"White\"    \"White\"    \"Other\"    \"White\"    \"White\"   \n",
       "[4261] \"White\"    \"Asian\"    \"Asian\"    \"Mexican\"  \"Mexican\"  \"Mexican\" \n",
       "[4267] \"White\"    \"White\"    \"White\"    \"White\"    \"White\"    \"White\"   \n",
       "[4273] \"Black\"    \"Black\"    \"White\"    \"Mexican\"  \"White\"    \"Other\"   \n",
       "[4279] \"White\"    \"White\"    \"White\"    \"Hispanic\" \"Mexican\"  \"White\"   \n",
       "[4285] \"Mexican\"  \"White\"    \"Black\"    \"White\"    \"Mexican\"  \"Mexican\" \n",
       "[4291] \"Black\"    \"Black\"    \"Asian\"    \"White\"    \"White\"    \"White\"   \n",
       "[4297] \"White\"    \"Black\"    \"White\"    \"White\"    \"White\"    \"White\"   \n",
       "[4303] \"Asian\"    \"Black\"    \"Black\"    \"White\"    \"White\"    \"White\"   \n",
       "[4309] \"White\"    \"White\"    \"White\"    \"Mexican\"  \"Mexican\"  \"Mexican\" \n",
       "[4315] \"Other\"    \"Mexican\"  \"Mexican\"  \"Black\"    \"White\"    \"Asian\"   \n",
       "[4321] \"White\"    \"White\"    \"White\"    \"White\"    \"White\"    \"Mexican\" \n",
       "[4327] \"Mexican\"  \"Mexican\"  \"White\"    \"White\"    \"Other\"    \"Other\"   \n",
       "[4333] \"Other\"    \"White\"    \"White\"    \"White\"    \"White\"    \"White\"   \n",
       "[4339] \"White\"    \"White\"    \"White\"    \"White\"    \"White\"    \"White\"   \n",
       "[4345] \"White\"    \"White\"    \"Hispanic\" \"White\"    \"White\"    \"White\"   \n",
       "[4351] \"White\"    \"White\"    \"White\"    \"Hispanic\" \"Hispanic\" \"White\"   \n",
       "[4357] \"White\"    \"White\"    \"White\"    \"Black\"    \"Black\"    \"Black\"   \n",
       "[4363] \"White\"    \"Black\"    \"Black\"    \"Asian\"    \"Asian\"    \"White\"   \n",
       "[4369] \"White\"    \"White\"    \"White\"    \"White\"    \"White\"    \"White\"   \n",
       "[4375] \"Mexican\"  \"Other\"    \"White\"    \"White\"    \"Black\"    \"Black\"   \n",
       "[4381] \"White\"    \"White\"    \"White\"    \"Black\"    \"Black\"    \"Black\"   \n",
       "[4387] \"Mexican\"  \"Other\"    \"Hispanic\" \"Hispanic\" \"Mexican\"  \"Mexican\" \n",
       "[4393] \"White\"    \"White\"    \"White\"    \"White\"    \"White\"    \"White\"   \n",
       "[4399] \"White\"    \"Hispanic\" \"Hispanic\" \"Hispanic\" \"Black\"    \"White\"   \n",
       "[4405] \"White\"    \"White\"    \"Mexican\"  \"White\"    \"White\"    \"White\"   \n",
       "[4411] \"White\"    \"White\"    \"Mexican\"  \"Mexican\"  \"White\"    \"White\"   \n",
       "[4417] \"White\"    \"White\"    \"White\"    \"White\"    \"White\"    \"White\"   \n",
       "[4423] \"White\"    \"White\"    \"White\"    \"White\"    \"White\"    \"White\"   \n",
       "[4429] \"White\"    \"White\"    \"Hispanic\" \"White\"    \"Black\"    \"White\"   \n",
       "[4435] \"White\"    \"Mexican\"  \"Mexican\"  \"Other\"    \"Asian\"    \"Hispanic\"\n",
       "[4441] \"White\"    \"White\"    \"White\"    \"White\"    \"White\"    \"White\"   \n",
       "[4447] \"White\"    \"White\"    \"White\"    \"White\"    \"Black\"    \"Asian\"   \n",
       "[4453] \"Asian\"    \"White\"    \"White\"    \"White\"    \"White\"    \"White\"   \n",
       "[4459] \"White\"    \"White\"    \"White\"    \"White\"    \"White\"    \"Black\"   \n",
       "[4465] \"White\"    \"White\"    \"White\"    \"White\"    \"White\"    \"Black\"   \n",
       "[4471] \"Black\"    \"Asian\"    \"White\"    \"White\"    \"White\"    \"White\"   \n",
       "[4477] \"Mexican\"  \"White\"    \"White\"    \"White\"    \"Mexican\"  \"White\"   \n",
       "[4483] \"White\"    \"White\"    \"White\"    \"Black\"    \"Black\"    \"Black\"   \n",
       "[4489] \"White\"    \"White\"    \"White\"    \"White\"    \"White\"    \"White\"   \n",
       "[4495] \"White\"    \"White\"    \"White\"    \"White\"    \"Hispanic\" \"White\"   \n",
       "[4501] \"White\"    \"White\"    \"White\"    \"White\"    \"Asian\"    \"Asian\"   \n",
       "[4507] \"Black\"    \"Black\"    \"Mexican\"  \"Mexican\"  \"Hispanic\" \"White\"   \n",
       "[4513] \"White\"    \"White\"    \"White\"    \"White\"    \"White\"    \"White\"   \n",
       "[4519] \"White\"    \"White\"    \"White\"    \"Hispanic\" \"Black\"    \"White\"   \n",
       "[4525] \"White\"    \"White\"    \"White\"    \"White\"    \"White\"    \"Hispanic\"\n",
       "[4531] \"White\"    \"White\"    \"White\"    \"White\"    \"White\"    \"White\"   \n",
       "[4537] \"White\"    \"Asian\"    \"White\"    \"White\"    \"White\"    \"White\"   \n",
       "[4543] \"White\"    \"White\"    \"Hispanic\" \"White\"    \"White\"    \"White\"   \n",
       "[4549] \"White\"    \"Black\"    \"White\"    \"White\"    \"White\"    \"White\"   \n",
       "[4555] \"Mexican\"  \"Mexican\"  \"White\"    \"White\"    \"Black\"    \"White\"   \n",
       "[4561] \"White\"    \"White\"    \"White\"    \"White\"    \"Black\"    \"White\"   \n",
       "[4567] \"White\"    \"White\"    \"White\"    \"White\"    \"Mexican\"  \"Mexican\" \n",
       "[4573] \"Mexican\"  \"Mexican\"  \"Mexican\"  \"Black\"    \"White\"    \"White\"   \n",
       "[4579] \"White\"    \"White\"    \"White\"    \"White\"    \"White\"    \"White\"   \n",
       "[4585] \"White\"    \"White\"    \"Hispanic\" \"White\"    \"White\"    \"White\"   \n",
       "[4591] \"White\"    \"Asian\"    \"Asian\"    \"Asian\"    \"Hispanic\" \"White\"   \n",
       "[4597] \"White\"    \"White\"    \"White\"    \"White\"    \"White\"    \"White\"   \n",
       "[4603] \"White\"    \"White\"    \"White\"    \"White\"    \"White\"    \"White\"   \n",
       "[4609] \"White\"    \"White\"    \"White\"    \"Black\"    \"Mexican\"  \"White\"   \n",
       "[4615] \"White\"    \"White\"    \"White\"    \"White\"    \"White\"    \"White\"   \n",
       "[4621] \"White\"    \"White\"    \"Black\"    \"Mexican\"  \"Black\"    \"White\"   \n",
       "[4627] \"White\"    \"Black\"    \"Asian\"    \"Asian\"    \"White\"    \"White\"   \n",
       "[4633] \"Asian\"    \"White\"    \"Asian\"    \"Asian\"    \"White\"    \"White\"   \n",
       "[4639] \"Other\"    \"Other\"    \"Other\"    \"White\"    \"White\"    \"White\"   \n",
       "[4645] \"White\"    \"White\"    \"White\"    \"Hispanic\" \"Asian\"    \"White\"   \n",
       "[4651] \"Mexican\"  \"Mexican\"  \"White\"    \"White\"    \"White\"    \"White\"   \n",
       "[4657] \"Asian\"    \"White\"    \"White\"    \"White\"    \"Mexican\"  \"White\"   \n",
       "[4663] \"White\"    \"White\"    \"Mexican\"  \"Black\"    \"White\"    \"White\"   \n",
       "[4669] \"White\"    \"White\"    \"White\"    \"White\"    \"White\"    \"White\"   \n",
       "[4675] \"White\"    \"White\"    \"White\"    \"White\"    \"White\"    \"Mexican\" \n",
       "[4681] \"White\"    \"White\"    \"White\"    \"White\"    \"White\"    \"Asian\"   \n",
       "[4687] \"Hispanic\" \"White\"    \"White\"    \"White\"    \"Mexican\"  \"White\"   \n",
       "[4693] \"White\"    \"White\"    \"White\"    \"White\"    \"White\"    \"White\"   \n",
       "[4699] \"White\"    \"White\"    \"White\"    \"White\"    \"White\"    \"White\"   \n",
       "[4705] \"White\"    \"Black\"    \"White\"    \"White\"    \"Asian\"    \"Asian\"   \n",
       "[4711] \"White\"    \"White\"    \"White\"    \"White\"    \"White\"    \"Black\"   \n",
       "[4717] \"Black\"    \"White\"    \"White\"    \"Other\"    \"Other\"    \"Other\"   \n",
       "[4723] \"Other\"    \"Black\"    \"Mexican\"  \"White\"    \"White\"    \"White\"   \n",
       "[4729] \"Black\"    \"White\"    \"White\"    \"White\"    \"Mexican\"  \"White\"   \n",
       "[4735] \"White\"    \"Hispanic\" \"Hispanic\" \"Mexican\"  \"Asian\"    \"Black\"   \n",
       "[4741] \"Other\"    \"White\"    \"White\"    \"White\"    \"White\"    \"White\"   \n",
       "[4747] \"White\"    \"Hispanic\" \"Hispanic\" \"White\"    \"White\"    \"White\"   \n",
       "[4753] \"White\"    \"White\"    \"White\"    \"White\"    \"White\"    \"White\"   \n",
       "[4759] \"White\"    \"Mexican\"  \"White\"    \"White\"    \"White\"    \"White\"   \n",
       "[4765] \"White\"    \"White\"    \"White\"    \"Asian\"    \"White\"    \"White\"   \n",
       "[4771] \"Mexican\"  \"Hispanic\" \"White\"    \"White\"    \"White\"    \"White\"   \n",
       "[4777] \"Mexican\"  \"Mexican\"  \"White\"    \"White\"    \"Mexican\"  \"Mexican\" \n",
       "[4783] \"White\"    \"White\"    \"White\"    \"White\"    \"White\"    \"Mexican\" \n",
       "[4789] \"Black\"    \"Black\"    \"Mexican\"  \"Hispanic\" \"Mexican\"  \"White\"   \n",
       "[4795] \"Asian\"    \"Asian\"    \"Asian\"    \"Black\"    \"Mexican\"  \"White\"   \n",
       "[4801] \"White\"    \"White\"    \"White\"    \"White\"    \"Mexican\"  \"White\"   \n",
       "[4807] \"Mexican\"  \"White\"    \"White\"    \"Hispanic\" \"White\"    \"White\"   \n",
       "[4813] \"White\"    \"White\"    \"White\"    \"White\"    \"Mexican\"  \"Mexican\" \n",
       "[4819] \"Hispanic\" \"Hispanic\" \"White\"    \"White\"    \"Black\"    \"White\"   \n",
       "[4825] \"White\"    \"White\"    \"Mexican\"  \"Mexican\"  \"Mexican\"  \"White\"   \n",
       "[4831] \"White\"    \"White\"    \"Mexican\"  \"White\"    \"White\"    \"Mexican\" \n",
       "[4837] \"White\"    \"White\"    \"White\"    \"White\"    \"Mexican\"  \"White\"   \n",
       "[4843] \"White\"    \"White\"    \"White\"    \"Black\"    \"Asian\"    \"Asian\"   \n",
       "[4849] \"Black\"    \"White\"    \"White\"    \"White\"    \"Black\"    \"White\"   \n",
       "[4855] \"White\"    \"White\"    \"White\"    \"White\"    \"White\"    \"Mexican\" \n",
       "[4861] \"White\"    \"White\"    \"White\"    \"White\"    \"White\"    \"White\"   \n",
       "[4867] \"Hispanic\" \"Hispanic\" \"Mexican\"  \"Asian\"    \"White\"    \"White\"   \n",
       "[4873] \"Black\"    \"Mexican\"  \"White\"    \"White\"    \"White\"    \"White\"   \n",
       "[4879] \"White\"    \"White\"    \"White\"    \"White\"    \"Mexican\"  \"White\"   \n",
       "[4885] \"White\"    \"White\"    \"White\"    \"Asian\"    \"White\"    \"White\"   \n",
       "[4891] \"White\"    \"Hispanic\" \"White\"    \"White\"    \"Black\"    \"White\"   \n",
       "[4897] \"Mexican\"  \"Black\"    \"White\"    \"White\"    \"Asian\"    \"Black\"   \n",
       "[4903] \"Hispanic\" \"Mexican\"  \"White\"    \"White\"    \"Mexican\"  \"Black\"   \n",
       "[4909] \"White\"    \"White\"    \"White\"    \"White\"    \"Hispanic\" \"White\"   \n",
       "[4915] \"White\"    \"Black\"    \"White\"    \"White\"    \"White\"    \"White\"   \n",
       "[4921] \"Asian\"    \"Asian\"    \"Hispanic\" \"Mexican\"  \"Mexican\"  \"White\"   \n",
       "[4927] \"Hispanic\" \"Hispanic\" \"Black\"    \"White\"    \"White\"    \"Asian\"   \n",
       "[4933] \"White\"    \"Black\"    \"Other\"    \"Black\"    \"Mexican\"  \"White\"   \n",
       "[4939] \"White\"    \"White\"    \"Black\"    \"White\"    \"White\"    \"White\"   \n",
       "[4945] \"White\"    \"White\"    \"White\"    \"White\"    \"Mexican\"  \"Black\"   \n",
       "[4951] \"Hispanic\" \"Hispanic\" \"Mexican\"  \"White\"    \"Black\"    \"White\"   \n",
       "[4957] \"White\"    \"White\"    \"White\"    \"White\"    \"White\"    \"White\"   \n",
       "[4963] \"Mexican\"  \"Asian\"    \"Black\"    \"White\"    \"White\"    \"White\"   \n",
       "[4969] \"Hispanic\" \"Other\"    \"White\"    \"White\"    \"White\"    \"White\"   \n",
       "[4975] \"Black\"    \"Mexican\"  \"Mexican\"  \"Mexican\"  \"Mexican\"  \"White\"   \n",
       "[4981] \"White\"    \"White\"    \"White\"    \"Black\"    \"Black\"    \"Black\"   \n",
       "[4987] \"Black\"    \"Mexican\"  \"White\"    \"White\"    \"White\"    \"White\"   \n",
       "[4993] \"White\"    \"Mexican\"  \"Mexican\"  \"Mexican\"  \"White\"    \"Mexican\" \n",
       "[4999] \"White\"    \"White\"   "
      ]
     },
     "metadata": {},
     "output_type": "display_data"
    },
    {
     "data": {
      "text/html": [
       "<style>\n",
       ".list-inline {list-style: none; margin:0; padding: 0}\n",
       ".list-inline>li {display: inline-block}\n",
       ".list-inline>li:not(:last-child)::after {content: \"\\00b7\"; padding: 0 .5ex}\n",
       "</style>\n",
       "<ol class=list-inline><li>'Asian'</li><li>'Black'</li><li>'White'</li><li>'Mexican'</li><li>'Hispanic'</li><li>'Other'</li></ol>\n"
      ],
      "text/latex": [
       "\\begin{enumerate*}\n",
       "\\item 'Asian'\n",
       "\\item 'Black'\n",
       "\\item 'White'\n",
       "\\item 'Mexican'\n",
       "\\item 'Hispanic'\n",
       "\\item 'Other'\n",
       "\\end{enumerate*}\n"
      ],
      "text/markdown": [
       "1. 'Asian'\n",
       "2. 'Black'\n",
       "3. 'White'\n",
       "4. 'Mexican'\n",
       "5. 'Hispanic'\n",
       "6. 'Other'\n",
       "\n",
       "\n"
      ],
      "text/plain": [
       "[1] \"Asian\"    \"Black\"    \"White\"    \"Mexican\"  \"Hispanic\" \"Other\"   "
      ]
     },
     "metadata": {},
     "output_type": "display_data"
    },
    {
     "data": {
      "text/html": [
       "6"
      ],
      "text/latex": [
       "6"
      ],
      "text/markdown": [
       "6"
      ],
      "text/plain": [
       "[1] 6"
      ]
     },
     "metadata": {},
     "output_type": "display_data"
    },
    {
     "data": {
      "text/html": [
       "<style>\n",
       ".list-inline {list-style: none; margin:0; padding: 0}\n",
       ".list-inline>li {display: inline-block}\n",
       ".list-inline>li:not(:last-child)::after {content: \"\\00b7\"; padding: 0 .5ex}\n",
       "</style>\n",
       "<ol class=list-inline><li>'Asian'</li><li>'Black'</li><li>'White'</li><li>'Mexican'</li><li>'Hispanic'</li><li>'Other'</li></ol>\n"
      ],
      "text/latex": [
       "\\begin{enumerate*}\n",
       "\\item 'Asian'\n",
       "\\item 'Black'\n",
       "\\item 'White'\n",
       "\\item 'Mexican'\n",
       "\\item 'Hispanic'\n",
       "\\item 'Other'\n",
       "\\end{enumerate*}\n"
      ],
      "text/markdown": [
       "1. 'Asian'\n",
       "2. 'Black'\n",
       "3. 'White'\n",
       "4. 'Mexican'\n",
       "5. 'Hispanic'\n",
       "6. 'Other'\n",
       "\n",
       "\n"
      ],
      "text/plain": [
       "[1] \"Asian\"    \"Black\"    \"White\"    \"Mexican\"  \"Hispanic\" \"Other\"   "
      ]
     },
     "metadata": {},
     "output_type": "display_data"
    },
    {
     "data": {
      "text/html": [
       "6"
      ],
      "text/latex": [
       "6"
      ],
      "text/markdown": [
       "6"
      ],
      "text/plain": [
       "[1] 6"
      ]
     },
     "metadata": {},
     "output_type": "display_data"
    }
   ],
   "source": [
    "#a) Display Race values\n",
    "nh$Race\n",
    "\n",
    "#b) Get the unique values of Race\n",
    "unique(nh$Race)\n",
    "\n",
    "#c)length of Race\n",
    "length(unique(nh$Race))\n",
    "\n",
    "# d,e) The dplyr way\n",
    "nh$Race %>% unique()\n",
    "\n",
    "nh$Race %>% unique() %>% length()"
   ]
  },
  {
   "cell_type": "markdown",
   "metadata": {},
   "source": [
    "## Missing data\n",
    "\n",
    "Let's try taking the mean of a `income` variable."
   ]
  },
  {
   "cell_type": "code",
   "execution_count": 176,
   "metadata": {},
   "outputs": [
    {
     "data": {
      "text/html": [
       "&lt;NA&gt;"
      ],
      "text/latex": [
       "<NA>"
      ],
      "text/markdown": [
       "&lt;NA&gt;"
      ],
      "text/plain": [
       "[1] NA"
      ]
     },
     "metadata": {},
     "output_type": "display_data"
    }
   ],
   "source": [
    "\n",
    "mean(nh$Income)"
   ]
  },
  {
   "cell_type": "markdown",
   "metadata": {},
   "source": [
    "What happened there? NA indicates missing data. Take a look at the Income variable."
   ]
  },
  {
   "cell_type": "code",
   "execution_count": 177,
   "metadata": {},
   "outputs": [
    {
     "name": "stdout",
     "output_type": "stream",
     "text": [
      " int [1:5000] 100000 22500 70000 70000 12500 100000 2500 22500 22500 30000 ...\n"
     ]
    }
   ],
   "source": [
    "\n",
    "glimpse(nh$Income)"
   ]
  },
  {
   "cell_type": "markdown",
   "metadata": {},
   "source": [
    "Notice that there are lots of missing values for Income. Trying to get the mean a bunch of observations with some missing data returns a missing value by default. This is almost universally the case with all summary statistics – a single NA will cause the summary to return NA. Now look at the help for ?mean. Notice the na.rm argument. This is a logical (i.e., TRUE or FALSE) value indicating whether or not missing values should be removed prior to computing the mean. By default, it’s set to FALSE. Now try it again."
   ]
  },
  {
   "cell_type": "code",
   "execution_count": 178,
   "metadata": {},
   "outputs": [
    {
     "data": {
      "text/html": [
       "57077.6552022496"
      ],
      "text/latex": [
       "57077.6552022496"
      ],
      "text/markdown": [
       "57077.6552022496"
      ],
      "text/plain": [
       "[1] 57077.66"
      ]
     },
     "metadata": {},
     "output_type": "display_data"
    }
   ],
   "source": [
    "\n",
    "mean(nh$Income, na.rm=TRUE)"
   ]
  },
  {
   "cell_type": "markdown",
   "metadata": {},
   "source": [
    "The `is.na()` function tells you if a value is missing. Get the `sum(`)` of that vector, which adds up all the TRUEs to tell you how many of the values are missing."
   ]
  },
  {
   "cell_type": "code",
   "execution_count": 179,
   "metadata": {},
   "outputs": [
    {
     "data": {
      "text/html": [
       "377"
      ],
      "text/latex": [
       "377"
      ],
      "text/markdown": [
       "377"
      ],
      "text/plain": [
       "[1] 377"
      ]
     },
     "metadata": {},
     "output_type": "display_data"
    }
   ],
   "source": [
    "#is.na(nh$Income))\n",
    "sum(is.na(nh$Income))"
   ]
  },
  {
   "cell_type": "markdown",
   "metadata": {},
   "source": [
    "R is.na Function Example (remove, replace, count, if else, is not NA)\n",
    "\n",
    "Before we can start, let’s create some example data in R (or R Studio)."
   ]
  },
  {
   "cell_type": "code",
   "execution_count": 180,
   "metadata": {},
   "outputs": [
    {
     "data": {
      "text/html": [
       "<table>\n",
       "<caption>A data.frame: 6 × 3</caption>\n",
       "<thead>\n",
       "\t<tr><th></th><th scope=col>x_num</th><th scope=col>x_fac</th><th scope=col>x_cha</th></tr>\n",
       "\t<tr><th></th><th scope=col>&lt;dbl&gt;</th><th scope=col>&lt;fct&gt;</th><th scope=col>&lt;chr&gt;</th></tr>\n",
       "</thead>\n",
       "<tbody>\n",
       "\t<tr><th scope=row>1</th><td> 8</td><td>2 </td><td>p</td></tr>\n",
       "\t<tr><th scope=row>2</th><td> 0</td><td>NA</td><td>a</td></tr>\n",
       "\t<tr><th scope=row>3</th><td>-4</td><td>2 </td><td>j</td></tr>\n",
       "\t<tr><th scope=row>4</th><td>NA</td><td>1 </td><td>x</td></tr>\n",
       "\t<tr><th scope=row>5</th><td>-6</td><td>1 </td><td>s</td></tr>\n",
       "\t<tr><th scope=row>6</th><td>-3</td><td>NA</td><td>k</td></tr>\n",
       "</tbody>\n",
       "</table>\n"
      ],
      "text/latex": [
       "A data.frame: 6 × 3\n",
       "\\begin{tabular}{r|lll}\n",
       "  & x\\_num & x\\_fac & x\\_cha\\\\\n",
       "  & <dbl> & <fct> & <chr>\\\\\n",
       "\\hline\n",
       "\t1 &  8 & 2  & p\\\\\n",
       "\t2 &  0 & NA & a\\\\\n",
       "\t3 & -4 & 2  & j\\\\\n",
       "\t4 & NA & 1  & x\\\\\n",
       "\t5 & -6 & 1  & s\\\\\n",
       "\t6 & -3 & NA & k\\\\\n",
       "\\end{tabular}\n"
      ],
      "text/markdown": [
       "\n",
       "A data.frame: 6 × 3\n",
       "\n",
       "| <!--/--> | x_num &lt;dbl&gt; | x_fac &lt;fct&gt; | x_cha &lt;chr&gt; |\n",
       "|---|---|---|---|\n",
       "| 1 |  8 | 2  | p |\n",
       "| 2 |  0 | NA | a |\n",
       "| 3 | -4 | 2  | j |\n",
       "| 4 | NA | 1  | x |\n",
       "| 5 | -6 | 1  | s |\n",
       "| 6 | -3 | NA | k |\n",
       "\n"
      ],
      "text/plain": [
       "  x_num x_fac x_cha\n",
       "1  8    2     p    \n",
       "2  0    NA    a    \n",
       "3 -4    2     j    \n",
       "4 NA    1     x    \n",
       "5 -6    1     s    \n",
       "6 -3    NA    k    "
      ]
     },
     "metadata": {},
     "output_type": "display_data"
    }
   ],
   "source": [
    "set.seed(11991)                              # Set seed\n",
    "N <- 1000                                    # Sample size\n",
    " \n",
    "x_num <- round(rnorm(N, 0, 5))               # Numeric\n",
    "x_fac <- as.factor(round(runif(N, 0, 3)))    # Factor\n",
    "x_cha <- sample(letters, N, replace = TRUE)  # Character\n",
    " \n",
    "x_num[rbinom(N, 1, 0.2) == 1] <- NA          # 20% missings\n",
    "x_fac[rbinom(N, 1, 0.3) == 1] <- NA          # 30% missings\n",
    "x_cha[rbinom(N, 1, 0.05) == 1] <- NA         # 5% missings\n",
    " \n",
    "data <- data.frame(x_num, x_fac, x_cha,      # Create data frame\n",
    "                   stringsAsFactors = FALSE)\n",
    "head(data)                                   # First rows of data"
   ]
  },
  {
   "cell_type": "markdown",
   "metadata": {},
   "source": [
    "Our data consists of three columns, each of them with a different class: numeric, factor, and character. This is how the first six lines of our data look like:\n",
    "\n",
    "\n",
    "Let’s apply the is.na function to our **whole data set**:"
   ]
  },
  {
   "cell_type": "code",
   "execution_count": 181,
   "metadata": {},
   "outputs": [
    {
     "data": {
      "text/html": [
       "<table>\n",
       "<caption>A matrix: 6 × 3 of type lgl</caption>\n",
       "<thead>\n",
       "\t<tr><th scope=col>x_num</th><th scope=col>x_fac</th><th scope=col>x_cha</th></tr>\n",
       "</thead>\n",
       "<tbody>\n",
       "\t<tr><td>FALSE</td><td>FALSE</td><td>FALSE</td></tr>\n",
       "\t<tr><td>FALSE</td><td> TRUE</td><td>FALSE</td></tr>\n",
       "\t<tr><td>FALSE</td><td>FALSE</td><td>FALSE</td></tr>\n",
       "\t<tr><td> TRUE</td><td>FALSE</td><td>FALSE</td></tr>\n",
       "\t<tr><td>FALSE</td><td>FALSE</td><td>FALSE</td></tr>\n",
       "\t<tr><td>FALSE</td><td> TRUE</td><td>FALSE</td></tr>\n",
       "</tbody>\n",
       "</table>\n"
      ],
      "text/latex": [
       "A matrix: 6 × 3 of type lgl\n",
       "\\begin{tabular}{lll}\n",
       " x\\_num & x\\_fac & x\\_cha\\\\\n",
       "\\hline\n",
       "\t FALSE & FALSE & FALSE\\\\\n",
       "\t FALSE &  TRUE & FALSE\\\\\n",
       "\t FALSE & FALSE & FALSE\\\\\n",
       "\t  TRUE & FALSE & FALSE\\\\\n",
       "\t FALSE & FALSE & FALSE\\\\\n",
       "\t FALSE &  TRUE & FALSE\\\\\n",
       "\\end{tabular}\n"
      ],
      "text/markdown": [
       "\n",
       "A matrix: 6 × 3 of type lgl\n",
       "\n",
       "| x_num | x_fac | x_cha |\n",
       "|---|---|---|\n",
       "| FALSE | FALSE | FALSE |\n",
       "| FALSE |  TRUE | FALSE |\n",
       "| FALSE | FALSE | FALSE |\n",
       "|  TRUE | FALSE | FALSE |\n",
       "| FALSE | FALSE | FALSE |\n",
       "| FALSE |  TRUE | FALSE |\n",
       "\n"
      ],
      "text/plain": [
       "     x_num x_fac x_cha\n",
       "[1,] FALSE FALSE FALSE\n",
       "[2,] FALSE  TRUE FALSE\n",
       "[3,] FALSE FALSE FALSE\n",
       "[4,]  TRUE FALSE FALSE\n",
       "[5,] FALSE FALSE FALSE\n",
       "[6,] FALSE  TRUE FALSE"
      ]
     },
     "metadata": {},
     "output_type": "display_data"
    }
   ],
   "source": [
    "head(is.na(data))"
   ]
  },
  {
   "cell_type": "markdown",
   "metadata": {},
   "source": [
    "We are also able to check whether there is or is not an NA value in a column or vector:"
   ]
  },
  {
   "cell_type": "code",
   "execution_count": 182,
   "metadata": {},
   "outputs": [
    {
     "data": {
      "text/html": [
       "<style>\n",
       ".list-inline {list-style: none; margin:0; padding: 0}\n",
       ".list-inline>li {display: inline-block}\n",
       ".list-inline>li:not(:last-child)::after {content: \"\\00b7\"; padding: 0 .5ex}\n",
       "</style>\n",
       "<ol class=list-inline><li>FALSE</li><li>FALSE</li><li>FALSE</li><li>TRUE</li><li>FALSE</li><li>FALSE</li></ol>\n"
      ],
      "text/latex": [
       "\\begin{enumerate*}\n",
       "\\item FALSE\n",
       "\\item FALSE\n",
       "\\item FALSE\n",
       "\\item TRUE\n",
       "\\item FALSE\n",
       "\\item FALSE\n",
       "\\end{enumerate*}\n"
      ],
      "text/markdown": [
       "1. FALSE\n",
       "2. FALSE\n",
       "3. FALSE\n",
       "4. TRUE\n",
       "5. FALSE\n",
       "6. FALSE\n",
       "\n",
       "\n"
      ],
      "text/plain": [
       "[1] FALSE FALSE FALSE  TRUE FALSE FALSE"
      ]
     },
     "metadata": {},
     "output_type": "display_data"
    },
    {
     "data": {
      "text/html": [
       "<style>\n",
       ".list-inline {list-style: none; margin:0; padding: 0}\n",
       ".list-inline>li {display: inline-block}\n",
       ".list-inline>li:not(:last-child)::after {content: \"\\00b7\"; padding: 0 .5ex}\n",
       "</style>\n",
       "<ol class=list-inline><li>FALSE</li><li>TRUE</li><li>FALSE</li><li>FALSE</li><li>FALSE</li><li>TRUE</li></ol>\n"
      ],
      "text/latex": [
       "\\begin{enumerate*}\n",
       "\\item FALSE\n",
       "\\item TRUE\n",
       "\\item FALSE\n",
       "\\item FALSE\n",
       "\\item FALSE\n",
       "\\item TRUE\n",
       "\\end{enumerate*}\n"
      ],
      "text/markdown": [
       "1. FALSE\n",
       "2. TRUE\n",
       "3. FALSE\n",
       "4. FALSE\n",
       "5. FALSE\n",
       "6. TRUE\n",
       "\n",
       "\n"
      ],
      "text/plain": [
       "[1] FALSE  TRUE FALSE FALSE FALSE  TRUE"
      ]
     },
     "metadata": {},
     "output_type": "display_data"
    },
    {
     "data": {
      "text/html": [
       "<style>\n",
       ".list-inline {list-style: none; margin:0; padding: 0}\n",
       ".list-inline>li {display: inline-block}\n",
       ".list-inline>li:not(:last-child)::after {content: \"\\00b7\"; padding: 0 .5ex}\n",
       "</style>\n",
       "<ol class=list-inline><li>FALSE</li><li>FALSE</li><li>FALSE</li><li>FALSE</li><li>FALSE</li><li>FALSE</li></ol>\n"
      ],
      "text/latex": [
       "\\begin{enumerate*}\n",
       "\\item FALSE\n",
       "\\item FALSE\n",
       "\\item FALSE\n",
       "\\item FALSE\n",
       "\\item FALSE\n",
       "\\item FALSE\n",
       "\\end{enumerate*}\n"
      ],
      "text/markdown": [
       "1. FALSE\n",
       "2. FALSE\n",
       "3. FALSE\n",
       "4. FALSE\n",
       "5. FALSE\n",
       "6. FALSE\n",
       "\n",
       "\n"
      ],
      "text/plain": [
       "[1] FALSE FALSE FALSE FALSE FALSE FALSE"
      ]
     },
     "metadata": {},
     "output_type": "display_data"
    },
    {
     "data": {
      "text/html": [
       "<style>\n",
       ".list-inline {list-style: none; margin:0; padding: 0}\n",
       ".list-inline>li {display: inline-block}\n",
       ".list-inline>li:not(:last-child)::after {content: \"\\00b7\"; padding: 0 .5ex}\n",
       "</style>\n",
       "<ol class=list-inline><li>TRUE</li><li>TRUE</li><li>TRUE</li><li>FALSE</li><li>TRUE</li><li>TRUE</li></ol>\n"
      ],
      "text/latex": [
       "\\begin{enumerate*}\n",
       "\\item TRUE\n",
       "\\item TRUE\n",
       "\\item TRUE\n",
       "\\item FALSE\n",
       "\\item TRUE\n",
       "\\item TRUE\n",
       "\\end{enumerate*}\n"
      ],
      "text/markdown": [
       "1. TRUE\n",
       "2. TRUE\n",
       "3. TRUE\n",
       "4. FALSE\n",
       "5. TRUE\n",
       "6. TRUE\n",
       "\n",
       "\n"
      ],
      "text/plain": [
       "[1]  TRUE  TRUE  TRUE FALSE  TRUE  TRUE"
      ]
     },
     "metadata": {},
     "output_type": "display_data"
    },
    {
     "data": {
      "text/html": [
       "<style>\n",
       ".list-inline {list-style: none; margin:0; padding: 0}\n",
       ".list-inline>li {display: inline-block}\n",
       ".list-inline>li:not(:last-child)::after {content: \"\\00b7\"; padding: 0 .5ex}\n",
       "</style>\n",
       "<ol class=list-inline><li>TRUE</li><li>FALSE</li><li>TRUE</li><li>TRUE</li><li>TRUE</li><li>FALSE</li></ol>\n"
      ],
      "text/latex": [
       "\\begin{enumerate*}\n",
       "\\item TRUE\n",
       "\\item FALSE\n",
       "\\item TRUE\n",
       "\\item TRUE\n",
       "\\item TRUE\n",
       "\\item FALSE\n",
       "\\end{enumerate*}\n"
      ],
      "text/markdown": [
       "1. TRUE\n",
       "2. FALSE\n",
       "3. TRUE\n",
       "4. TRUE\n",
       "5. TRUE\n",
       "6. FALSE\n",
       "\n",
       "\n"
      ],
      "text/plain": [
       "[1]  TRUE FALSE  TRUE  TRUE  TRUE FALSE"
      ]
     },
     "metadata": {},
     "output_type": "display_data"
    },
    {
     "data": {
      "text/html": [
       "<style>\n",
       ".list-inline {list-style: none; margin:0; padding: 0}\n",
       ".list-inline>li {display: inline-block}\n",
       ".list-inline>li:not(:last-child)::after {content: \"\\00b7\"; padding: 0 .5ex}\n",
       "</style>\n",
       "<ol class=list-inline><li>TRUE</li><li>TRUE</li><li>TRUE</li><li>TRUE</li><li>TRUE</li><li>TRUE</li></ol>\n"
      ],
      "text/latex": [
       "\\begin{enumerate*}\n",
       "\\item TRUE\n",
       "\\item TRUE\n",
       "\\item TRUE\n",
       "\\item TRUE\n",
       "\\item TRUE\n",
       "\\item TRUE\n",
       "\\end{enumerate*}\n"
      ],
      "text/markdown": [
       "1. TRUE\n",
       "2. TRUE\n",
       "3. TRUE\n",
       "4. TRUE\n",
       "5. TRUE\n",
       "6. TRUE\n",
       "\n",
       "\n"
      ],
      "text/plain": [
       "[1] TRUE TRUE TRUE TRUE TRUE TRUE"
      ]
     },
     "metadata": {},
     "output_type": "display_data"
    }
   ],
   "source": [
    "head(is.na(data$x_num))  # Works for numeric ...\n",
    "head(is.na(data$x_fac))  # ... factor ...\n",
    "head(is.na(data$x_cha))  # ... and character\n",
    " \n",
    "head(!is.na(data$x_num)) # The explanation mark still works \n",
    "head(!is.na(data$x_fac))\n",
    "head(!is.na(data$x_cha))"
   ]
  },
  {
   "cell_type": "markdown",
   "metadata": {},
   "source": [
    "That’s nice, but the real power of `is.na` becomes visible in combination with other functions — And that’s exactly what I’m going to show you now.\n",
    "\n"
   ]
  },
  {
   "cell_type": "code",
   "execution_count": 183,
   "metadata": {},
   "outputs": [
    {
     "data": {
      "text/html": [
       "1000"
      ],
      "text/latex": [
       "1000"
      ],
      "text/markdown": [
       "1000"
      ],
      "text/plain": [
       "[1] 1000"
      ]
     },
     "metadata": {},
     "output_type": "display_data"
    },
    {
     "data": {
      "text/html": [
       "799"
      ],
      "text/latex": [
       "799"
      ],
      "text/markdown": [
       "799"
      ],
      "text/plain": [
       "[1] 799"
      ]
     },
     "metadata": {},
     "output_type": "display_data"
    }
   ],
   "source": [
    "# is.na in Combination with Other R Functions\n",
    "#  Remove NAs of Vector or Column\n",
    "length(data$x_num)\n",
    "is.na_remove <- data$x_num[!is.na(data$x_num)]\n",
    "\n",
    "length(is.na_remove)\n",
    "\n",
    "### Replace NAs with Other Values (i.e. mean)\n",
    "\n",
    "\n",
    "is.na_replace_mean <- data$x_num                            # Duplicate first column\n",
    "x_num_mean <- mean(is.na_replace_mean, na.rm = TRUE)        # Calculate mean\n",
    "is.na_replace_mean[is.na(is.na_replace_mean)] <- x_num_mean # Replace by mean\n",
    "\n",
    "\n",
    "#In case of characters or factors, it is also possible in R to set NA to blank:\n",
    "\n",
    "\n",
    "is.na_blank_cha <- data$x_cha                               # Duplicate character column\n",
    "is.na_blank_cha[is.na(is.na_blank_cha)] <- \"\"               # Class character to blank\n",
    " \n",
    "is.na_blank_fac <- data$x_fac                               # Duplicate factor column\n",
    "is.na_blank_fac <- as.character(is.na_blank_fac)            # Convert temporarily to character\n",
    "is.na_blank_fac[is.na(is.na_blank_fac)] <- \"\"               # Class character to blank\n",
    "is.na_blank_fac <- as.factor(is.na_blank_fac)               # Recode back to factor"
   ]
  },
  {
   "cell_type": "markdown",
   "metadata": {},
   "source": [
    "## Count NAs via sum & colSums\n",
    "\n",
    "Combined with the R function sum, we can count the amount of NAs in our columns. According to our previous data generation, it should be approximately 20% in x_num, 30% in x_fac, and 5% in x_cha."
   ]
  },
  {
   "cell_type": "code",
   "execution_count": 184,
   "metadata": {},
   "outputs": [
    {
     "data": {
      "text/html": [
       "201"
      ],
      "text/latex": [
       "201"
      ],
      "text/markdown": [
       "201"
      ],
      "text/plain": [
       "[1] 201"
      ]
     },
     "metadata": {},
     "output_type": "display_data"
    },
    {
     "data": {
      "text/html": [
       "305"
      ],
      "text/latex": [
       "305"
      ],
      "text/markdown": [
       "305"
      ],
      "text/plain": [
       "[1] 305"
      ]
     },
     "metadata": {},
     "output_type": "display_data"
    },
    {
     "data": {
      "text/html": [
       "54"
      ],
      "text/latex": [
       "54"
      ],
      "text/markdown": [
       "54"
      ],
      "text/plain": [
       "[1] 54"
      ]
     },
     "metadata": {},
     "output_type": "display_data"
    },
    {
     "data": {
      "text/html": [
       "<style>\n",
       ".dl-inline {width: auto; margin:0; padding: 0}\n",
       ".dl-inline>dt, .dl-inline>dd {float: none; width: auto; display: inline-block}\n",
       ".dl-inline>dt::after {content: \":\\0020\"; padding-right: .5ex}\n",
       ".dl-inline>dt:not(:first-of-type) {padding-left: .5ex}\n",
       "</style><dl class=dl-inline><dt>x_num</dt><dd>201</dd><dt>x_fac</dt><dd>305</dd><dt>x_cha</dt><dd>54</dd></dl>\n"
      ],
      "text/latex": [
       "\\begin{description*}\n",
       "\\item[x\\textbackslash{}\\_num] 201\n",
       "\\item[x\\textbackslash{}\\_fac] 305\n",
       "\\item[x\\textbackslash{}\\_cha] 54\n",
       "\\end{description*}\n"
      ],
      "text/markdown": [
       "x_num\n",
       ":   201x_fac\n",
       ":   305x_cha\n",
       ":   54\n",
       "\n"
      ],
      "text/plain": [
       "x_num x_fac x_cha \n",
       "  201   305    54 "
      ]
     },
     "metadata": {},
     "output_type": "display_data"
    },
    {
     "data": {
      "text/html": [
       "TRUE"
      ],
      "text/latex": [
       "TRUE"
      ],
      "text/markdown": [
       "TRUE"
      ],
      "text/plain": [
       "[1] TRUE"
      ]
     },
     "metadata": {},
     "output_type": "display_data"
    }
   ],
   "source": [
    "\n",
    "sum(is.na(data$x_num)) # 213 missings in the first column\n",
    "sum(is.na(data$x_fac)) # 322 missings in the second column\n",
    "sum(is.na(data$x_cha)) # 47 missings in the third column\n",
    "\n",
    "\n",
    "# If we want to count NAs in multiple columns at the same time, we can use the function colSums:\n",
    "\n",
    "colSums(is.na(data))\n",
    "\n",
    "\n",
    " \n",
    "# Detect if there are any NAs\n",
    "\n",
    "# We can also test, if there is at least 1 missing value in a column of our data. As we already know, it is TRUE that our # columns have NAs.\n",
    "\n",
    "\n",
    "any(is.na(data$x_num))\n"
   ]
  },
  {
   "cell_type": "markdown",
   "metadata": {},
   "source": [
    " \n",
    "### Locate NAs via which\n",
    "\n",
    "In combination with the which function, is.na can be used to identify the positioning of NAs:"
   ]
  },
  {
   "cell_type": "code",
   "execution_count": 185,
   "metadata": {},
   "outputs": [
    {
     "data": {
      "text/html": [
       "<style>\n",
       ".list-inline {list-style: none; margin:0; padding: 0}\n",
       ".list-inline>li {display: inline-block}\n",
       ".list-inline>li:not(:last-child)::after {content: \"\\00b7\"; padding: 0 .5ex}\n",
       "</style>\n",
       "<ol class=list-inline><li>4</li><li>10</li><li>13</li><li>15</li><li>17</li><li>18</li></ol>\n"
      ],
      "text/latex": [
       "\\begin{enumerate*}\n",
       "\\item 4\n",
       "\\item 10\n",
       "\\item 13\n",
       "\\item 15\n",
       "\\item 17\n",
       "\\item 18\n",
       "\\end{enumerate*}\n"
      ],
      "text/markdown": [
       "1. 4\n",
       "2. 10\n",
       "3. 13\n",
       "4. 15\n",
       "5. 17\n",
       "6. 18\n",
       "\n",
       "\n"
      ],
      "text/plain": [
       "[1]  4 10 13 15 17 18"
      ]
     },
     "metadata": {},
     "output_type": "display_data"
    }
   ],
   "source": [
    "head(which(is.na(data$x_num)))"
   ]
  },
  {
   "cell_type": "markdown",
   "metadata": {},
   "source": [
    "Our first column has missing values at the positions 4, 5, 14, 17, 22, 23 and so forth.\n",
    "\n",
    " \n",
    "### if & if else\n",
    "\n",
    "Missing values have to be considered in our programming routines, e.g. within the if statement or within for loops.\n",
    "\n",
    "In the following example, I’m printing “Damn, it’s NA” to the R Studio console whenever a missing occurs; and “Wow, that’s awesome” in case of an observed value."
   ]
  },
  {
   "cell_type": "code",
   "execution_count": 186,
   "metadata": {},
   "outputs": [
    {
     "name": "stdout",
     "output_type": "stream",
     "text": [
      "[1] \"Wow, that's awesome\"\n",
      "[1] \"Wow, that's awesome\"\n",
      "[1] \"Wow, that's awesome\"\n",
      "[1] \"Damn, it's NA\"\n",
      "[1] \"Wow, that's awesome\"\n",
      "[1] \"Wow, that's awesome\"\n",
      "[1] \"Wow, that's awesome\"\n",
      "[1] \"Wow, that's awesome\"\n",
      "[1] \"Wow, that's awesome\"\n",
      "[1] \"Damn, it's NA\"\n"
     ]
    }
   ],
   "source": [
    "\n",
    "for(i in 1:10) {\n",
    "  if(is.na(data$x_num[i])) {\n",
    "    print(\"Damn, it's NA\")\n",
    "  }\n",
    "  else {\n",
    "    print(\"Wow, that's awesome\")\n",
    "  }\n",
    "}"
   ]
  },
  {
   "cell_type": "markdown",
   "metadata": {},
   "source": [
    "Note: Within the if statement we use is na instead of equal to — the approach we would usually use in case of observed values (e.g. if(x[i] == 5)).\n",
    "\n",
    "Even easier to apply: the ifelse function."
   ]
  },
  {
   "cell_type": "code",
   "execution_count": 187,
   "metadata": {},
   "outputs": [
    {
     "data": {
      "text/html": [
       "<style>\n",
       ".list-inline {list-style: none; margin:0; padding: 0}\n",
       ".list-inline>li {display: inline-block}\n",
       ".list-inline>li:not(:last-child)::after {content: \"\\00b7\"; padding: 0 .5ex}\n",
       "</style>\n",
       "<ol class=list-inline><li>'Wow, that\\'s awesome'</li><li>'Wow, that\\'s awesome'</li><li>'Wow, that\\'s awesome'</li><li>'Damn, it\\'s NA'</li><li>'Wow, that\\'s awesome'</li><li>'Wow, that\\'s awesome'</li></ol>\n"
      ],
      "text/latex": [
       "\\begin{enumerate*}\n",
       "\\item 'Wow, that\\textbackslash{}'s awesome'\n",
       "\\item 'Wow, that\\textbackslash{}'s awesome'\n",
       "\\item 'Wow, that\\textbackslash{}'s awesome'\n",
       "\\item 'Damn, it\\textbackslash{}'s NA'\n",
       "\\item 'Wow, that\\textbackslash{}'s awesome'\n",
       "\\item 'Wow, that\\textbackslash{}'s awesome'\n",
       "\\end{enumerate*}\n"
      ],
      "text/markdown": [
       "1. 'Wow, that\\'s awesome'\n",
       "2. 'Wow, that\\'s awesome'\n",
       "3. 'Wow, that\\'s awesome'\n",
       "4. 'Damn, it\\'s NA'\n",
       "5. 'Wow, that\\'s awesome'\n",
       "6. 'Wow, that\\'s awesome'\n",
       "\n",
       "\n"
      ],
      "text/plain": [
       "[1] \"Wow, that's awesome\" \"Wow, that's awesome\" \"Wow, that's awesome\"\n",
       "[4] \"Damn, it's NA\"       \"Wow, that's awesome\" \"Wow, that's awesome\""
      ]
     },
     "metadata": {},
     "output_type": "display_data"
    }
   ],
   "source": [
    "\n",
    "head(ifelse(is.na(data$x_num), \"Damn, it's NA\", \"Wow, that's awesome\"))"
   ]
  },
  {
   "cell_type": "markdown",
   "metadata": {},
   "source": [
    "There are a few handy functions in the `Tmisc` package for summarizing missingness in a data frame. You can graphically display missingness in a data frame as holes on a black canvas with `gg_na()` (use ggplot2 to plot NA values), or show a table of all the variables and the missingness level with propmiss()."
   ]
  },
  {
   "cell_type": "code",
   "execution_count": 188,
   "metadata": {},
   "outputs": [
    {
     "name": "stderr",
     "output_type": "stream",
     "text": [
      "Warning message:\n",
      "\"package 'Tmisc' is in use and will not be installed\"\n",
      "Warning message:\n",
      "\"'propmiss' is deprecated.\n",
      "Use 'Use summarize(across(everything(), ~sum(is.na(.))/n())' instead.\n",
      "See help(\"Deprecated\")\"\n"
     ]
    },
    {
     "data": {
      "text/html": [
       "<table>\n",
       "<caption>A tibble: 3 × 4</caption>\n",
       "<thead>\n",
       "\t<tr><th scope=col>var</th><th scope=col>nmiss</th><th scope=col>n</th><th scope=col>propmiss</th></tr>\n",
       "\t<tr><th scope=col>&lt;chr&gt;</th><th scope=col>&lt;dbl&gt;</th><th scope=col>&lt;dbl&gt;</th><th scope=col>&lt;dbl&gt;</th></tr>\n",
       "</thead>\n",
       "<tbody>\n",
       "\t<tr><td>x_num</td><td>201</td><td>1000</td><td>0.201</td></tr>\n",
       "\t<tr><td>x_fac</td><td>305</td><td>1000</td><td>0.305</td></tr>\n",
       "\t<tr><td>x_cha</td><td> 54</td><td>1000</td><td>0.054</td></tr>\n",
       "</tbody>\n",
       "</table>\n"
      ],
      "text/latex": [
       "A tibble: 3 × 4\n",
       "\\begin{tabular}{llll}\n",
       " var & nmiss & n & propmiss\\\\\n",
       " <chr> & <dbl> & <dbl> & <dbl>\\\\\n",
       "\\hline\n",
       "\t x\\_num & 201 & 1000 & 0.201\\\\\n",
       "\t x\\_fac & 305 & 1000 & 0.305\\\\\n",
       "\t x\\_cha &  54 & 1000 & 0.054\\\\\n",
       "\\end{tabular}\n"
      ],
      "text/markdown": [
       "\n",
       "A tibble: 3 × 4\n",
       "\n",
       "| var &lt;chr&gt; | nmiss &lt;dbl&gt; | n &lt;dbl&gt; | propmiss &lt;dbl&gt; |\n",
       "|---|---|---|---|\n",
       "| x_num | 201 | 1000 | 0.201 |\n",
       "| x_fac | 305 | 1000 | 0.305 |\n",
       "| x_cha |  54 | 1000 | 0.054 |\n",
       "\n"
      ],
      "text/plain": [
       "  var   nmiss n    propmiss\n",
       "1 x_num 201   1000 0.201   \n",
       "2 x_fac 305   1000 0.305   \n",
       "3 x_cha  54   1000 0.054   "
      ]
     },
     "metadata": {},
     "output_type": "display_data"
    },
    {
     "data": {
      "image/png": "[encoded data removed]",
      "text/plain": [
       "plot without title"
      ]
     },
     "metadata": {
      "image/png": {
       "height": 420,
       "width": 420
      }
     },
     "output_type": "display_data"
    }
   ],
   "source": [
    "# Install if you don't have it already\n",
    " install.packages(\"Tmisc\")\n",
    "\n",
    "# Load Tmisc\n",
    "library(Tmisc)\n",
    "gg_na(data)\n",
    "\n",
    "\n",
    "propmiss(data)"
   ]
  },
  {
   "cell_type": "markdown",
   "metadata": {},
   "source": [
    "\\begin{exercise}\n",
    "Apply the above functions to other column of the dataset\n",
    "\\end{exercise}\n",
    "\n"
   ]
  },
  {
   "cell_type": "markdown",
   "metadata": {},
   "source": [
    "**ANSWER**"
   ]
  },
  {
   "cell_type": "code",
   "execution_count": 189,
   "metadata": {},
   "outputs": [
    {
     "name": "stderr",
     "output_type": "stream",
     "text": [
      "Warning message:\n",
      "\"'propmiss' is deprecated.\n",
      "Use 'Use summarize(across(everything(), ~sum(is.na(.))/n())' instead.\n",
      "See help(\"Deprecated\")\"\n"
     ]
    },
    {
     "data": {
      "text/html": [
       "<table>\n",
       "<caption>A tibble: 32 × 4</caption>\n",
       "<thead>\n",
       "\t<tr><th scope=col>var</th><th scope=col>nmiss</th><th scope=col>n</th><th scope=col>propmiss</th></tr>\n",
       "\t<tr><th scope=col>&lt;chr&gt;</th><th scope=col>&lt;dbl&gt;</th><th scope=col>&lt;dbl&gt;</th><th scope=col>&lt;dbl&gt;</th></tr>\n",
       "</thead>\n",
       "<tbody>\n",
       "\t<tr><td>ο.Ώid             </td><td>   0</td><td>5000</td><td>0.0000</td></tr>\n",
       "\t<tr><td>Gender            </td><td>   0</td><td>5000</td><td>0.0000</td></tr>\n",
       "\t<tr><td>Age               </td><td>   0</td><td>5000</td><td>0.0000</td></tr>\n",
       "\t<tr><td>Race              </td><td>   0</td><td>5000</td><td>0.0000</td></tr>\n",
       "\t<tr><td>Education         </td><td>1416</td><td>5000</td><td>0.2832</td></tr>\n",
       "\t<tr><td>MaritalStatus     </td><td>1415</td><td>5000</td><td>0.2830</td></tr>\n",
       "\t<tr><td>RelationshipStatus</td><td>1415</td><td>5000</td><td>0.2830</td></tr>\n",
       "\t<tr><td>Insured           </td><td>   7</td><td>5000</td><td>0.0014</td></tr>\n",
       "\t<tr><td>Income            </td><td> 377</td><td>5000</td><td>0.0754</td></tr>\n",
       "\t<tr><td>Poverty           </td><td> 325</td><td>5000</td><td>0.0650</td></tr>\n",
       "\t<tr><td>HomeRooms         </td><td>  28</td><td>5000</td><td>0.0056</td></tr>\n",
       "\t<tr><td>HomeOwn           </td><td>  28</td><td>5000</td><td>0.0056</td></tr>\n",
       "\t<tr><td>Work              </td><td>1158</td><td>5000</td><td>0.2316</td></tr>\n",
       "\t<tr><td>Weight            </td><td>  31</td><td>5000</td><td>0.0062</td></tr>\n",
       "\t<tr><td>Height            </td><td> 159</td><td>5000</td><td>0.0318</td></tr>\n",
       "\t<tr><td>BMI               </td><td> 166</td><td>5000</td><td>0.0332</td></tr>\n",
       "\t<tr><td>Pulse             </td><td> 718</td><td>5000</td><td>0.1436</td></tr>\n",
       "\t<tr><td>BPSys             </td><td> 719</td><td>5000</td><td>0.1438</td></tr>\n",
       "\t<tr><td>BPDia             </td><td> 719</td><td>5000</td><td>0.1438</td></tr>\n",
       "\t<tr><td>Testosterone      </td><td> 874</td><td>5000</td><td>0.1748</td></tr>\n",
       "\t<tr><td>HDLChol           </td><td> 775</td><td>5000</td><td>0.1550</td></tr>\n",
       "\t<tr><td>TotChol           </td><td> 775</td><td>5000</td><td>0.1550</td></tr>\n",
       "\t<tr><td>Diabetes          </td><td>  64</td><td>5000</td><td>0.0128</td></tr>\n",
       "\t<tr><td>DiabetesAge       </td><td>4693</td><td>5000</td><td>0.9386</td></tr>\n",
       "\t<tr><td>nPregnancies      </td><td>3735</td><td>5000</td><td>0.7470</td></tr>\n",
       "\t<tr><td>nBabies           </td><td>3832</td><td>5000</td><td>0.7664</td></tr>\n",
       "\t<tr><td>SleepHrsNight     </td><td>1166</td><td>5000</td><td>0.2332</td></tr>\n",
       "\t<tr><td>PhysActive        </td><td> 850</td><td>5000</td><td>0.1700</td></tr>\n",
       "\t<tr><td>PhysActiveDays    </td><td>2614</td><td>5000</td><td>0.5228</td></tr>\n",
       "\t<tr><td>AlcoholDay        </td><td>2503</td><td>5000</td><td>0.5006</td></tr>\n",
       "\t<tr><td>AlcoholYear       </td><td>2016</td><td>5000</td><td>0.4032</td></tr>\n",
       "\t<tr><td>SmokingStatus     </td><td>1413</td><td>5000</td><td>0.2826</td></tr>\n",
       "</tbody>\n",
       "</table>\n"
      ],
      "text/latex": [
       "A tibble: 32 × 4\n",
       "\\begin{tabular}{llll}\n",
       " var & nmiss & n & propmiss\\\\\n",
       " <chr> & <dbl> & <dbl> & <dbl>\\\\\n",
       "\\hline\n",
       "\t ο.Ώid              &    0 & 5000 & 0.0000\\\\\n",
       "\t Gender             &    0 & 5000 & 0.0000\\\\\n",
       "\t Age                &    0 & 5000 & 0.0000\\\\\n",
       "\t Race               &    0 & 5000 & 0.0000\\\\\n",
       "\t Education          & 1416 & 5000 & 0.2832\\\\\n",
       "\t MaritalStatus      & 1415 & 5000 & 0.2830\\\\\n",
       "\t RelationshipStatus & 1415 & 5000 & 0.2830\\\\\n",
       "\t Insured            &    7 & 5000 & 0.0014\\\\\n",
       "\t Income             &  377 & 5000 & 0.0754\\\\\n",
       "\t Poverty            &  325 & 5000 & 0.0650\\\\\n",
       "\t HomeRooms          &   28 & 5000 & 0.0056\\\\\n",
       "\t HomeOwn            &   28 & 5000 & 0.0056\\\\\n",
       "\t Work               & 1158 & 5000 & 0.2316\\\\\n",
       "\t Weight             &   31 & 5000 & 0.0062\\\\\n",
       "\t Height             &  159 & 5000 & 0.0318\\\\\n",
       "\t BMI                &  166 & 5000 & 0.0332\\\\\n",
       "\t Pulse              &  718 & 5000 & 0.1436\\\\\n",
       "\t BPSys              &  719 & 5000 & 0.1438\\\\\n",
       "\t BPDia              &  719 & 5000 & 0.1438\\\\\n",
       "\t Testosterone       &  874 & 5000 & 0.1748\\\\\n",
       "\t HDLChol            &  775 & 5000 & 0.1550\\\\\n",
       "\t TotChol            &  775 & 5000 & 0.1550\\\\\n",
       "\t Diabetes           &   64 & 5000 & 0.0128\\\\\n",
       "\t DiabetesAge        & 4693 & 5000 & 0.9386\\\\\n",
       "\t nPregnancies       & 3735 & 5000 & 0.7470\\\\\n",
       "\t nBabies            & 3832 & 5000 & 0.7664\\\\\n",
       "\t SleepHrsNight      & 1166 & 5000 & 0.2332\\\\\n",
       "\t PhysActive         &  850 & 5000 & 0.1700\\\\\n",
       "\t PhysActiveDays     & 2614 & 5000 & 0.5228\\\\\n",
       "\t AlcoholDay         & 2503 & 5000 & 0.5006\\\\\n",
       "\t AlcoholYear        & 2016 & 5000 & 0.4032\\\\\n",
       "\t SmokingStatus      & 1413 & 5000 & 0.2826\\\\\n",
       "\\end{tabular}\n"
      ],
      "text/markdown": [
       "\n",
       "A tibble: 32 × 4\n",
       "\n",
       "| var &lt;chr&gt; | nmiss &lt;dbl&gt; | n &lt;dbl&gt; | propmiss &lt;dbl&gt; |\n",
       "|---|---|---|---|\n",
       "| ο.Ώid              |    0 | 5000 | 0.0000 |\n",
       "| Gender             |    0 | 5000 | 0.0000 |\n",
       "| Age                |    0 | 5000 | 0.0000 |\n",
       "| Race               |    0 | 5000 | 0.0000 |\n",
       "| Education          | 1416 | 5000 | 0.2832 |\n",
       "| MaritalStatus      | 1415 | 5000 | 0.2830 |\n",
       "| RelationshipStatus | 1415 | 5000 | 0.2830 |\n",
       "| Insured            |    7 | 5000 | 0.0014 |\n",
       "| Income             |  377 | 5000 | 0.0754 |\n",
       "| Poverty            |  325 | 5000 | 0.0650 |\n",
       "| HomeRooms          |   28 | 5000 | 0.0056 |\n",
       "| HomeOwn            |   28 | 5000 | 0.0056 |\n",
       "| Work               | 1158 | 5000 | 0.2316 |\n",
       "| Weight             |   31 | 5000 | 0.0062 |\n",
       "| Height             |  159 | 5000 | 0.0318 |\n",
       "| BMI                |  166 | 5000 | 0.0332 |\n",
       "| Pulse              |  718 | 5000 | 0.1436 |\n",
       "| BPSys              |  719 | 5000 | 0.1438 |\n",
       "| BPDia              |  719 | 5000 | 0.1438 |\n",
       "| Testosterone       |  874 | 5000 | 0.1748 |\n",
       "| HDLChol            |  775 | 5000 | 0.1550 |\n",
       "| TotChol            |  775 | 5000 | 0.1550 |\n",
       "| Diabetes           |   64 | 5000 | 0.0128 |\n",
       "| DiabetesAge        | 4693 | 5000 | 0.9386 |\n",
       "| nPregnancies       | 3735 | 5000 | 0.7470 |\n",
       "| nBabies            | 3832 | 5000 | 0.7664 |\n",
       "| SleepHrsNight      | 1166 | 5000 | 0.2332 |\n",
       "| PhysActive         |  850 | 5000 | 0.1700 |\n",
       "| PhysActiveDays     | 2614 | 5000 | 0.5228 |\n",
       "| AlcoholDay         | 2503 | 5000 | 0.5006 |\n",
       "| AlcoholYear        | 2016 | 5000 | 0.4032 |\n",
       "| SmokingStatus      | 1413 | 5000 | 0.2826 |\n",
       "\n"
      ],
      "text/plain": [
       "   var                nmiss n    propmiss\n",
       "1  ο.Ώid                 0  5000 0.0000  \n",
       "2  Gender                0  5000 0.0000  \n",
       "3  Age                   0  5000 0.0000  \n",
       "4  Race                  0  5000 0.0000  \n",
       "5  Education          1416  5000 0.2832  \n",
       "6  MaritalStatus      1415  5000 0.2830  \n",
       "7  RelationshipStatus 1415  5000 0.2830  \n",
       "8  Insured               7  5000 0.0014  \n",
       "9  Income              377  5000 0.0754  \n",
       "10 Poverty             325  5000 0.0650  \n",
       "11 HomeRooms            28  5000 0.0056  \n",
       "12 HomeOwn              28  5000 0.0056  \n",
       "13 Work               1158  5000 0.2316  \n",
       "14 Weight               31  5000 0.0062  \n",
       "15 Height              159  5000 0.0318  \n",
       "16 BMI                 166  5000 0.0332  \n",
       "17 Pulse               718  5000 0.1436  \n",
       "18 BPSys               719  5000 0.1438  \n",
       "19 BPDia               719  5000 0.1438  \n",
       "20 Testosterone        874  5000 0.1748  \n",
       "21 HDLChol             775  5000 0.1550  \n",
       "22 TotChol             775  5000 0.1550  \n",
       "23 Diabetes             64  5000 0.0128  \n",
       "24 DiabetesAge        4693  5000 0.9386  \n",
       "25 nPregnancies       3735  5000 0.7470  \n",
       "26 nBabies            3832  5000 0.7664  \n",
       "27 SleepHrsNight      1166  5000 0.2332  \n",
       "28 PhysActive          850  5000 0.1700  \n",
       "29 PhysActiveDays     2614  5000 0.5228  \n",
       "30 AlcoholDay         2503  5000 0.5006  \n",
       "31 AlcoholYear        2016  5000 0.4032  \n",
       "32 SmokingStatus      1413  5000 0.2826  "
      ]
     },
     "metadata": {},
     "output_type": "display_data"
    },
    {
     "data": {
      "image/png": "[encoded data removed]",
      "text/plain": [
       "plot without title"
      ]
     },
     "metadata": {
      "image/png": {
       "height": 420,
       "width": 420
      }
     },
     "output_type": "display_data"
    }
   ],
   "source": [
    "gg_na(nh)\n",
    "propmiss(nh)"
   ]
  },
  {
   "cell_type": "markdown",
   "metadata": {},
   "source": [
    "# Part II: Explatory Data Analysis (EDA)\n",
    "\n",
    "It’s always worth examining your data visually before you start any statistical analysis or hypothesis testing.  The big ones are histograms and scatterplots.\n",
    "\n",
    "## Histograms\n",
    "We can learn a lot from the data just looking at the value distributions of particular variables. Let’s make some histograms with ggplot2. Looking at BMI shows a few extreme outliers. Looking at weight initially shows us that the units are probably in kg. Replotting that in lbs with more bins shows a clear bimodal distribution. Are there kids in this data? The age distribution shows us the answer is yes."
   ]
  },
  {
   "cell_type": "code",
   "execution_count": 190,
   "metadata": {},
   "outputs": [
    {
     "name": "stderr",
     "output_type": "stream",
     "text": [
      "Warning message:\n",
      "\"Removed 166 rows containing non-finite values (stat_bin).\"\n",
      "Warning message:\n",
      "\"Removed 31 rows containing non-finite values (stat_bin).\"\n"
     ]
    },
    {
     "data": {
      "image/png": "[encoded data removed]",
      "text/plain": [
       "plot without title"
      ]
     },
     "metadata": {
      "image/png": {
       "height": 420,
       "width": 420
      }
     },
     "output_type": "display_data"
    },
    {
     "name": "stderr",
     "output_type": "stream",
     "text": [
      "Warning message:\n",
      "\"Removed 31 rows containing non-finite values (stat_bin).\"\n"
     ]
    },
    {
     "data": {
      "image/png": "[encoded data removed]",
      "text/plain": [
       "plot without title"
      ]
     },
     "metadata": {
      "image/png": {
       "height": 420,
       "width": 420
      }
     },
     "output_type": "display_data"
    },
    {
     "data": {
      "image/png": "[encoded data removed]",
      "text/plain": [
       "plot without title"
      ]
     },
     "metadata": {
      "image/png": {
       "height": 420,
       "width": 420
      }
     },
     "output_type": "display_data"
    },
    {
     "data": {
      "image/png": "[encoded data removed]",
      "text/plain": [
       "plot without title"
      ]
     },
     "metadata": {
      "image/png": {
       "height": 420,
       "width": 420
      }
     },
     "output_type": "display_data"
    }
   ],
   "source": [
    "library(ggplot2)\n",
    "ggplot(nh, aes(BMI)) + geom_histogram(bins=30)\n",
    "\n",
    "\n",
    "ggplot(nh, aes(Weight)) + geom_histogram(bins=30)\n",
    "\n",
    "# In pounds, more bins\n",
    "ggplot(nh, aes(Weight*2.2)) + geom_histogram(bins=80)\n",
    "\n",
    "\n",
    "ggplot(nh, aes(Age)) + geom_histogram(bins=30)"
   ]
  },
  {
   "cell_type": "markdown",
   "metadata": {},
   "source": [
    "## Scatterplots\n",
    "Let’s look at how a few different variables relate to each other. E.g., height and weight:"
   ]
  },
  {
   "cell_type": "code",
   "execution_count": 191,
   "metadata": {},
   "outputs": [
    {
     "name": "stderr",
     "output_type": "stream",
     "text": [
      "Warning message:\n",
      "\"Removed 166 rows containing missing values (geom_point).\"\n"
     ]
    },
    {
     "data": {
      "image/png": "[encoded data removed]",
      "text/plain": [
       "plot without title"
      ]
     },
     "metadata": {
      "image/png": {
       "height": 420,
       "width": 420
      }
     },
     "output_type": "display_data"
    }
   ],
   "source": [
    "ggplot(nh, aes(Height, Weight, col=Gender)) + geom_point()"
   ]
  },
  {
   "cell_type": "markdown",
   "metadata": {},
   "source": [
    "Let’s filter out all the kids, draw trend lines using a linear model:"
   ]
  },
  {
   "cell_type": "code",
   "execution_count": 192,
   "metadata": {},
   "outputs": [
    {
     "name": "stderr",
     "output_type": "stream",
     "text": [
      "`geom_smooth()` using formula 'y ~ x'\n",
      "\n",
      "Warning message:\n",
      "\"Removed 31 rows containing non-finite values (stat_smooth).\"\n",
      "Warning message:\n",
      "\"Removed 31 rows containing missing values (geom_point).\"\n"
     ]
    },
    {
     "data": {
      "image/png": "[encoded data removed]",
      "text/plain": [
       "plot without title"
      ]
     },
     "metadata": {
      "image/png": {
       "height": 420,
       "width": 420
      }
     },
     "output_type": "display_data"
    }
   ],
   "source": [
    "\n",
    "nh %>% \n",
    "  filter(Age>=18) %>% \n",
    "  ggplot(aes(Height, Weight, col=Gender)) + \n",
    "    geom_point() + \n",
    "    geom_smooth(method=\"lm\")\n",
    " "
   ]
  },
  {
   "cell_type": "markdown",
   "metadata": {},
   "source": [
    "\\begin{exercise}\n",
    "a) Make some histograms with ggplot2 of 2 variables. \n",
    "b) Look at BMI and indicate whether there outliers. \n",
    "c) Look at weight. What their distribution looks like? \n",
    "d) Check the age distribution. Are there kids in this data? Explain\n",
    "\n",
    "\\end{exercise}\n",
    "\n",
    "\n",
    "\n",
    "\n",
    "\\begin{exercise}\n",
    "1. What’s the mean 60-second pulse rate for all participants in the data?\n",
    "\n",
    "2. What’s the range of values for diastolic blood pressure in all participants? (Hint: see help for min(), max(), and range() functions, e.g., enter ?range without the parentheses to get help).\n",
    "\n",
    "3. What are the median, lower, and upper quartiles for the age of all participants? (Hint: see help for median, or better yet, quantile).\n",
    "\n",
    "4. What’s the variance and standard deviation for income among all participants?\n",
    "\\end{exercise}"
   ]
  },
  {
   "cell_type": "markdown",
   "metadata": {},
   "source": [
    "**ANSWER**"
   ]
  },
  {
   "cell_type": "code",
   "execution_count": 193,
   "metadata": {},
   "outputs": [
    {
     "name": "stderr",
     "output_type": "stream",
     "text": [
      "Warning message:\n",
      "\"Removed 31 rows containing non-finite values (stat_bin).\"\n",
      "Warning message:\n",
      "\"Removed 166 rows containing non-finite values (stat_bin).\"\n"
     ]
    },
    {
     "data": {
      "image/png": "[encoded data removed]",
      "text/plain": [
       "plot without title"
      ]
     },
     "metadata": {
      "image/png": {
       "height": 420,
       "width": 420
      }
     },
     "output_type": "display_data"
    },
    {
     "name": "stderr",
     "output_type": "stream",
     "text": [
      "Warning message:\n",
      "\"Removed 166 rows containing non-finite values (stat_bin).\"\n"
     ]
    },
    {
     "data": {
      "image/png": "[encoded data removed]",
      "text/plain": [
       "plot without title"
      ]
     },
     "metadata": {
      "image/png": {
       "height": 420,
       "width": 420
      }
     },
     "output_type": "display_data"
    },
    {
     "name": "stderr",
     "output_type": "stream",
     "text": [
      "Warning message:\n",
      "\"Removed 31 rows containing non-finite values (stat_bin).\"\n"
     ]
    },
    {
     "data": {
      "image/png": "[encoded data removed]",
      "text/plain": [
       "plot without title"
      ]
     },
     "metadata": {
      "image/png": {
       "height": 420,
       "width": 420
      }
     },
     "output_type": "display_data"
    },
    {
     "name": "stderr",
     "output_type": "stream",
     "text": [
      "Warning message:\n",
      "\"Removed 31 rows containing non-finite values (stat_bin).\"\n"
     ]
    },
    {
     "data": {
      "image/png": "[encoded data removed]",
      "text/plain": [
       "plot without title"
      ]
     },
     "metadata": {
      "image/png": {
       "height": 420,
       "width": 420
      }
     },
     "output_type": "display_data"
    },
    {
     "data": {
      "image/png": "[encoded data removed]",
      "text/plain": [
       "plot without title"
      ]
     },
     "metadata": {
      "image/png": {
       "height": 420,
       "width": 420
      }
     },
     "output_type": "display_data"
    },
    {
     "data": {
      "image/png": "[encoded data removed]",
      "text/plain": [
       "plot without title"
      ]
     },
     "metadata": {
      "image/png": {
       "height": 420,
       "width": 420
      }
     },
     "output_type": "display_data"
    }
   ],
   "source": [
    "#exercise\n",
    "\n",
    "#a)\n",
    "ggplot(nh, aes(Weight)) + geom_histogram(bins=30)\n",
    "\n",
    "ggplot(nh, aes(BMI)) + geom_histogram(bins=30)\n",
    "\n",
    "#b)\n",
    "ggplot(nh, aes(BMI)) + geom_histogram(bins=30)\n",
    "\n",
    "#By observing the BMI histogram there are a few outliers.\n",
    "\n",
    "#c)\n",
    "ggplot(nh, aes(Weight)) + geom_histogram(bins=30)\n",
    "#By observing the Weight histogram the weight is most likely measured in kilograms \n",
    "\n",
    "# In pounds, more bins\n",
    "ggplot(nh, aes(Weight*2.2)) + geom_histogram(bins=80)\n",
    "#By adding more bins and by changing the measure of the units to pounds I can see that Weight has a binomial distribution. \n",
    "#d)\n",
    "\n",
    "ggplot(nh, aes(Age)) + geom_histogram(bins=30)\n",
    "#from the age histogram there are definetely kids in this data."
   ]
  },
  {
   "cell_type": "markdown",
   "metadata": {},
   "source": [
    "**ANSWER**"
   ]
  },
  {
   "cell_type": "code",
   "execution_count": 194,
   "metadata": {},
   "outputs": [
    {
     "data": {
      "text/html": [
       "73.633815973844"
      ],
      "text/latex": [
       "73.633815973844"
      ],
      "text/markdown": [
       "73.633815973844"
      ],
      "text/plain": [
       "[1] 73.63382"
      ]
     },
     "metadata": {},
     "output_type": "display_data"
    },
    {
     "data": {
      "text/html": [
       "<style>\n",
       ".list-inline {list-style: none; margin:0; padding: 0}\n",
       ".list-inline>li {display: inline-block}\n",
       ".list-inline>li:not(:last-child)::after {content: \"\\00b7\"; padding: 0 .5ex}\n",
       "</style>\n",
       "<ol class=list-inline><li>0</li><li>116</li></ol>\n"
      ],
      "text/latex": [
       "\\begin{enumerate*}\n",
       "\\item 0\n",
       "\\item 116\n",
       "\\end{enumerate*}\n"
      ],
      "text/markdown": [
       "1. 0\n",
       "2. 116\n",
       "\n",
       "\n"
      ],
      "text/plain": [
       "[1]   0 116"
      ]
     },
     "metadata": {},
     "output_type": "display_data"
    },
    {
     "data": {
      "text/html": [
       "<style>\n",
       ".dl-inline {width: auto; margin:0; padding: 0}\n",
       ".dl-inline>dt, .dl-inline>dd {float: none; width: auto; display: inline-block}\n",
       ".dl-inline>dt::after {content: \":\\0020\"; padding-right: .5ex}\n",
       ".dl-inline>dt:not(:first-of-type) {padding-left: .5ex}\n",
       "</style><dl class=dl-inline><dt>0%</dt><dd>0</dd><dt>25%</dt><dd>17</dd><dt>50%</dt><dd>36</dd><dt>75%</dt><dd>54</dd><dt>100%</dt><dd>80</dd></dl>\n"
      ],
      "text/latex": [
       "\\begin{description*}\n",
       "\\item[0\\textbackslash{}\\%] 0\n",
       "\\item[25\\textbackslash{}\\%] 17\n",
       "\\item[50\\textbackslash{}\\%] 36\n",
       "\\item[75\\textbackslash{}\\%] 54\n",
       "\\item[100\\textbackslash{}\\%] 80\n",
       "\\end{description*}\n"
      ],
      "text/markdown": [
       "0%\n",
       ":   025%\n",
       ":   1750%\n",
       ":   3675%\n",
       ":   54100%\n",
       ":   80\n",
       "\n"
      ],
      "text/plain": [
       "  0%  25%  50%  75% 100% \n",
       "   0   17   36   54   80 "
      ]
     },
     "metadata": {},
     "output_type": "display_data"
    },
    {
     "data": {
      "text/html": [
       "1121564067.88888"
      ],
      "text/latex": [
       "1121564067.88888"
      ],
      "text/markdown": [
       "1121564067.88888"
      ],
      "text/plain": [
       "[1] 1121564068"
      ]
     },
     "metadata": {},
     "output_type": "display_data"
    },
    {
     "data": {
      "text/html": [
       "33489.7606424542"
      ],
      "text/latex": [
       "33489.7606424542"
      ],
      "text/markdown": [
       "33489.7606424542"
      ],
      "text/plain": [
       "[1] 33489.76"
      ]
     },
     "metadata": {},
     "output_type": "display_data"
    }
   ],
   "source": [
    "#exercise\n",
    "#1\n",
    "mean(nh$Pulse, na.rm=TRUE)\n",
    "\n",
    "#2\n",
    "range(nh$BPDia, na.rm=TRUE)\n",
    "\n",
    "#3\n",
    "quantile(nh$Age, na.rm=TRUE)\n",
    "\n",
    "#4\n",
    "var(nh$Income, na.rm=TRUE)\n",
    "sd(nh$Income, na.rm=TRUE)\n"
   ]
  },
  {
   "cell_type": "markdown",
   "metadata": {},
   "source": [
    "# Continuous variables\n",
    "## T-tests\n",
    "First let’s create a new dataset from nh called nha that only has adults. To prevent us from making any mistakes downstream, let’s remove the nh object."
   ]
  },
  {
   "cell_type": "code",
   "execution_count": 195,
   "metadata": {},
   "outputs": [],
   "source": [
    "\n",
    "nha <- filter(nh, Age>=18)\n",
    "rm(nh)"
   ]
  },
  {
   "cell_type": "markdown",
   "metadata": {},
   "source": [
    "Let’s do a few two-sample t-tests to test for differences in means between two groups. The function for a t-test is `t.test()`. See the help for `?t.test`. We’ll be using the formula method. The usage is `t.test(response~group, data=myDataFrame)`."
   ]
  },
  {
   "cell_type": "markdown",
   "metadata": {},
   "source": [
    "\\begin{exercise}\n",
    "1. Are there differences in age for males versus females in this dataset?\n",
    "\n",
    "2. Does BMI differ between diabetics and non-diabetics?\n",
    "\n",
    "3. Do single or married/cohabitating people drink more alcohol? Is this relationship significant?\n",
    "\n",
    "\\end{exercise}"
   ]
  },
  {
   "cell_type": "markdown",
   "metadata": {},
   "source": [
    "**ANSWER**"
   ]
  },
  {
   "cell_type": "code",
   "execution_count": 196,
   "metadata": {},
   "outputs": [
    {
     "data": {
      "text/plain": [
       "\n",
       "\tWelch Two Sample t-test\n",
       "\n",
       "data:  Age by Gender\n",
       "t = 1.9122, df = 3697.2, p-value = 0.05593\n",
       "alternative hypothesis: true difference in means is not equal to 0\n",
       "95 percent confidence interval:\n",
       " -0.02776814  2.22191122\n",
       "sample estimates:\n",
       "mean in group female   mean in group male \n",
       "            47.06412             45.96704 \n"
      ]
     },
     "metadata": {},
     "output_type": "display_data"
    },
    {
     "data": {
      "text/plain": [
       "\n",
       "\tWelch Two Sample t-test\n",
       "\n",
       "data:  BMI by Diabetes\n",
       "t = -11.379, df = 407.31, p-value < 2.2e-16\n",
       "alternative hypothesis: true difference in means is not equal to 0\n",
       "95 percent confidence interval:\n",
       " -5.563596 -3.924435\n",
       "sample estimates:\n",
       " mean in group No mean in group Yes \n",
       "         28.08753          32.83155 \n"
      ]
     },
     "metadata": {},
     "output_type": "display_data"
    },
    {
     "data": {
      "text/plain": [
       "\n",
       "\tWelch Two Sample t-test\n",
       "\n",
       "data:  AlcoholYear by RelationshipStatus\n",
       "t = 5.4315, df = 2674.8, p-value = 6.09e-08\n",
       "alternative hypothesis: true difference in means is not equal to 0\n",
       "95 percent confidence interval:\n",
       " 13.05949 27.81603\n",
       "sample estimates:\n",
       "mean in group Committed    mean in group Single \n",
       "               83.93416                63.49640 \n"
      ]
     },
     "metadata": {},
     "output_type": "display_data"
    }
   ],
   "source": [
    "#1.\n",
    "t.test(Age~Gender, data=nha)\n",
    "\n",
    "#2\n",
    "t.test(BMI~Diabetes, data=nha)\n",
    "\n",
    "#3\n",
    "t.test(AlcoholYear~RelationshipStatus, data=nha)"
   ]
  },
  {
   "cell_type": "markdown",
   "metadata": {},
   "source": [
    "## Wilcoxon test\n",
    "Another assumption of the t-test is that data is normally distributed. Looking at the histogram for AlcoholYear shows that this data clearly isn’t."
   ]
  },
  {
   "cell_type": "code",
   "execution_count": 197,
   "metadata": {},
   "outputs": [
    {
     "name": "stderr",
     "output_type": "stream",
     "text": [
      "`stat_bin()` using `bins = 30`. Pick better value with `binwidth`.\n",
      "\n",
      "Warning message:\n",
      "\"Removed 723 rows containing non-finite values (stat_bin).\"\n"
     ]
    },
    {
     "data": {
      "image/png": "[encoded data removed]",
      "text/plain": [
       "plot without title"
      ]
     },
     "metadata": {
      "image/png": {
       "height": 420,
       "width": 420
      }
     },
     "output_type": "display_data"
    }
   ],
   "source": [
    "ggplot(nha, aes(AlcoholYear)) + geom_histogram()"
   ]
  },
  {
   "cell_type": "markdown",
   "metadata": {},
   "source": [
    "The Wilcoxon rank-sum test (a.k.a. Mann-Whitney U test) is a nonparametric test of differences in mean that does not require normally distributed data. When data is perfectly normal, the t-test is uniformly more powerful. But when this assumption is violated, the t-test is unreliable. This test is called in a similar way as the t-test."
   ]
  },
  {
   "cell_type": "code",
   "execution_count": 198,
   "metadata": {},
   "outputs": [
    {
     "data": {
      "text/plain": [
       "\n",
       "\tWilcoxon rank sum test with continuity correction\n",
       "\n",
       "data:  AlcoholYear by RelationshipStatus\n",
       "W = 1067955, p-value = 0.0001659\n",
       "alternative hypothesis: true location shift is not equal to 0\n"
      ]
     },
     "metadata": {},
     "output_type": "display_data"
    }
   ],
   "source": [
    "wilcox.test(AlcoholYear~RelationshipStatus, data=nha)"
   ]
  },
  {
   "cell_type": "markdown",
   "metadata": {
    "run_control": {
     "marked": true
    }
   },
   "source": [
    "## ANOVA\n",
    "\n",
    "Where t-tests and their nonparametric substitutes are used for assessing the differences in means between two groups, ANOVA is used to assess the significance of differences in means between multiple groups. In fact, a t-test is just a specific case of ANOVA when you only have two groups. And both t-tests and ANOVA are just specific cases of linear regression, where you’re trying to fit a model describing how a continuous outcome (e.g., BMI) changes with some predictor variable (e.g., diabetic status, race, age, etc.). The distinction is largely semantic – with a linear model you’re asking, “do levels of a categorical variable affect the response?” where with ANOVA or t-tests you’re asking, “does the mean response differ between levels of a categorical variable?”\n",
    "\n",
    "Let’s examine the relationship between BMI and relationship status (RelationshipStatus was derived from MaritalStatus, coded as Committed if MaritalStatus is Married or LivePartner, and Single otherwise). Let’s first do this with a t-test, and for now, let’s assume that the variances between groups are equal."
   ]
  },
  {
   "cell_type": "code",
   "execution_count": 199,
   "metadata": {},
   "outputs": [
    {
     "data": {
      "text/plain": [
       "\n",
       "\tTwo Sample t-test\n",
       "\n",
       "data:  BMI by RelationshipStatus\n",
       "t = -1.5319, df = 3552, p-value = 0.1256\n",
       "alternative hypothesis: true difference in means is not equal to 0\n",
       "95 percent confidence interval:\n",
       " -0.77817842  0.09552936\n",
       "sample estimates:\n",
       "mean in group Committed    mean in group Single \n",
       "               28.51343                28.85475 \n"
      ]
     },
     "metadata": {},
     "output_type": "display_data"
    }
   ],
   "source": [
    "t.test(BMI~RelationshipStatus, data=nha, var.equal=TRUE)"
   ]
  },
  {
   "cell_type": "markdown",
   "metadata": {},
   "source": [
    "It looks like single people have a very slightly higher BMI than those in a committed relationship, but the magnitude of the difference is trivial, and the difference is not significant. Now, let’s do the same test in a linear modeling framework. First, let’s create the fitted model and store it in an object called fit."
   ]
  },
  {
   "cell_type": "code",
   "execution_count": 200,
   "metadata": {},
   "outputs": [],
   "source": [
    "fit <- lm(BMI~RelationshipStatus, data=nha)"
   ]
  },
  {
   "cell_type": "markdown",
   "metadata": {},
   "source": [
    "You can display the object itself, but that isn’t too interesting. You can get the more familiar ANOVA table by calling the anova() function on the fit object. More generally, the summary() function on a linear model object will tell you much more."
   ]
  },
  {
   "cell_type": "code",
   "execution_count": 201,
   "metadata": {},
   "outputs": [
    {
     "data": {
      "text/html": [
       "<table>\n",
       "<caption>A anova: 2 × 5</caption>\n",
       "<thead>\n",
       "\t<tr><th></th><th scope=col>Df</th><th scope=col>Sum Sq</th><th scope=col>Mean Sq</th><th scope=col>F value</th><th scope=col>Pr(&gt;F)</th></tr>\n",
       "\t<tr><th></th><th scope=col>&lt;int&gt;</th><th scope=col>&lt;dbl&gt;</th><th scope=col>&lt;dbl&gt;</th><th scope=col>&lt;dbl&gt;</th><th scope=col>&lt;dbl&gt;</th></tr>\n",
       "</thead>\n",
       "<tbody>\n",
       "\t<tr><th scope=row>RelationshipStatus</th><td>   1</td><td>    98.31983</td><td>98.31983</td><td>2.346685</td><td>0.1256388</td></tr>\n",
       "\t<tr><th scope=row>Residuals</th><td>3552</td><td>148819.30437</td><td>41.89733</td><td>      NA</td><td>       NA</td></tr>\n",
       "</tbody>\n",
       "</table>\n"
      ],
      "text/latex": [
       "A anova: 2 × 5\n",
       "\\begin{tabular}{r|lllll}\n",
       "  & Df & Sum Sq & Mean Sq & F value & Pr(>F)\\\\\n",
       "  & <int> & <dbl> & <dbl> & <dbl> & <dbl>\\\\\n",
       "\\hline\n",
       "\tRelationshipStatus &    1 &     98.31983 & 98.31983 & 2.346685 & 0.1256388\\\\\n",
       "\tResiduals & 3552 & 148819.30437 & 41.89733 &       NA &        NA\\\\\n",
       "\\end{tabular}\n"
      ],
      "text/markdown": [
       "\n",
       "A anova: 2 × 5\n",
       "\n",
       "| <!--/--> | Df &lt;int&gt; | Sum Sq &lt;dbl&gt; | Mean Sq &lt;dbl&gt; | F value &lt;dbl&gt; | Pr(&gt;F) &lt;dbl&gt; |\n",
       "|---|---|---|---|---|---|\n",
       "| RelationshipStatus |    1 |     98.31983 | 98.31983 | 2.346685 | 0.1256388 |\n",
       "| Residuals | 3552 | 148819.30437 | 41.89733 |       NA |        NA |\n",
       "\n"
      ],
      "text/plain": [
       "                   Df   Sum Sq       Mean Sq  F value  Pr(>F)   \n",
       "RelationshipStatus    1     98.31983 98.31983 2.346685 0.1256388\n",
       "Residuals          3552 148819.30437 41.89733       NA        NA"
      ]
     },
     "metadata": {},
     "output_type": "display_data"
    }
   ],
   "source": [
    "anova(fit)"
   ]
  },
  {
   "cell_type": "markdown",
   "metadata": {},
   "source": [
    "### ANOVA\n",
    "Recap: t-tests are for assessing the differences in means between two groups. A t-test is a specific case of ANOVA, which is a specific case of a linear model. Let’s run ANOVA, but this time looking for differences in means between more than two groups.\n",
    "\n",
    "Let’s look at the relationship between smoking status (Never, Former, or Current), and BMI."
   ]
  },
  {
   "cell_type": "code",
   "execution_count": 202,
   "metadata": {},
   "outputs": [
    {
     "data": {
      "text/html": [
       "<table>\n",
       "<caption>A anova: 2 × 5</caption>\n",
       "<thead>\n",
       "\t<tr><th></th><th scope=col>Df</th><th scope=col>Sum Sq</th><th scope=col>Mean Sq</th><th scope=col>F value</th><th scope=col>Pr(&gt;F)</th></tr>\n",
       "\t<tr><th></th><th scope=col>&lt;int&gt;</th><th scope=col>&lt;dbl&gt;</th><th scope=col>&lt;dbl&gt;</th><th scope=col>&lt;dbl&gt;</th><th scope=col>&lt;dbl&gt;</th></tr>\n",
       "</thead>\n",
       "<tbody>\n",
       "\t<tr><th scope=row>SmokingStatus</th><td>   2</td><td>  1411.01</td><td>705.50494</td><td>16.98847</td><td>4.539974e-08</td></tr>\n",
       "\t<tr><th scope=row>Residuals</th><td>3553</td><td>147550.57</td><td> 41.52845</td><td>      NA</td><td>          NA</td></tr>\n",
       "</tbody>\n",
       "</table>\n"
      ],
      "text/latex": [
       "A anova: 2 × 5\n",
       "\\begin{tabular}{r|lllll}\n",
       "  & Df & Sum Sq & Mean Sq & F value & Pr(>F)\\\\\n",
       "  & <int> & <dbl> & <dbl> & <dbl> & <dbl>\\\\\n",
       "\\hline\n",
       "\tSmokingStatus &    2 &   1411.01 & 705.50494 & 16.98847 & 4.539974e-08\\\\\n",
       "\tResiduals & 3553 & 147550.57 &  41.52845 &       NA &           NA\\\\\n",
       "\\end{tabular}\n"
      ],
      "text/markdown": [
       "\n",
       "A anova: 2 × 5\n",
       "\n",
       "| <!--/--> | Df &lt;int&gt; | Sum Sq &lt;dbl&gt; | Mean Sq &lt;dbl&gt; | F value &lt;dbl&gt; | Pr(&gt;F) &lt;dbl&gt; |\n",
       "|---|---|---|---|---|---|\n",
       "| SmokingStatus |    2 |   1411.01 | 705.50494 | 16.98847 | 4.539974e-08 |\n",
       "| Residuals | 3553 | 147550.57 |  41.52845 |       NA |           NA |\n",
       "\n"
      ],
      "text/plain": [
       "              Df   Sum Sq    Mean Sq   F value  Pr(>F)      \n",
       "SmokingStatus    2   1411.01 705.50494 16.98847 4.539974e-08\n",
       "Residuals     3553 147550.57  41.52845       NA           NA"
      ]
     },
     "metadata": {},
     "output_type": "display_data"
    }
   ],
   "source": [
    "fit <- lm(BMI~SmokingStatus, data=nha)\n",
    "anova(fit)"
   ]
  },
  {
   "cell_type": "markdown",
   "metadata": {},
   "source": [
    "The ANOVA table tells us that there is a significant difference in means between current, former, and never smokers (p=4.54×10−8)"
   ]
  },
  {
   "cell_type": "markdown",
   "metadata": {},
   "source": [
    "# Linear regression\n",
    "\n",
    "Linear models  seek to explain the relationship between a variable of interest, our $Y$, outcome, response, or dependent variable, and one or more $X,$ predictor, or independent variables. Previously we talked about t-tests or ANOVA in the context of a simple linear regression model with only a single predictor variable, $X$ :\n",
    "$$\n",
    "Y=\\beta_{0}+\\beta_{1} X\n",
    "$$\n",
    "But you can have multiple predictors in a linear model that are all additive, accounting for the effects of the others:\n",
    "$$\n",
    "Y=\\beta_{0}+\\beta_{1} X_{1}+\\beta_{2} X_{2}+\\epsilon\n",
    "$$\n",
    "- $Y$ is the response\n",
    "\n",
    "- $X_{1}$ and $X_{2}$ are the predictors\n",
    "\n",
    "- $\\beta_{0}$ is the intercept, and $\\beta_{1}, \\beta_{2}$ etc are coefficients that describe what 1 -unit changes in $X_{1}$ and $X_{2}$ do to the outcome variable $Y$.\n",
    "\n",
    "- $ \\epsilon$ is random error. Our model will not perfectly predict $Y$. It will be off by some random amount. We assume this amount is a random draw from a Normal distribution with mean 0 and standard deviation $\\sigma$."
   ]
  },
  {
   "cell_type": "markdown",
   "metadata": {},
   "source": [
    "**Building a linear model** means we propose a linear\n",
    "model and then estimate the coefficients and the\n",
    "variance of the error term. Above, this means\n",
    "estimating $\\beta_{0}, \\beta_{1}, \\beta_{2}$ and $\\sigma .$ This is what we do in\n",
    "$\\mathrm{R}$\n",
    "Let's look at the relationship between height and\n",
    "weight."
   ]
  },
  {
   "cell_type": "code",
   "execution_count": 203,
   "metadata": {},
   "outputs": [
    {
     "data": {
      "text/plain": [
       "\n",
       "Call:\n",
       "lm(formula = Weight ~ Height, data = nha)\n",
       "\n",
       "Residuals:\n",
       "    Min      1Q  Median      3Q     Max \n",
       "-40.339 -13.109  -2.658   9.309 127.972 \n",
       "\n",
       "Coefficients:\n",
       "             Estimate Std. Error t value Pr(>|t|)    \n",
       "(Intercept) -73.70590    5.08110  -14.51   <2e-16 ***\n",
       "Height        0.91996    0.03003   30.63   <2e-16 ***\n",
       "---\n",
       "Signif. codes:  0 '***' 0.001 '**' 0.01 '*' 0.05 '.' 0.1 ' ' 1\n",
       "\n",
       "Residual standard error: 18.57 on 3674 degrees of freedom\n",
       "  (31 observations deleted due to missingness)\n",
       "Multiple R-squared:  0.2034,\tAdjusted R-squared:  0.2032 \n",
       "F-statistic: 938.4 on 1 and 3674 DF,  p-value: < 2.2e-16\n"
      ]
     },
     "metadata": {},
     "output_type": "display_data"
    }
   ],
   "source": [
    "fit <- lm(Weight~Height, data=nha)\n",
    "summary(fit)"
   ]
  },
  {
   "cell_type": "markdown",
   "metadata": {},
   "source": [
    "The relationship is highly significant $\\left(\\mathrm{P}<2.2 \\times 10^{-16}\\right) .$ The intercept term is not very useful most of the time. Here it shows us what the\n",
    "value of Weight would be when Height=0, which\n",
    "could never happen. The Height coefficient is\n",
    "meaningful - each one unit increase in height\n",
    "results in a 0.92 increase in the corresponding unit\n",
    "of weight. Let's visualize that relationship:"
   ]
  },
  {
   "cell_type": "code",
   "execution_count": 204,
   "metadata": {},
   "outputs": [
    {
     "name": "stderr",
     "output_type": "stream",
     "text": [
      "`geom_smooth()` using formula 'y ~ x'\n",
      "\n",
      "Warning message:\n",
      "\"Removed 31 rows containing non-finite values (stat_smooth).\"\n",
      "Warning message:\n",
      "\"Removed 31 rows containing missing values (geom_point).\"\n"
     ]
    },
    {
     "data": {
      "image/png": "[encoded data removed]",
      "text/plain": [
       "plot without title"
      ]
     },
     "metadata": {
      "image/png": {
       "height": 420,
       "width": 420
      }
     },
     "output_type": "display_data"
    }
   ],
   "source": [
    "ggplot(nha, aes(x=Height, y=Weight)) + geom_point() + geom_smooth(method=\"lm\")"
   ]
  },
  {
   "cell_type": "markdown",
   "metadata": {},
   "source": [
    "By default, this is only going to show the prediction over the range of the data. This is important! You never want to try to extrapolate response variables outside of the range of your predictor(s). For example, the linear model tells us that weight is -73.7kg when height is zero. We can extend the predicted model / regression line past the lowest value of the data down to height=0. The bands on the confidence interval tell us that the model is apparently confident within the regions defined by the gray boundary. But this is silly – we would never see a height of zero, and predicting past the range of the available training data is never a good idea."
   ]
  },
  {
   "cell_type": "code",
   "execution_count": 205,
   "metadata": {},
   "outputs": [
    {
     "name": "stderr",
     "output_type": "stream",
     "text": [
      "`geom_smooth()` using formula 'y ~ x'\n",
      "\n",
      "Warning message:\n",
      "\"Removed 31 rows containing non-finite values (stat_smooth).\"\n",
      "Warning message:\n",
      "\"Removed 31 rows containing missing values (geom_point).\"\n"
     ]
    },
    {
     "data": {
      "image/png": "[encoded data removed]",
      "text/plain": [
       "plot without title"
      ]
     },
     "metadata": {
      "image/png": {
       "height": 420,
       "width": 420
      }
     },
     "output_type": "display_data"
    }
   ],
   "source": [
    "ggplot(nha, aes(x=Height, y=Weight)) + \n",
    "  geom_point() + \n",
    "  geom_smooth(method=\"lm\", fullrange=TRUE) + \n",
    "  xlim(0, NA) + \n",
    "  ggtitle(\"Friends don't let friends extrapolate.\")"
   ]
  },
  {
   "cell_type": "markdown",
   "metadata": {},
   "source": [
    "# Multiple regression\n",
    "\n",
    "Finally, let’s do a multiple linear regression analysis, where we attempt to model the effect of multiple predictor variables at once on some outcome. First, let’s look at the effect of physical activity on testosterone levels. Let’s do this with a t-test and linear regression, showing that you get the same results."
   ]
  },
  {
   "cell_type": "code",
   "execution_count": 206,
   "metadata": {},
   "outputs": [
    {
     "data": {
      "text/plain": [
       "\n",
       "\tWelch Two Sample t-test\n",
       "\n",
       "data:  Testosterone by PhysActive\n",
       "t = -2.4349, df = 3335.2, p-value = 0.01495\n",
       "alternative hypothesis: true difference in means is not equal to 0\n",
       "95 percent confidence interval:\n",
       " -34.781568  -3.752469\n",
       "sample estimates:\n",
       " mean in group No mean in group Yes \n",
       "         207.5645          226.8315 \n"
      ]
     },
     "metadata": {},
     "output_type": "display_data"
    }
   ],
   "source": [
    "t.test(Testosterone~PhysActive, data=nha)"
   ]
  },
  {
   "cell_type": "code",
   "execution_count": 207,
   "metadata": {},
   "outputs": [
    {
     "data": {
      "text/plain": [
       "\n",
       "Call:\n",
       "lm(formula = Testosterone ~ PhysActive, data = nha)\n",
       "\n",
       "Residuals:\n",
       "   Min     1Q Median     3Q    Max \n",
       "-224.5 -196.5 -115.9  167.0 1588.0 \n",
       "\n",
       "Coefficients:\n",
       "              Estimate Std. Error t value Pr(>|t|)    \n",
       "(Intercept)    207.565      5.873   35.34   <2e-16 ***\n",
       "PhysActiveYes   19.267      7.929    2.43   0.0152 *  \n",
       "---\n",
       "Signif. codes:  0 '***' 0.001 '**' 0.01 '*' 0.05 '.' 0.1 ' ' 1\n",
       "\n",
       "Residual standard error: 231.4 on 3436 degrees of freedom\n",
       "  (269 observations deleted due to missingness)\n",
       "Multiple R-squared:  0.001715,\tAdjusted R-squared:  0.001425 \n",
       "F-statistic: 5.904 on 1 and 3436 DF,  p-value: 0.01516\n"
      ]
     },
     "metadata": {},
     "output_type": "display_data"
    }
   ],
   "source": [
    "summary(lm(Testosterone~PhysActive, data=nha))"
   ]
  },
  {
   "cell_type": "markdown",
   "metadata": {},
   "source": [
    "In both cases, the p-value is significant (p=0.01516), and the result suggest that increased physical activity is associated with increased testosterone levels. Does increasing your physical activity increase your testosterone levels? Or is it the other way – will increased testosterone encourage more physical activity? Or is it none of the above – is the apparent relationship between physical activity and testosterone levels only apparent because both are correlated with yet a third, unaccounted for variable? Let’s throw Age into the model as well."
   ]
  },
  {
   "cell_type": "code",
   "execution_count": 208,
   "metadata": {},
   "outputs": [
    {
     "data": {
      "text/plain": [
       "\n",
       "Call:\n",
       "lm(formula = Testosterone ~ PhysActive + Age, data = nha)\n",
       "\n",
       "Residuals:\n",
       "   Min     1Q Median     3Q    Max \n",
       "-238.6 -196.8 -112.3  167.4 1598.1 \n",
       "\n",
       "Coefficients:\n",
       "              Estimate Std. Error t value Pr(>|t|)    \n",
       "(Intercept)   247.8828    13.0853  18.944  < 2e-16 ***\n",
       "PhysActiveYes  13.6740     8.0815   1.692 0.090735 .  \n",
       "Age            -0.8003     0.2322  -3.447 0.000574 ***\n",
       "---\n",
       "Signif. codes:  0 '***' 0.001 '**' 0.01 '*' 0.05 '.' 0.1 ' ' 1\n",
       "\n",
       "Residual standard error: 231 on 3435 degrees of freedom\n",
       "  (269 observations deleted due to missingness)\n",
       "Multiple R-squared:  0.005156,\tAdjusted R-squared:  0.004577 \n",
       "F-statistic: 8.901 on 2 and 3435 DF,  p-value: 0.0001394\n"
      ]
     },
     "metadata": {},
     "output_type": "display_data"
    }
   ],
   "source": [
    "summary(lm(Testosterone~PhysActive+Age, data=nha))"
   ]
  },
  {
   "cell_type": "markdown",
   "metadata": {},
   "source": [
    "This shows us that after accounting for age that the testosterone / physical activity link is no longer significant. Every 1-year increase in age results in a highly significant decrease in testosterone, and since increasing age is also likely associated with decreased physical activity, perhaps age is the confounder that makes this relationship apparent.\n",
    "\n",
    "Adding other predictors can also swing things the other way. We know that men have much higher testosterone levels than females. Sex is probably the single best predictor of testosterone levels in our dataset. By not accounting for this effect, our unaccounted-for variation remains very high. By accounting for Gender, we now reduce the residual error in the model, and the physical activity effect once again becomes significant. Also notice that our model fits much better (higher R-squared), and is much more significant overall."
   ]
  },
  {
   "cell_type": "code",
   "execution_count": 209,
   "metadata": {},
   "outputs": [
    {
     "data": {
      "text/plain": [
       "\n",
       "Call:\n",
       "lm(formula = Testosterone ~ PhysActive + Age + Gender, data = nha)\n",
       "\n",
       "Residuals:\n",
       "    Min      1Q  Median      3Q     Max \n",
       "-397.91  -31.01   -4.42   20.50 1400.90 \n",
       "\n",
       "Coefficients:\n",
       "              Estimate Std. Error t value Pr(>|t|)    \n",
       "(Intercept)    46.6931     7.5729   6.166 7.83e-10 ***\n",
       "PhysActiveYes   9.2749     4.4617   2.079   0.0377 *  \n",
       "Age            -0.5904     0.1282  -4.605 4.28e-06 ***\n",
       "Gendermale    385.1989     4.3512  88.526  < 2e-16 ***\n",
       "---\n",
       "Signif. codes:  0 '***' 0.001 '**' 0.01 '*' 0.05 '.' 0.1 ' ' 1\n",
       "\n",
       "Residual standard error: 127.5 on 3434 degrees of freedom\n",
       "  (269 observations deleted due to missingness)\n",
       "Multiple R-squared:  0.6969,\tAdjusted R-squared:  0.6966 \n",
       "F-statistic:  2632 on 3 and 3434 DF,  p-value: < 2.2e-16\n"
      ]
     },
     "metadata": {},
     "output_type": "display_data"
    }
   ],
   "source": [
    "summary(lm(Testosterone~PhysActive+Age+Gender, data=nha))"
   ]
  },
  {
   "cell_type": "markdown",
   "metadata": {},
   "source": [
    "We've only looked at the `summary ()` and `anova ()` functions for extracting information from an $1 \\mathrm{~m}$\n",
    "class object. There are several other accessor\n",
    "functions that can be used on a linear model object.\n",
    "Check out the help page for each one of these to learn more.\n",
    "- `coefficients ( )`\n",
    "- `predict.lm ()`\n",
    "- `fitted.values ()`\n",
    "- `residuals ()`"
   ]
  },
  {
   "cell_type": "markdown",
   "metadata": {},
   "source": [
    "\\begin{exercise}1.\n",
    "Is the average BMI different in single people versus those in a committed relationship? Perform a t-test.\n",
    "\\end{exercise}\n",
    "\\begin{exercise}\n",
    "2. The work variable is coded \"Looking\" (n=159),\n",
    "“NotWorking\" (n=1317), and \"Working\" $(n=2230)$\n",
    "\n",
    "     - Fit a linear model. Assign this to an object called fit. What does the fit object tell\n",
    "you when you display it directly? \n",
    "\n",
    "     - Run an anova () to get the ANOVA table. Is the model significant?\n",
    "    \n",
    "     - Instead of thinking of this as ANOVA, think of it as a linear model. After you've thought about it, get some summary () statistics on the fit. Do these results agree with the ANOVA model?\n",
    "\\end{exercise}\n",
    "\n",
    "\\begin{exercise}3\n",
    "Examine the relationship between HDL\n",
    "cholesterol levels ( $\\mathrm{HDLChol}$ ) and whether\n",
    "someone has diabetes or not ( Diabetes).\n",
    "\n",
    "    - Is there a difference in means between diabetics and nondiabetics? Perform a t-test without a Welch correction (that is, assuming equal variances - see ?t.test for help).\n",
    "    \n",
    "    - Do the same analysis in a linear modeling framework.\n",
    "    \n",
    "    - Does the relationship hold when adjusting for weight?\n",
    "    \n",
    "    - What about when adjusting for weight, Age, Gender, PhysActive (whethersomeone participates in moderate or vigorous-intensity sports, fitness or recreational activities, coded as yes/no). What is the effect of each of these explanatory variables?\n",
    "\n",
    "\\end{exercise}\n",
    "\n"
   ]
  },
  {
   "cell_type": "markdown",
   "metadata": {},
   "source": [
    "**ANSWER OF EXERCISE 1**"
   ]
  },
  {
   "cell_type": "code",
   "execution_count": 210,
   "metadata": {},
   "outputs": [
    {
     "data": {
      "text/plain": [
       "\n",
       "\tWelch Two Sample t-test\n",
       "\n",
       "data:  BMI by RelationshipStatus\n",
       "t = -1.4866, df = 2643, p-value = 0.1372\n",
       "alternative hypothesis: true difference in means is not equal to 0\n",
       "95 percent confidence interval:\n",
       " -0.7915376  0.1088885\n",
       "sample estimates:\n",
       "mean in group Committed    mean in group Single \n",
       "               28.51343                28.85475 \n"
      ]
     },
     "metadata": {},
     "output_type": "display_data"
    }
   ],
   "source": [
    "#exercise 1\n",
    "t.test(BMI~RelationshipStatus, data=nha)\n"
   ]
  },
  {
   "cell_type": "markdown",
   "metadata": {},
   "source": [
    "**ANSWER OF EXERCISE 2**"
   ]
  },
  {
   "cell_type": "code",
   "execution_count": 211,
   "metadata": {},
   "outputs": [
    {
     "data": {
      "text/plain": [
       "\n",
       "Call:\n",
       "lm(formula = Income ~ Work, data = nha)\n",
       "\n",
       "Coefficients:\n",
       "   (Intercept)  WorkNotWorking     WorkWorking  \n",
       "         48960           -3196           16020  \n"
      ]
     },
     "metadata": {},
     "output_type": "display_data"
    },
    {
     "data": {
      "text/html": [
       "<table>\n",
       "<caption>A anova: 2 × 5</caption>\n",
       "<thead>\n",
       "\t<tr><th></th><th scope=col>Df</th><th scope=col>Sum Sq</th><th scope=col>Mean Sq</th><th scope=col>F value</th><th scope=col>Pr(&gt;F)</th></tr>\n",
       "\t<tr><th></th><th scope=col>&lt;int&gt;</th><th scope=col>&lt;dbl&gt;</th><th scope=col>&lt;dbl&gt;</th><th scope=col>&lt;dbl&gt;</th><th scope=col>&lt;dbl&gt;</th></tr>\n",
       "</thead>\n",
       "<tbody>\n",
       "\t<tr><th scope=row>Work</th><td>   2</td><td>2.893646e+11</td><td>144682300096</td><td>139.8452</td><td>4.295432e-59</td></tr>\n",
       "\t<tr><th scope=row>Residuals</th><td>3403</td><td>3.520707e+12</td><td>  1034589049</td><td>      NA</td><td>          NA</td></tr>\n",
       "</tbody>\n",
       "</table>\n"
      ],
      "text/latex": [
       "A anova: 2 × 5\n",
       "\\begin{tabular}{r|lllll}\n",
       "  & Df & Sum Sq & Mean Sq & F value & Pr(>F)\\\\\n",
       "  & <int> & <dbl> & <dbl> & <dbl> & <dbl>\\\\\n",
       "\\hline\n",
       "\tWork &    2 & 2.893646e+11 & 144682300096 & 139.8452 & 4.295432e-59\\\\\n",
       "\tResiduals & 3403 & 3.520707e+12 &   1034589049 &       NA &           NA\\\\\n",
       "\\end{tabular}\n"
      ],
      "text/markdown": [
       "\n",
       "A anova: 2 × 5\n",
       "\n",
       "| <!--/--> | Df &lt;int&gt; | Sum Sq &lt;dbl&gt; | Mean Sq &lt;dbl&gt; | F value &lt;dbl&gt; | Pr(&gt;F) &lt;dbl&gt; |\n",
       "|---|---|---|---|---|---|\n",
       "| Work |    2 | 2.893646e+11 | 144682300096 | 139.8452 | 4.295432e-59 |\n",
       "| Residuals | 3403 | 3.520707e+12 |   1034589049 |       NA |           NA |\n",
       "\n"
      ],
      "text/plain": [
       "          Df   Sum Sq       Mean Sq      F value  Pr(>F)      \n",
       "Work         2 2.893646e+11 144682300096 139.8452 4.295432e-59\n",
       "Residuals 3403 3.520707e+12   1034589049       NA           NA"
      ]
     },
     "metadata": {},
     "output_type": "display_data"
    },
    {
     "data": {
      "text/plain": [
       "\n",
       "Call:\n",
       "lm(formula = Income ~ Work, data = nha)\n",
       "\n",
       "Residuals:\n",
       "   Min     1Q Median     3Q    Max \n",
       "-62480 -28264  -4980  35020  54236 \n",
       "\n",
       "Coefficients:\n",
       "               Estimate Std. Error t value Pr(>|t|)    \n",
       "(Intercept)       48960       2635  18.580  < 2e-16 ***\n",
       "WorkNotWorking    -3196       2797  -1.143    0.253    \n",
       "WorkWorking       16020       2728   5.873  4.7e-09 ***\n",
       "---\n",
       "Signif. codes:  0 '***' 0.001 '**' 0.01 '*' 0.05 '.' 0.1 ' ' 1\n",
       "\n",
       "Residual standard error: 32170 on 3403 degrees of freedom\n",
       "  (301 observations deleted due to missingness)\n",
       "Multiple R-squared:  0.07595,\tAdjusted R-squared:  0.0754 \n",
       "F-statistic: 139.8 on 2 and 3403 DF,  p-value: < 2.2e-16\n"
      ]
     },
     "metadata": {},
     "output_type": "display_data"
    }
   ],
   "source": [
    "#exercise 2\n",
    "fit <- lm(Income~Work, data=nha)\n",
    "fit\n",
    "\n",
    "anova(fit)\n",
    "\n",
    "summary(fit)"
   ]
  },
  {
   "cell_type": "markdown",
   "metadata": {},
   "source": [
    "-From the above results the anova model is significant because p-value < 0.05 \n",
    "-Yes,the summary () statistics results agree with the ANOVA model."
   ]
  },
  {
   "cell_type": "markdown",
   "metadata": {},
   "source": [
    "**ANSWER OF EXERCISE 3**"
   ]
  },
  {
   "cell_type": "code",
   "execution_count": 212,
   "metadata": {},
   "outputs": [
    {
     "data": {
      "text/plain": [
       "\n",
       "\tTwo Sample t-test\n",
       "\n",
       "data:  HDLChol by Diabetes\n",
       "t = 7.1033, df = 3498, p-value = 1.469e-12\n",
       "alternative hypothesis: true difference in means is not equal to 0\n",
       "95 percent confidence interval:\n",
       " 0.1155124 0.2035902\n",
       "sample estimates:\n",
       " mean in group No mean in group Yes \n",
       "         1.384686          1.225134 \n"
      ]
     },
     "metadata": {},
     "output_type": "display_data"
    },
    {
     "data": {
      "text/plain": [
       "\n",
       "Call:\n",
       "lm(formula = HDLChol ~ Diabetes, data = nha)\n",
       "\n",
       "Residuals:\n",
       "     Min       1Q   Median       3Q      Max \n",
       "-0.97469 -0.27469 -0.06469  0.21531  2.80487 \n",
       "\n",
       "Coefficients:\n",
       "             Estimate Std. Error t value Pr(>|t|)    \n",
       "(Intercept)  1.384686   0.006949 199.262  < 2e-16 ***\n",
       "DiabetesYes -0.159551   0.022461  -7.103 1.47e-12 ***\n",
       "---\n",
       "Signif. codes:  0 '***' 0.001 '**' 0.01 '*' 0.05 '.' 0.1 ' ' 1\n",
       "\n",
       "Residual standard error: 0.3909 on 3498 degrees of freedom\n",
       "  (207 observations deleted due to missingness)\n",
       "Multiple R-squared:  0.01422,\tAdjusted R-squared:  0.01394 \n",
       "F-statistic: 50.46 on 1 and 3498 DF,  p-value: 1.469e-12\n"
      ]
     },
     "metadata": {},
     "output_type": "display_data"
    },
    {
     "data": {
      "text/plain": [
       "\n",
       "Call:\n",
       "lm(formula = HDLChol ~ Diabetes + Weight, data = nha)\n",
       "\n",
       "Residuals:\n",
       "     Min       1Q   Median       3Q      Max \n",
       "-0.86578 -0.23880 -0.05386  0.18343  2.54455 \n",
       "\n",
       "Coefficients:\n",
       "              Estimate Std. Error t value Pr(>|t|)    \n",
       "(Intercept)  2.0030588  0.0247582  80.905  < 2e-16 ***\n",
       "DiabetesYes -0.0618412  0.0209921  -2.946  0.00324 ** \n",
       "Weight      -0.0076729  0.0002964 -25.884  < 2e-16 ***\n",
       "---\n",
       "Signif. codes:  0 '***' 0.001 '**' 0.01 '*' 0.05 '.' 0.1 ' ' 1\n",
       "\n",
       "Residual standard error: 0.3574 on 3473 degrees of freedom\n",
       "  (231 observations deleted due to missingness)\n",
       "Multiple R-squared:  0.1724,\tAdjusted R-squared:  0.1719 \n",
       "F-statistic: 361.7 on 2 and 3473 DF,  p-value: < 2.2e-16\n"
      ]
     },
     "metadata": {},
     "output_type": "display_data"
    },
    {
     "data": {
      "text/plain": [
       "\n",
       "Call:\n",
       "lm(formula = HDLChol ~ Diabetes + Weight + Gender + Age + PhysActive, \n",
       "    data = nha)\n",
       "\n",
       "Residuals:\n",
       "     Min       1Q   Median       3Q      Max \n",
       "-1.01071 -0.22476 -0.03897  0.17061  2.46291 \n",
       "\n",
       "Coefficients:\n",
       "                Estimate Std. Error t value Pr(>|t|)    \n",
       "(Intercept)    1.7550492  0.0310238  56.571  < 2e-16 ***\n",
       "DiabetesYes   -0.1049672  0.0205735  -5.102 3.54e-07 ***\n",
       "Weight        -0.0057673  0.0003000 -19.221  < 2e-16 ***\n",
       "Gendermale    -0.2016460  0.0122401 -16.474  < 2e-16 ***\n",
       "Age            0.0034611  0.0003481   9.944  < 2e-16 ***\n",
       "PhysActiveYes  0.0665538  0.0118837   5.600 2.30e-08 ***\n",
       "---\n",
       "Signif. codes:  0 '***' 0.001 '**' 0.01 '*' 0.05 '.' 0.1 ' ' 1\n",
       "\n",
       "Residual standard error: 0.3392 on 3470 degrees of freedom\n",
       "  (231 observations deleted due to missingness)\n",
       "Multiple R-squared:  0.2551,\tAdjusted R-squared:  0.254 \n",
       "F-statistic: 237.6 on 5 and 3470 DF,  p-value: < 2.2e-16\n"
      ]
     },
     "metadata": {},
     "output_type": "display_data"
    }
   ],
   "source": [
    "#exercise 3\n",
    "t.test(HDLChol~Diabetes, data=nha, var.equal=TRUE)\n",
    "\n",
    "summary(lm(HDLChol~Diabetes, data=nha))\n",
    "\n",
    "summary(lm(HDLChol~Diabetes+Weight, data=nha))\n",
    "\n",
    "summary(lm(HDLChol~Diabetes+Weight+Gender+Age+PhysActive, data=nha))"
   ]
  },
  {
   "cell_type": "markdown",
   "metadata": {},
   "source": [
    "-It looks like non-diabetics have a higher mean value HDLChol than diabetics .  \n",
    "\n",
    "-Yes, the relationship still holds when adjusting for weight, p value increases but it is still significant.  \n",
    "\n",
    "-Adding Weight, Age, Gender, PhysActivemodel.as weight increases hdl cholesterol decreases.if a person is male or/and is diabetic then hdl cholesterol decreases. On the contrary, with age increase there is a slight increase in hdl cholesterol. In case of a physically active person there is an (higher) increase in hdl cholesterol.By adding all those variables residual error decreases, the model fits much better , and is much more significant overall."
   ]
  },
  {
   "cell_type": "markdown",
   "metadata": {},
   "source": [
    "# Discrete variables\n",
    "\n",
    "Until now we’ve only discussed analyzing continuous outcomes / dependent variables. We’ve tested for differences in means between two groups with t-tests, differences among means between n groups with ANOVA, and more general relationships using linear regression. In all of these cases, the dependent variable, i.e., the outcome, or Y\n",
    "variable, was continuous, and usually normally distributed. What if our outcome variable is discrete, e.g., “Yes/No”, “Mutant/WT”, “Case/Control”, etc.? Here we use a different set of procedures for assessing significant associations."
   ]
  },
  {
   "cell_type": "markdown",
   "metadata": {},
   "source": [
    "# Contingency tables\n",
    "\n",
    "In statistics, a contingency table (also known as a cross tabulation or crosstab) is a type of table in a matrix format that displays the (multivariate) frequency distribution of the variables. They are heavily used in survey research, business intelligence, engineering, and scientific research. They provide a basic picture of the interrelation between two variables and can help find interactions between them.\n",
    "\n",
    "The xtabs() function is useful for creating contingency tables from categorical variables. Let’s create a gender by diabetes status contingency table, and assign it to an object called xt. After making the assignment, type the name of the object to view it."
   ]
  },
  {
   "cell_type": "code",
   "execution_count": 213,
   "metadata": {},
   "outputs": [
    {
     "data": {
      "text/plain": [
       "        Diabetes\n",
       "Gender     No  Yes\n",
       "  female 1692  164\n",
       "  male   1653  198"
      ]
     },
     "metadata": {},
     "output_type": "display_data"
    }
   ],
   "source": [
    "xt <- xtabs(~Gender+Diabetes, data=nha)\n",
    "xt"
   ]
  },
  {
   "cell_type": "markdown",
   "metadata": {},
   "source": [
    "There are two useful functions, `addmargins()` and `prop.table()` that add more information or manipulate how the data is displayed. By default, `prop.table()` will divide the number of observations in each cell by the total. But you may want to specify which margin you want to get proportions over. Let’s do this for the first (row) margin."
   ]
  },
  {
   "cell_type": "code",
   "execution_count": 214,
   "metadata": {},
   "outputs": [
    {
     "data": {
      "text/html": [
       "<table>\n",
       "<caption>A table: 3 × 3 of type dbl</caption>\n",
       "<thead>\n",
       "\t<tr><th></th><th scope=col>No</th><th scope=col>Yes</th><th scope=col>Sum</th></tr>\n",
       "</thead>\n",
       "<tbody>\n",
       "\t<tr><th scope=row>female</th><td>1692</td><td>164</td><td>1856</td></tr>\n",
       "\t<tr><th scope=row>male</th><td>1653</td><td>198</td><td>1851</td></tr>\n",
       "\t<tr><th scope=row>Sum</th><td>3345</td><td>362</td><td>3707</td></tr>\n",
       "</tbody>\n",
       "</table>\n"
      ],
      "text/latex": [
       "A table: 3 × 3 of type dbl\n",
       "\\begin{tabular}{r|lll}\n",
       "  & No & Yes & Sum\\\\\n",
       "\\hline\n",
       "\tfemale & 1692 & 164 & 1856\\\\\n",
       "\tmale & 1653 & 198 & 1851\\\\\n",
       "\tSum & 3345 & 362 & 3707\\\\\n",
       "\\end{tabular}\n"
      ],
      "text/markdown": [
       "\n",
       "A table: 3 × 3 of type dbl\n",
       "\n",
       "| <!--/--> | No | Yes | Sum |\n",
       "|---|---|---|---|\n",
       "| female | 1692 | 164 | 1856 |\n",
       "| male | 1653 | 198 | 1851 |\n",
       "| Sum | 3345 | 362 | 3707 |\n",
       "\n"
      ],
      "text/plain": [
       "        Diabetes\n",
       "Gender   No   Yes Sum \n",
       "  female 1692 164 1856\n",
       "  male   1653 198 1851\n",
       "  Sum    3345 362 3707"
      ]
     },
     "metadata": {},
     "output_type": "display_data"
    }
   ],
   "source": [
    "# Add marginal totals\n",
    "addmargins(xt)\n"
   ]
  },
  {
   "cell_type": "code",
   "execution_count": 215,
   "metadata": {},
   "outputs": [
    {
     "data": {
      "text/plain": [
       "        Diabetes\n",
       "Gender           No        Yes\n",
       "  female 0.45643377 0.04424063\n",
       "  male   0.44591314 0.05341246"
      ]
     },
     "metadata": {},
     "output_type": "display_data"
    }
   ],
   "source": [
    "# Get the proportional table\n",
    "prop.table(xt)"
   ]
  },
  {
   "cell_type": "code",
   "execution_count": 216,
   "metadata": {},
   "outputs": [
    {
     "data": {
      "text/plain": [
       "        Diabetes\n",
       "Gender           No        Yes\n",
       "  female 0.91163793 0.08836207\n",
       "  male   0.89303079 0.10696921"
      ]
     },
     "metadata": {},
     "output_type": "display_data"
    }
   ],
   "source": [
    "# That wasn't really what we wanted. \n",
    "# Do this over the first (row) margin only.\n",
    "prop.table(xt, margin=1)"
   ]
  },
  {
   "cell_type": "markdown",
   "metadata": {},
   "source": [
    "Looks like men have slightly higher rates of diabetes than women. But is this significant?\n",
    "\n",
    "The chi-square test is used to assess the independence of these two factors. That is, if the null hypothesis that gender and diabetes are independent is true, the we would expect a proportionally equal number of diabetics across each sex. Males seem to be at slightly higher risk than females, but the difference is just short of statistically significant."
   ]
  },
  {
   "cell_type": "code",
   "execution_count": 217,
   "metadata": {},
   "outputs": [
    {
     "data": {
      "text/plain": [
       "\n",
       "\tPearson's Chi-squared test with Yates' continuity correction\n",
       "\n",
       "data:  xt\n",
       "X-squared = 3.4332, df = 1, p-value = 0.0639\n"
      ]
     },
     "metadata": {},
     "output_type": "display_data"
    }
   ],
   "source": [
    "chisq.test(xt)"
   ]
  },
  {
   "cell_type": "markdown",
   "metadata": {},
   "source": [
    "There’s a useful plot for visualizing contingency table data called a mosaic plot. Call the `mosaicplot()` function on the contingency table object."
   ]
  },
  {
   "cell_type": "code",
   "execution_count": 218,
   "metadata": {},
   "outputs": [
    {
     "data": {
      "image/png": "[encoded data removed]",
      "text/plain": [
       "Plot with title \"NA\""
      ]
     },
     "metadata": {
      "image/png": {
       "height": 420,
       "width": 420
      }
     },
     "output_type": "display_data"
    }
   ],
   "source": [
    "mosaicplot(xt, main=NA)"
   ]
  },
  {
   "cell_type": "markdown",
   "metadata": {},
   "source": [
    "# Logistic regression\n",
    "\n",
    "What if we wanted to model the discrete outcome,\n",
    "e.g., whether someone is insured, against several\n",
    "other variables, similar to how we did with multiple\n",
    "linear regression? We can't use linear regression\n",
    "because the outcome isn't continuous - it's binary,\n",
    "either Yes or No. For this we'll use logistic regression\n",
    "to model the $\\log$ odds of binary response. That is,\n",
    "instead of modeling the outcome variable, $Y$,\n",
    "directly against the inputs, we'll model the log odds\n",
    "of the outcome variable.\n",
    "\n",
    "If $p$ is the probability that the individual is insured, then $\\frac{p}{1-p}$ is the odds that person is insured. Then it follows that the linear model is expressed as:\n",
    "$$\n",
    "\\log \\left(\\frac{p}{1-p}\\right)=\\beta_{0}+\\beta_{1} x_{1}+\\cdots+\\beta_{k} x_{k}\n",
    "$$\n",
    "\n",
    "Where $\\beta_{0}$ is the intercept, $\\beta_{1}$ is the increase in the\n",
    "odds of the outcome for every unit increase in $x_{1}$, and so on.\n",
    "\n",
    "Logistic regression is a type of **generalized linear model** (GLM). We fit GLM models in R using the `glm ()` function. It works like the `lm ()` function\n",
    "except we specify which GLM to fit using the\n",
    "`family` argument. Logistic regression requires\n",
    "`family=binomial`.\n",
    "The typical use looks like this:"
   ]
  },
  {
   "cell_type": "markdown",
   "metadata": {},
   "source": [
    "mod <- glm(y ~ x, data=yourdata, family='binomial')\n",
    "summary(mod)"
   ]
  },
  {
   "cell_type": "markdown",
   "metadata": {},
   "source": [
    "Before we fit a logistic regression model let’s relevel the Race variable so that “White” is the baseline. We saw above that people who identify as “White” have the highest rates of being insured. When we run the logistic regression, we’ll get a separate coefficient (effect) for each level of the factor variable(s) in the model, telling you the increased odds that that level has, as compared to the baseline group."
   ]
  },
  {
   "cell_type": "code",
   "execution_count": 219,
   "metadata": {},
   "outputs": [
    {
     "data": {
      "text/html": [
       "<style>\n",
       ".list-inline {list-style: none; margin:0; padding: 0}\n",
       ".list-inline>li {display: inline-block}\n",
       ".list-inline>li:not(:last-child)::after {content: \"\\00b7\"; padding: 0 .5ex}\n",
       "</style>\n",
       "<ol class=list-inline><li>Yes</li><li>Yes</li><li>Yes</li><li>Yes</li><li>Yes</li><li>Yes</li></ol>\n",
       "\n",
       "<details>\n",
       "\t<summary style=display:list-item;cursor:pointer>\n",
       "\t\t<strong>Levels</strong>:\n",
       "\t</summary>\n",
       "\t<style>\n",
       "\t.list-inline {list-style: none; margin:0; padding: 0}\n",
       "\t.list-inline>li {display: inline-block}\n",
       "\t.list-inline>li:not(:last-child)::after {content: \"\\00b7\"; padding: 0 .5ex}\n",
       "\t</style>\n",
       "\t<ol class=list-inline><li>'No'</li><li>'Yes'</li></ol>\n",
       "</details>"
      ],
      "text/latex": [
       "\\begin{enumerate*}\n",
       "\\item Yes\n",
       "\\item Yes\n",
       "\\item Yes\n",
       "\\item Yes\n",
       "\\item Yes\n",
       "\\item Yes\n",
       "\\end{enumerate*}\n",
       "\n",
       "\\emph{Levels}: \\begin{enumerate*}\n",
       "\\item 'No'\n",
       "\\item 'Yes'\n",
       "\\end{enumerate*}\n"
      ],
      "text/markdown": [
       "1. Yes\n",
       "2. Yes\n",
       "3. Yes\n",
       "4. Yes\n",
       "5. Yes\n",
       "6. Yes\n",
       "\n",
       "\n",
       "\n",
       "**Levels**: 1. 'No'\n",
       "2. 'Yes'\n",
       "\n",
       "\n"
      ],
      "text/plain": [
       "[1] Yes Yes Yes Yes Yes Yes\n",
       "Levels: No Yes"
      ]
     },
     "metadata": {},
     "output_type": "display_data"
    }
   ],
   "source": [
    "nha$Race <- relevel(factor(nha$Race), ref=\"White\")\n",
    "xyz.Insured <- as.factor(nha$Insured)\n",
    "head(xyz.Insured)"
   ]
  },
  {
   "cell_type": "markdown",
   "metadata": {},
   "source": [
    "Now, let’s fit a logistic regression model assessing how the odds of being insured change with different levels of race."
   ]
  },
  {
   "cell_type": "code",
   "execution_count": 220,
   "metadata": {},
   "outputs": [
    {
     "data": {
      "text/plain": [
       "\n",
       "Call:\n",
       "glm(formula = xyz.Insured ~ Race, family = binomial, data = nha)\n",
       "\n",
       "Deviance Residuals: \n",
       "    Min       1Q   Median       3Q      Max  \n",
       "-2.0377   0.5177   0.5177   0.5177   1.1952  \n",
       "\n",
       "Coefficients:\n",
       "             Estimate Std. Error z value Pr(>|z|)    \n",
       "(Intercept)   1.94218    0.06103  31.825  < 2e-16 ***\n",
       "RaceAsian    -0.64092    0.17715  -3.618 0.000297 ***\n",
       "RaceBlack    -0.59744    0.13558  -4.406 1.05e-05 ***\n",
       "RaceHispanic -1.41354    0.14691  -9.622  < 2e-16 ***\n",
       "RaceMexican  -1.98385    0.13274 -14.946  < 2e-16 ***\n",
       "RaceOther    -1.26430    0.22229  -5.688 1.29e-08 ***\n",
       "---\n",
       "Signif. codes:  0 '***' 0.001 '**' 0.01 '*' 0.05 '.' 0.1 ' ' 1\n",
       "\n",
       "(Dispersion parameter for binomial family taken to be 1)\n",
       "\n",
       "    Null deviance: 3614.6  on 3704  degrees of freedom\n",
       "Residual deviance: 3336.6  on 3699  degrees of freedom\n",
       "  (2 observations deleted due to missingness)\n",
       "AIC: 3348.6\n",
       "\n",
       "Number of Fisher Scoring iterations: 4\n"
      ]
     },
     "metadata": {},
     "output_type": "display_data"
    }
   ],
   "source": [
    "fit <- glm(xyz.Insured~Race, data=nha, family=binomial)\n",
    "summary(fit)"
   ]
  },
  {
   "cell_type": "markdown",
   "metadata": {},
   "source": [
    "The Estimate column shows the log of the odds ratio – how the log odds of having health insurance changes at each level of race compared to White. The P-value for each coefficient is on the far right. This shows that every other race has significantly less rates of health insurance coverage. But, as in our multiple linear regression analysis above, are there other important variables that we’re leaving out that could alter our conclusions? Lets add a few more variables into the model to see if something else can explain the apparent Race-Insured association. Let’s add a few things likely to be involved (Age and Income), and something that’s probably irrelevant (hours slept at night)."
   ]
  },
  {
   "cell_type": "code",
   "execution_count": 221,
   "metadata": {},
   "outputs": [
    {
     "data": {
      "text/plain": [
       "\n",
       "Call:\n",
       "glm(formula = xyz.Insured ~ Race + Age + Income + SleepHrsNight, \n",
       "    family = binomial, data = nha)\n",
       "\n",
       "Deviance Residuals: \n",
       "    Min       1Q   Median       3Q      Max  \n",
       "-2.4815   0.3025   0.4370   0.6252   1.6871  \n",
       "\n",
       "Coefficients:\n",
       "                Estimate Std. Error z value Pr(>|z|)    \n",
       "(Intercept)   -3.501e-01  2.919e-01  -1.199    0.230    \n",
       "RaceAsian     -4.550e-01  2.031e-01  -2.241    0.025 *  \n",
       "RaceBlack     -2.387e-01  1.536e-01  -1.554    0.120    \n",
       "RaceHispanic  -1.010e+00  1.635e-01  -6.175 6.61e-10 ***\n",
       "RaceMexican   -1.404e+00  1.483e-01  -9.468  < 2e-16 ***\n",
       "RaceOther     -9.888e-01  2.422e-01  -4.082 4.46e-05 ***\n",
       "Age            3.371e-02  2.949e-03  11.431  < 2e-16 ***\n",
       "Income         1.534e-05  1.537e-06   9.982  < 2e-16 ***\n",
       "SleepHrsNight -1.763e-02  3.517e-02  -0.501    0.616    \n",
       "---\n",
       "Signif. codes:  0 '***' 0.001 '**' 0.01 '*' 0.05 '.' 0.1 ' ' 1\n",
       "\n",
       "(Dispersion parameter for binomial family taken to be 1)\n",
       "\n",
       "    Null deviance: 3284.3  on 3395  degrees of freedom\n",
       "Residual deviance: 2815.0  on 3387  degrees of freedom\n",
       "  (311 observations deleted due to missingness)\n",
       "AIC: 2833\n",
       "\n",
       "Number of Fisher Scoring iterations: 5\n"
      ]
     },
     "metadata": {},
     "output_type": "display_data"
    }
   ],
   "source": [
    "fit <- glm(xyz.Insured~Race+Age+Income+SleepHrsNight, data=nha, family=binomial)\n",
    "summary(fit)"
   ]
  },
  {
   "cell_type": "markdown",
   "metadata": {},
   "source": [
    "A few things become apparent:\n",
    "\n",
    "1. Age and income are both highly associated with whether someone is insured. Both of these variables are highly significant $\\left(P<2.2\\times 10^{-16}\\right),$ and the coefficient (the Estimate column) is positive, meaning that for each unit increase in one of these variables, the odds of being insured increases by the corresponding amount.\n",
    "\n",
    "2. Hours slept per night is not meaningful at all.\n",
    "\n",
    "3. After accounting for age and income, several of the race-specific differences are no longer statistically significant, but others remain so.\n",
    "\n",
    "4. The absolute value of the test statistic (column called $z$ value ) can roughly be taken as an estimate of the \"importance\" of that variable to the overall model. So, age and income are the most important influences in this model; selfidentifying as Hispanic or Mexican are also very highly important, hours slept per night isn't important at all, and the other race categories fall somewhere in between."
   ]
  },
  {
   "cell_type": "markdown",
   "metadata": {},
   "source": [
    "\\begin{exercise}\n",
    "What’s the relationship between diabetes and participating in rigorous physical activity or sports?\n",
    "\n",
    "    -Create a contingency table with Diabetes status in rows and physical activity status in columns.\n",
    "    = Display that table with margins.\n",
    "    - Show the proportions of diabetics and nondiabetics, separately, who are physically active or not.\n",
    "    - Is this relationship significant?\n",
    "    - Create two different visualizations showing the relationship.\n",
    "\n",
    "\\end{exercise}\n",
    "Model the same association in a logistic regression framework to assess the risk of diabetes using physical activity as a predictor.\n",
    "\n",
    "    - Fit a model with just physical activity as a predictor, and display a model summary.\n",
    "    - Add gender to the model, and show a summary.\n",
    "    - Continue adding weight and age to the model. What happens to the gender association?\n",
    "    - Continue and add income to the model. What happens to the original association with physical activity?\n",
    "\n",
    "\n"
   ]
  },
  {
   "cell_type": "markdown",
   "metadata": {},
   "source": [
    "**ANSWER**"
   ]
  },
  {
   "cell_type": "code",
   "execution_count": 222,
   "metadata": {},
   "outputs": [
    {
     "data": {
      "text/html": [
       "<table>\n",
       "<caption>A table: 3 × 3 of type dbl</caption>\n",
       "<thead>\n",
       "\t<tr><th></th><th scope=col>No</th><th scope=col>Yes</th><th scope=col>Sum</th></tr>\n",
       "</thead>\n",
       "<tbody>\n",
       "\t<tr><th scope=row>No</th><td>1462</td><td>1883</td><td>3345</td></tr>\n",
       "\t<tr><th scope=row>Yes</th><td> 230</td><td> 132</td><td> 362</td></tr>\n",
       "\t<tr><th scope=row>Sum</th><td>1692</td><td>2015</td><td>3707</td></tr>\n",
       "</tbody>\n",
       "</table>\n"
      ],
      "text/latex": [
       "A table: 3 × 3 of type dbl\n",
       "\\begin{tabular}{r|lll}\n",
       "  & No & Yes & Sum\\\\\n",
       "\\hline\n",
       "\tNo & 1462 & 1883 & 3345\\\\\n",
       "\tYes &  230 &  132 &  362\\\\\n",
       "\tSum & 1692 & 2015 & 3707\\\\\n",
       "\\end{tabular}\n"
      ],
      "text/markdown": [
       "\n",
       "A table: 3 × 3 of type dbl\n",
       "\n",
       "| <!--/--> | No | Yes | Sum |\n",
       "|---|---|---|---|\n",
       "| No | 1462 | 1883 | 3345 |\n",
       "| Yes |  230 |  132 |  362 |\n",
       "| Sum | 1692 | 2015 | 3707 |\n",
       "\n"
      ],
      "text/plain": [
       "        PhysActive\n",
       "Diabetes No   Yes  Sum \n",
       "     No  1462 1883 3345\n",
       "     Yes  230  132  362\n",
       "     Sum 1692 2015 3707"
      ]
     },
     "metadata": {},
     "output_type": "display_data"
    },
    {
     "data": {
      "text/plain": [
       "        PhysActive\n",
       "Diabetes        No       Yes\n",
       "     No  0.4370703 0.5629297\n",
       "     Yes 0.6353591 0.3646409"
      ]
     },
     "metadata": {},
     "output_type": "display_data"
    },
    {
     "data": {
      "text/plain": [
       "\n",
       "\tPearson's Chi-squared test with Yates' continuity correction\n",
       "\n",
       "data:  xtable\n",
       "X-squared = 50.97, df = 1, p-value = 9.377e-13\n"
      ]
     },
     "metadata": {},
     "output_type": "display_data"
    },
    {
     "data": {
      "image/png": "[encoded data removed]",
      "text/plain": [
       "plot without title"
      ]
     },
     "metadata": {
      "image/png": {
       "height": 420,
       "width": 420
      }
     },
     "output_type": "display_data"
    },
    {
     "data": {
      "image/png": "[encoded data removed]",
      "text/plain": [
       "Plot with title \"xtable\""
      ]
     },
     "metadata": {
      "image/png": {
       "height": 420,
       "width": 420
      }
     },
     "output_type": "display_data"
    }
   ],
   "source": [
    "#exercise What’s the relationship between diabetes and participating in rigorous physical activity or sports?\n",
    "\n",
    "#Create a contingency table with Diabetes status in rows and physical activity status in columns.\n",
    "xtable <- xtabs(~Diabetes+PhysActive, data = nha) \n",
    "\n",
    "#Display that table with margins.\n",
    "addmargins(xtable)\n",
    "\n",
    "#Show the proportions of diabetics and nondiabetics, separately, who are physically active or not.\n",
    "prop.table(xtable,margin = 1)\n",
    "\n",
    "#Is this relationship significant?\n",
    "chisq.test(xtable)\n",
    "\n",
    "#Create two different visualizations showing the relationship.\n",
    "assocplot(xtable)\n",
    "\n",
    "mosaicplot(xtable)"
   ]
  },
  {
   "cell_type": "markdown",
   "metadata": {},
   "source": [
    "-Yes this relationship is significant because p< 0.05"
   ]
  },
  {
   "cell_type": "markdown",
   "metadata": {},
   "source": [
    "**ANSWER**"
   ]
  },
  {
   "cell_type": "code",
   "execution_count": 223,
   "metadata": {},
   "outputs": [
    {
     "data": {
      "text/html": [
       "'character'"
      ],
      "text/latex": [
       "'character'"
      ],
      "text/markdown": [
       "'character'"
      ],
      "text/plain": [
       "[1] \"character\""
      ]
     },
     "metadata": {},
     "output_type": "display_data"
    },
    {
     "data": {
      "text/html": [
       "'character'"
      ],
      "text/latex": [
       "'character'"
      ],
      "text/markdown": [
       "'character'"
      ],
      "text/plain": [
       "[1] \"character\""
      ]
     },
     "metadata": {},
     "output_type": "display_data"
    },
    {
     "data": {
      "text/plain": [
       "\n",
       "Call:\n",
       "glm(formula = xyz.Diabetes ~ xyz.PhysActive, family = \"binomial\", \n",
       "    data = nha)\n",
       "\n",
       "Deviance Residuals: \n",
       "    Min       1Q   Median       3Q      Max  \n",
       "-0.5406  -0.5406  -0.3681  -0.3681   2.3348  \n",
       "\n",
       "Coefficients:\n",
       "                  Estimate Std. Error z value Pr(>|z|)    \n",
       "(Intercept)       -1.84948    0.07094 -26.073  < 2e-16 ***\n",
       "xyz.PhysActiveYes -0.80834    0.11462  -7.052 1.76e-12 ***\n",
       "---\n",
       "Signif. codes:  0 '***' 0.001 '**' 0.01 '*' 0.05 '.' 0.1 ' ' 1\n",
       "\n",
       "(Dispersion parameter for binomial family taken to be 1)\n",
       "\n",
       "    Null deviance: 2371.7  on 3706  degrees of freedom\n",
       "Residual deviance: 2319.9  on 3705  degrees of freedom\n",
       "AIC: 2323.9\n",
       "\n",
       "Number of Fisher Scoring iterations: 5\n"
      ]
     },
     "metadata": {},
     "output_type": "display_data"
    },
    {
     "data": {
      "text/html": [
       "'character'"
      ],
      "text/latex": [
       "'character'"
      ],
      "text/markdown": [
       "'character'"
      ],
      "text/plain": [
       "[1] \"character\""
      ]
     },
     "metadata": {},
     "output_type": "display_data"
    },
    {
     "data": {
      "text/plain": [
       "\n",
       "Call:\n",
       "glm(formula = xyz.Diabetes ~ xyz.PhysActive + xyz.Gender, family = \"binomial\", \n",
       "    data = nha)\n",
       "\n",
       "Deviance Residuals: \n",
       "    Min       1Q   Median       3Q      Max  \n",
       "-0.5686  -0.5123  -0.3874  -0.3476   2.3820  \n",
       "\n",
       "Coefficients:\n",
       "                  Estimate Std. Error z value Pr(>|z|)    \n",
       "(Intercept)       -1.96460    0.09277 -21.177  < 2e-16 ***\n",
       "xyz.PhysActiveYes -0.81186    0.11470  -7.078 1.46e-12 ***\n",
       "xyz.Gendermale     0.22427    0.11191   2.004   0.0451 *  \n",
       "---\n",
       "Signif. codes:  0 '***' 0.001 '**' 0.01 '*' 0.05 '.' 0.1 ' ' 1\n",
       "\n",
       "(Dispersion parameter for binomial family taken to be 1)\n",
       "\n",
       "    Null deviance: 2371.7  on 3706  degrees of freedom\n",
       "Residual deviance: 2315.9  on 3704  degrees of freedom\n",
       "AIC: 2321.9\n",
       "\n",
       "Number of Fisher Scoring iterations: 5\n"
      ]
     },
     "metadata": {},
     "output_type": "display_data"
    },
    {
     "data": {
      "text/plain": [
       "\n",
       "Call:\n",
       "glm(formula = xyz.Diabetes ~ xyz.PhysActive + xyz.Gender + Age + \n",
       "    Weight, family = \"binomial\", data = nha)\n",
       "\n",
       "Deviance Residuals: \n",
       "    Min       1Q   Median       3Q      Max  \n",
       "-1.4615  -0.4753  -0.3039  -0.1813   3.0128  \n",
       "\n",
       "Coefficients:\n",
       "                   Estimate Std. Error z value Pr(>|z|)    \n",
       "(Intercept)       -7.583063   0.399467 -18.983  < 2e-16 ***\n",
       "xyz.PhysActiveYes -0.343631   0.123684  -2.778  0.00546 ** \n",
       "xyz.Gendermale    -0.098664   0.124528  -0.792  0.42819    \n",
       "Age                0.056361   0.004064  13.869  < 2e-16 ***\n",
       "Weight             0.029906   0.002762  10.826  < 2e-16 ***\n",
       "---\n",
       "Signif. codes:  0 '***' 0.001 '**' 0.01 '*' 0.05 '.' 0.1 ' ' 1\n",
       "\n",
       "(Dispersion parameter for binomial family taken to be 1)\n",
       "\n",
       "    Null deviance: 2335.0  on 3679  degrees of freedom\n",
       "Residual deviance: 1976.3  on 3675  degrees of freedom\n",
       "  (27 observations deleted due to missingness)\n",
       "AIC: 1986.3\n",
       "\n",
       "Number of Fisher Scoring iterations: 6\n"
      ]
     },
     "metadata": {},
     "output_type": "display_data"
    },
    {
     "data": {
      "text/plain": [
       "\n",
       "Call:\n",
       "glm(formula = xyz.Diabetes ~ xyz.PhysActive + xyz.Gender + Age + \n",
       "    Weight + Income, family = \"binomial\", data = nha)\n",
       "\n",
       "Deviance Residuals: \n",
       "    Min       1Q   Median       3Q      Max  \n",
       "-1.4831  -0.4692  -0.2933  -0.1822   2.9525  \n",
       "\n",
       "Coefficients:\n",
       "                    Estimate Std. Error z value Pr(>|z|)    \n",
       "(Intercept)       -7.029e+00  4.191e-01 -16.771  < 2e-16 ***\n",
       "xyz.PhysActiveYes -1.958e-01  1.313e-01  -1.491    0.136    \n",
       "xyz.Gendermale     1.512e-02  1.311e-01   0.115    0.908    \n",
       "Age                5.566e-02  4.162e-03  13.372  < 2e-16 ***\n",
       "Weight             2.957e-02  2.862e-03  10.331  < 2e-16 ***\n",
       "Income            -1.141e-05  2.027e-06  -5.630  1.8e-08 ***\n",
       "---\n",
       "Signif. codes:  0 '***' 0.001 '**' 0.01 '*' 0.05 '.' 0.1 ' ' 1\n",
       "\n",
       "(Dispersion parameter for binomial family taken to be 1)\n",
       "\n",
       "    Null deviance: 2171.7  on 3382  degrees of freedom\n",
       "Residual deviance: 1806.6  on 3377  degrees of freedom\n",
       "  (324 observations deleted due to missingness)\n",
       "AIC: 1818.6\n",
       "\n",
       "Number of Fisher Scoring iterations: 6\n"
      ]
     },
     "metadata": {},
     "output_type": "display_data"
    }
   ],
   "source": [
    "#exercise  Model the same association in a logistic regression framework to assess the risk of diabetes using physical activity as a predictor.\n",
    "\n",
    "#Fit a model with just physical activity as a predictor, and display a model summary.\n",
    "class(nha$Diabetes)\n",
    "class(nha$PhysActive)\n",
    "\n",
    "xyz.Diabetes<- as.factor(nha$Diabetes)\n",
    "xyz.PhysActive <- as.factor(nha$PhysActive)\n",
    "\n",
    "fit1 <-glm(xyz.Diabetes~xyz.PhysActive, data=nha, family=\"binomial\")\n",
    "summary(fit1)\n",
    "\n",
    "#Add gender to the model, and show a summary.\n",
    "class(nha$Gender)\n",
    "xyz.Gender <- as.factor(nha$Gender)\n",
    "\n",
    "fit2 <- glm(xyz.Diabetes~xyz.PhysActive+xyz.Gender, data=nha, family=\"binomial\")\n",
    "summary(fit2)\n",
    "\n",
    "#Continue adding weight and age to the model. What happens to the gender association?\n",
    "fit3 <- glm(xyz.Diabetes~xyz.PhysActive+xyz.Gender+Age+Weight, data=nha, family=\"binomial\")\n",
    "summary(fit3)\n",
    "\n",
    "\n",
    "#Continue and add income to the model. What happens to the original association with physical activity?\n",
    "fit4 <- glm(xyz.Diabetes~xyz.PhysActive+xyz.Gender+Age+Weight+Income, data=nha, family=\"binomial\")\n",
    "summary(fit4)"
   ]
  },
  {
   "cell_type": "markdown",
   "metadata": {},
   "source": [
    "-By adding weight and age to the model, the gender is not meaningful at all, because pvalue for gender is 0.429 >0.05.  \n",
    "\n",
    "-By adding income to the model, the original association with physical activity changes and is not significant because pvalue for physical activity is 0.136 >0.5, whereas before income it was much lower (high significance)."
   ]
  },
  {
   "cell_type": "markdown",
   "metadata": {},
   "source": [
    "# Power & sample size\n",
    "\n",
    "\n",
    "\n",
    " **Statistical power**, also sometimes called sensitivity, is defined as the probability that your test correctly rejects the null hypothesis when the alternative hypothesis is true. That is, if there really is an effect (difference in means, association between categorical variables, etc.), how likely are you to be able to detect that effect at a given statistical significance level, given certain assumptions. Generally there are a few moving pieces, and if you know all but one of them, you can calculate what that last one is.\n",
    " \n",
    " 1. Power: How likely are you to detect the effect? (Usually like to see $80 \\%$ or greater).\n",
    " \n",
    "2. N: What is the sample size you have (or require)?\n",
    "\n",
    "3. Effect size: How big is the difference in means, odds ratio, etc?\n",
    "\n",
    "If we know we want 80% power to detect a certain magnitude of difference between groups, we can calculate our required sample size. Or, if we know we can only collect 5 samples, we can calculate how likely we are to detect a particular effect. Or, we can work to solve the last one - if we want 80% power and we have 5 samples, what’s the smallest effect we can hope to detect?\n",
    "\n",
    "All of these questions require certain assumptions\n",
    "about the data and the testing procedure. Which\n",
    "kind of test is being performed? What's the true\n",
    "effect size (often unknown, or estimated from\n",
    "preliminary data), what's the standard deviation of\n",
    "samples that will be collected (often unknown, or\n",
    "estimated from preliminary data), what's the level of statistical significance needed (traditionally\n",
    "$\\mathrm{p}<0.05,$ but must consider multiple testing\n",
    "corrections)."
   ]
  },
  {
   "cell_type": "markdown",
   "metadata": {},
   "source": [
    "# T-test power/N\n",
    "\n",
    "The `power.t.test()` empirically estimates power or sample size of a t-test for differences in means. If we have 20 samples in each of two groups (e.g., control versus treatment), and the standard deviation for whatever we’re measuring is 2.3, and we’re expecting a true difference in means between the groups of 2, what’s the power to detect this effect?"
   ]
  },
  {
   "cell_type": "code",
   "execution_count": 224,
   "metadata": {},
   "outputs": [
    {
     "data": {
      "text/plain": [
       "\n",
       "     Two-sample t test power calculation \n",
       "\n",
       "              n = 20\n",
       "          delta = 2\n",
       "             sd = 2.3\n",
       "      sig.level = 0.05\n",
       "          power = 0.7641668\n",
       "    alternative = two.sided\n",
       "\n",
       "NOTE: n is number in *each* group\n"
      ]
     },
     "metadata": {},
     "output_type": "display_data"
    }
   ],
   "source": [
    "power.t.test(n=20, delta=2, sd=2.3)"
   ]
  },
  {
   "cell_type": "markdown",
   "metadata": {},
   "source": [
    "What's the sample size we'd need to detect a\n",
    "difference of 0.8 given a standard deviation of 1.5 ,\n",
    "assuming we want $80 \\%$ power?"
   ]
  },
  {
   "cell_type": "code",
   "execution_count": 225,
   "metadata": {},
   "outputs": [
    {
     "data": {
      "text/plain": [
       "\n",
       "     Two-sample t test power calculation \n",
       "\n",
       "              n = 56.16413\n",
       "          delta = 0.8\n",
       "             sd = 1.5\n",
       "      sig.level = 0.05\n",
       "          power = 0.8\n",
       "    alternative = two.sided\n",
       "\n",
       "NOTE: n is number in *each* group\n"
      ]
     },
     "metadata": {},
     "output_type": "display_data"
    }
   ],
   "source": [
    "power.t.test(power=.80, delta=.8, sd=1.5)"
   ]
  },
  {
   "cell_type": "markdown",
   "metadata": {},
   "source": [
    "# Proportions power/N\n",
    "\n",
    "What about a two-sample proportion test (e.g., chi-\n",
    "square test)? If we have two groups (control and\n",
    "treatment), and we're measuring some outcome\n",
    "(e.g., infected yes/no), and we know that the proportion of infected controls is $80 \\%$ but $20 \\%$ in\n",
    "treated, what's the power to detect this effect in 5 samples per group?"
   ]
  },
  {
   "cell_type": "code",
   "execution_count": 226,
   "metadata": {},
   "outputs": [
    {
     "data": {
      "text/plain": [
       "\n",
       "     Two-sample comparison of proportions power calculation \n",
       "\n",
       "              n = 5\n",
       "             p1 = 0.8\n",
       "             p2 = 0.2\n",
       "      sig.level = 0.05\n",
       "          power = 0.4688159\n",
       "    alternative = two.sided\n",
       "\n",
       "NOTE: n is number in *each* group\n"
      ]
     },
     "metadata": {},
     "output_type": "display_data"
    }
   ],
   "source": [
    "power.prop.test(n=5, p1=0.8, p2=0.2)"
   ]
  },
  {
   "cell_type": "markdown",
   "metadata": {},
   "source": [
    "How many samples would we need for 90% power?"
   ]
  },
  {
   "cell_type": "code",
   "execution_count": 227,
   "metadata": {},
   "outputs": [
    {
     "data": {
      "text/plain": [
       "\n",
       "     Two-sample comparison of proportions power calculation \n",
       "\n",
       "              n = 12.37701\n",
       "             p1 = 0.8\n",
       "             p2 = 0.2\n",
       "      sig.level = 0.05\n",
       "          power = 0.9\n",
       "    alternative = two.sided\n",
       "\n",
       "NOTE: n is number in *each* group\n"
      ]
     },
     "metadata": {},
     "output_type": "display_data"
    }
   ],
   "source": [
    "power.prop.test(power=0.9, p1=0.8, p2=0.2)"
   ]
  },
  {
   "cell_type": "markdown",
   "metadata": {},
   "source": [
    "Also check out the pwr package which has power\n",
    "calculation functions for other statistical tests.\n",
    "\n",
    "\n",
    "|Function | Power calculations for|\n",
    "|:--------|:-----------------------|\n",
    "|pwr.2p.test() |\tTwo proportions (equal n)\n",
    "|pwr.2p2n.test()| \tTwo proportions (unequal n)\n",
    "|pwr.anova.test()| \tBalanced one way ANOVA\n",
    "|pwr.chisq.test() |\tChi-square test\n",
    "|pwr.f2.test()| \tGeneral linear model\n",
    "|pwr.p.test()| \tProportion (one sample)\n",
    "|pwr.r.test()| \tCorrelation\n",
    "|pwr.t.test()| \tT-tests (one sample, 2 sample, paired)\n",
    "|pwr.t2n.test()|T-test (two samples with unequal n)\n",
    "\n"
   ]
  },
  {
   "cell_type": "markdown",
   "metadata": {},
   "source": [
    "\\begin{exercise}\n",
    "1. You're doing a gene expression experiment. What's your power to detect a 2-fold change in a gene with a standard deviation of $0.7,$ given 3 samples? (Note - fold change is usually given on the $\\log _{2}$ scale, so a 2 -fold change would be a delta of $1 .$ That is, if the fold change is $2 x,$ then $\\log _{2}(2)=1,$ and you should use 1 in the calculation, not 2 ).\n",
    "\n",
    "2. How many samples would you need to have $80 \\%$ power to detect this effect?\n",
    "\n",
    "3. You're doing a population study looking at the effect of a SNP on disease X. Disease X has a\n",
    "baseline prevalence of $5 \\%$ in the population, but you suspect the SNP might increase the risk of disease $\\mathrm{X}$ by $10 \\%$ (this is typical for SNP effects on common, complex diseases). How many samples do you need to have $80 \\%$ power to detect this effect, given that you want a statistical significance of $p<0.001 ?$\n",
    "\n",
    "\\end{exercise}\n"
   ]
  },
  {
   "cell_type": "markdown",
   "metadata": {},
   "source": [
    "**ANSWER**"
   ]
  },
  {
   "cell_type": "code",
   "execution_count": 228,
   "metadata": {},
   "outputs": [
    {
     "data": {
      "text/html": [
       "0.270909547145181"
      ],
      "text/latex": [
       "0.270909547145181"
      ],
      "text/markdown": [
       "0.270909547145181"
      ],
      "text/plain": [
       "[1] 0.2709095"
      ]
     },
     "metadata": {},
     "output_type": "display_data"
    }
   ],
   "source": [
    "#exercise\n",
    "#1 power\n",
    "power.t.test(n=3, delta=1, sd=0.7)$power\n"
   ]
  },
  {
   "cell_type": "code",
   "execution_count": 229,
   "metadata": {},
   "outputs": [
    {
     "data": {
      "text/html": [
       "8.76471066481821"
      ],
      "text/latex": [
       "8.76471066481821"
      ],
      "text/markdown": [
       "8.76471066481821"
      ],
      "text/plain": [
       "[1] 8.764711"
      ]
     },
     "metadata": {},
     "output_type": "display_data"
    }
   ],
   "source": [
    "#2 number of samples\n",
    "power.t.test(power=.8, delta=1, sd=0.7)$n\n"
   ]
  },
  {
   "cell_type": "code",
   "execution_count": 230,
   "metadata": {},
   "outputs": [
    {
     "data": {
      "text/html": [
       "67946.8180660198"
      ],
      "text/latex": [
       "67946.8180660198"
      ],
      "text/markdown": [
       "67946.8180660198"
      ],
      "text/plain": [
       "[1] 67946.82"
      ]
     },
     "metadata": {},
     "output_type": "display_data"
    }
   ],
   "source": [
    "#3 number of samples\n",
    "power.prop.test(power=.80, p1=.05, p2=.055, sig.level=.001)$n"
   ]
  },
  {
   "cell_type": "code",
   "execution_count": null,
   "metadata": {},
   "outputs": [],
   "source": []
  }
 ],
 "metadata": {
  "kernelspec": {
   "display_name": "R",
   "language": "R",
   "name": "ir"
  },
  "latex_envs": {
   "LaTeX_envs_menu_present": true,
   "autoclose": false,
   "autocomplete": true,
   "bibliofile": "biblio.bib",
   "cite_by": "apalike",
   "current_citInitial": 1,
   "eqLabelWithNumbers": true,
   "eqNumInitial": 1,
   "hotkeys": {
    "equation": "Ctrl-E",
    "itemize": "Ctrl-I"
   },
   "labels_anchors": false,
   "latex_user_defs": false,
   "report_style_numbering": false,
   "user_envs_cfg": false
  },
  "nbTranslate": {
   "displayLangs": [
    "*"
   ],
   "hotkey": "alt-t",
   "langInMainMenu": true,
   "sourceLang": "en",
   "targetLang": "fr",
   "useGoogleTranslate": true
  },
  "toc": {
   "base_numbering": 1,
   "nav_menu": {},
   "number_sections": true,
   "sideBar": true,
   "skip_h1_title": false,
   "title_cell": "Table of Contents",
   "title_sidebar": "Contents",
   "toc_cell": true,
   "toc_position": {
    "height": "calc(100% - 180px)",
    "left": "10px",
    "top": "150px",
    "width": "295.457px"
   },
   "toc_section_display": true,
   "toc_window_display": false
  },
  "varInspector": {
   "cols": {
    "lenName": 16,
    "lenType": 16,
    "lenVar": 40
   },
   "kernels_config": {
    "python": {
     "delete_cmd_postfix": "",
     "delete_cmd_prefix": "del ",
     "library": "var_list.py",
     "varRefreshCmd": "print(var_dic_list())"
    },
    "r": {
     "delete_cmd_postfix": ") ",
     "delete_cmd_prefix": "rm(",
     "library": "var_list.r",
     "varRefreshCmd": "cat(var_dic_list()) "
    }
   },
   "types_to_exclude": [
    "module",
    "function",
    "builtin_function_or_method",
    "instance",
    "_Feature"
   ],
   "window_display": false
  }
 },
 "nbformat": 4,
 "nbformat_minor": 4
}
